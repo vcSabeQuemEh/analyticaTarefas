{
 "cells": [
  {
   "cell_type": "code",
   "execution_count": 176,
   "id": "3bc7ff8d-48f1-4ea1-b9c3-7877ccafc1d4",
   "metadata": {},
   "outputs": [],
   "source": [
    "import pandas as pd\n",
    "import plotly.express as px\n",
    "#recebimento e exclusão de dados irrelevantes para a analise da base pib\n",
    "base_pib = pd.read_csv('pib_uf_antigo.csv')\n",
    "base_pib = base_pib.drop(['impostos_liquidos','va',\t'va_agropecuaria',\t'va_industria',\t'va_servicos','va_adespss'],axis = 1) #remove colunas não utilizadas\n",
    "remove_anos = base_pib.loc[base_pib['ano'] < 2007] #remove os anos que não serão utilizados\n",
    "\n",
    "base_pib = base_pib.drop(remove_anos.index, axis = 0)\n",
    "# display(base_pib)"
   ]
  },
  {
   "cell_type": "code",
   "execution_count": 177,
   "id": "3c8dd0a5-51f3-4757-932f-d721fb278cb6",
   "metadata": {},
   "outputs": [],
   "source": [
    "\n",
    "#dicionário com a relação Sigla - id IBGE usadas como identificador cada qual em cada base de dados\n",
    "d = {'AC' : 12, 'AL' :  27, 'AP' :  16,'AM' :  13, 'BA' :  29, 'CE' :  23, 'DF' :  53,\n",
    "'ES' :  32, 'GO' :  52, 'MA' :  21, 'MT' :  51, 'MS':  50, 'MG':  31, 'PA':  15, 'PB': 25,\n",
    "'PR':  41, 'PE' :  26, 'PI' :  22, 'RN' :  24, 'RS' :  43, 'RJ' :  33, 'RO' :  11, 'RR' :  14,\n",
    "'SC' :  42, 'SP' :  35, 'SE':  28,'TO' :  17}\n",
    "\n",
    "#inclui a coluna sigla na base do pib para que podemos fundi-las futuramente\n",
    "for sigla, id in list(d.items()):\n",
    "    #o código abaixo significa basicamente pegue todas as linhas com o id informado e crie uma coluna chamada 'sigla_uf' anexando a sigla informada\n",
    "    base_pib.loc[base_pib['id_uf'] == id , \"sigla_uf\"] = sigla\n",
    "\n",
    "# base_pib.loc[base_pib['id_uf'] == 35 , \"sigla_uf\"] = \"SP\" (exemplo em execução do código)\n",
    "\n",
    "# display(base_pib) #verificar a existencia da nova coluna com as informações das siglas nos lugares corrertos\n"
   ]
  },
  {
   "cell_type": "code",
   "execution_count": 179,
   "id": "09c5f08e-a425-49c8-bf9f-f40b2fae91ad",
   "metadata": {},
   "outputs": [],
   "source": [
    "##recebimento e exclusão de dados irrelevantes para a analise da base indices educacionais\n",
    "\n",
    "base_ind_educ = pd.read_csv('indicadores_educ_uf.csv')\n",
    "\n",
    "base_ind_educ = base_ind_educ.loc[:,['ano','sigla_uf','localizacao','rede','taxa_aprovacao_ef','taxa_aprovacao_em','taxa_reprovacao_ef','taxa_reprovacao_em','taxa_abandono_ef' ,'taxa_abandono_em']]\n",
    "\n",
    "remove_anos = base_ind_educ.loc[base_ind_educ['ano'] < 2007]\n",
    "base_ind_educ = base_ind_educ.drop(remove_anos.index, axis = 0)\n",
    "\n",
    "remove_anos = base_ind_educ.loc[base_ind_educ['ano'] > 2012]\n",
    "base_ind_educ = base_ind_educ.drop(remove_anos.index, axis = 0)\n",
    "\n",
    "remove_atributo = base_ind_educ.loc[base_ind_educ['rede'] != 'total']\n",
    "base_ind_educ = base_ind_educ.drop(remove_atributo.index, axis = 0)\n",
    "\n",
    "remove_atributo = base_ind_educ.loc[base_ind_educ['localizacao'] != 'total']\n",
    "base_ind_educ = base_ind_educ.drop(remove_atributo.index, axis = 0)\n",
    "\n",
    "\n",
    "\n",
    "# display(base_ind_educ)\n"
   ]
  },
  {
   "cell_type": "code",
   "execution_count": 180,
   "id": "81be947e-1a34-4459-9442-fb86f7d92336",
   "metadata": {},
   "outputs": [],
   "source": [
    "#mesclando as duas tabelas pois contêm os atributos de sigla e ano como referências para união das informações\n",
    "\n",
    "df_final = base_pib.merge(base_ind_educ)\n",
    "\n",
    "# display(df_final)"
   ]
  },
  {
   "cell_type": "code",
   "execution_count": 181,
   "id": "485acb6d-e1e9-4426-b6e7-9853da16ff45",
   "metadata": {},
   "outputs": [
    {
     "data": {
      "text/html": [
       "<div>\n",
       "<style scoped>\n",
       "    .dataframe tbody tr th:only-of-type {\n",
       "        vertical-align: middle;\n",
       "    }\n",
       "\n",
       "    .dataframe tbody tr th {\n",
       "        vertical-align: top;\n",
       "    }\n",
       "\n",
       "    .dataframe thead th {\n",
       "        text-align: right;\n",
       "    }\n",
       "</style>\n",
       "<table border=\"1\" class=\"dataframe\">\n",
       "  <thead>\n",
       "    <tr style=\"text-align: right;\">\n",
       "      <th></th>\n",
       "      <th>id_uf</th>\n",
       "      <th>ano</th>\n",
       "      <th>pib</th>\n",
       "      <th>sigla_uf</th>\n",
       "      <th>pib_x100bi</th>\n",
       "      <th>localizacao</th>\n",
       "      <th>rede</th>\n",
       "      <th>taxa_aprovacao_ef</th>\n",
       "      <th>taxa_aprovacao_em</th>\n",
       "      <th>taxa_reprovacao_ef</th>\n",
       "      <th>taxa_reprovacao_em</th>\n",
       "      <th>taxa_abandono_ef</th>\n",
       "      <th>taxa_abandono_em</th>\n",
       "      <th>media_pib_ano</th>\n",
       "      <th>media_tx_ap_ef</th>\n",
       "      <th>media_tx_ap_em</th>\n",
       "    </tr>\n",
       "  </thead>\n",
       "  <tbody>\n",
       "    <tr>\n",
       "      <th>0</th>\n",
       "      <td>11</td>\n",
       "      <td>2007</td>\n",
       "      <td>15002734000</td>\n",
       "      <td>RO</td>\n",
       "      <td>1.500273</td>\n",
       "      <td>total</td>\n",
       "      <td>total</td>\n",
       "      <td>81.3</td>\n",
       "      <td>74.4</td>\n",
       "      <td>14.2</td>\n",
       "      <td>12.4</td>\n",
       "      <td>4.5</td>\n",
       "      <td>13.2</td>\n",
       "      <td>2.231474e+10</td>\n",
       "      <td>82.300000</td>\n",
       "      <td>75.616667</td>\n",
       "    </tr>\n",
       "    <tr>\n",
       "      <th>1</th>\n",
       "      <td>11</td>\n",
       "      <td>2008</td>\n",
       "      <td>17887799000</td>\n",
       "      <td>RO</td>\n",
       "      <td>1.788780</td>\n",
       "      <td>total</td>\n",
       "      <td>total</td>\n",
       "      <td>81.0</td>\n",
       "      <td>75.2</td>\n",
       "      <td>14.8</td>\n",
       "      <td>12.1</td>\n",
       "      <td>4.2</td>\n",
       "      <td>12.7</td>\n",
       "      <td>2.231474e+10</td>\n",
       "      <td>82.300000</td>\n",
       "      <td>75.616667</td>\n",
       "    </tr>\n",
       "    <tr>\n",
       "      <th>2</th>\n",
       "      <td>11</td>\n",
       "      <td>2009</td>\n",
       "      <td>20236194000</td>\n",
       "      <td>RO</td>\n",
       "      <td>2.023619</td>\n",
       "      <td>total</td>\n",
       "      <td>total</td>\n",
       "      <td>82.1</td>\n",
       "      <td>76.1</td>\n",
       "      <td>14.5</td>\n",
       "      <td>12.3</td>\n",
       "      <td>3.4</td>\n",
       "      <td>11.6</td>\n",
       "      <td>2.231474e+10</td>\n",
       "      <td>82.300000</td>\n",
       "      <td>75.616667</td>\n",
       "    </tr>\n",
       "    <tr>\n",
       "      <th>3</th>\n",
       "      <td>11</td>\n",
       "      <td>2010</td>\n",
       "      <td>23560644000</td>\n",
       "      <td>RO</td>\n",
       "      <td>2.356064</td>\n",
       "      <td>total</td>\n",
       "      <td>total</td>\n",
       "      <td>82.2</td>\n",
       "      <td>76.7</td>\n",
       "      <td>14.5</td>\n",
       "      <td>11.8</td>\n",
       "      <td>3.3</td>\n",
       "      <td>11.5</td>\n",
       "      <td>2.231474e+10</td>\n",
       "      <td>82.300000</td>\n",
       "      <td>75.616667</td>\n",
       "    </tr>\n",
       "    <tr>\n",
       "      <th>4</th>\n",
       "      <td>11</td>\n",
       "      <td>2011</td>\n",
       "      <td>27839144000</td>\n",
       "      <td>RO</td>\n",
       "      <td>2.783914</td>\n",
       "      <td>total</td>\n",
       "      <td>total</td>\n",
       "      <td>82.8</td>\n",
       "      <td>75.1</td>\n",
       "      <td>14.2</td>\n",
       "      <td>13.3</td>\n",
       "      <td>3.0</td>\n",
       "      <td>11.6</td>\n",
       "      <td>2.231474e+10</td>\n",
       "      <td>82.300000</td>\n",
       "      <td>75.616667</td>\n",
       "    </tr>\n",
       "    <tr>\n",
       "      <th>...</th>\n",
       "      <td>...</td>\n",
       "      <td>...</td>\n",
       "      <td>...</td>\n",
       "      <td>...</td>\n",
       "      <td>...</td>\n",
       "      <td>...</td>\n",
       "      <td>...</td>\n",
       "      <td>...</td>\n",
       "      <td>...</td>\n",
       "      <td>...</td>\n",
       "      <td>...</td>\n",
       "      <td>...</td>\n",
       "      <td>...</td>\n",
       "      <td>...</td>\n",
       "      <td>...</td>\n",
       "      <td>...</td>\n",
       "    </tr>\n",
       "    <tr>\n",
       "      <th>157</th>\n",
       "      <td>53</td>\n",
       "      <td>2008</td>\n",
       "      <td>117571878000</td>\n",
       "      <td>DF</td>\n",
       "      <td>11.757188</td>\n",
       "      <td>total</td>\n",
       "      <td>total</td>\n",
       "      <td>89.2</td>\n",
       "      <td>82.0</td>\n",
       "      <td>8.9</td>\n",
       "      <td>13.0</td>\n",
       "      <td>1.9</td>\n",
       "      <td>5.0</td>\n",
       "      <td>1.391048e+11</td>\n",
       "      <td>87.683333</td>\n",
       "      <td>75.466667</td>\n",
       "    </tr>\n",
       "    <tr>\n",
       "      <th>158</th>\n",
       "      <td>53</td>\n",
       "      <td>2009</td>\n",
       "      <td>131487268000</td>\n",
       "      <td>DF</td>\n",
       "      <td>13.148727</td>\n",
       "      <td>total</td>\n",
       "      <td>total</td>\n",
       "      <td>88.7</td>\n",
       "      <td>76.6</td>\n",
       "      <td>9.7</td>\n",
       "      <td>16.1</td>\n",
       "      <td>1.6</td>\n",
       "      <td>7.3</td>\n",
       "      <td>1.391048e+11</td>\n",
       "      <td>87.683333</td>\n",
       "      <td>75.466667</td>\n",
       "    </tr>\n",
       "    <tr>\n",
       "      <th>159</th>\n",
       "      <td>53</td>\n",
       "      <td>2010</td>\n",
       "      <td>149906319000</td>\n",
       "      <td>DF</td>\n",
       "      <td>14.990632</td>\n",
       "      <td>total</td>\n",
       "      <td>total</td>\n",
       "      <td>88.7</td>\n",
       "      <td>74.8</td>\n",
       "      <td>10.1</td>\n",
       "      <td>18.6</td>\n",
       "      <td>1.2</td>\n",
       "      <td>6.6</td>\n",
       "      <td>1.391048e+11</td>\n",
       "      <td>87.683333</td>\n",
       "      <td>75.466667</td>\n",
       "    </tr>\n",
       "    <tr>\n",
       "      <th>160</th>\n",
       "      <td>53</td>\n",
       "      <td>2011</td>\n",
       "      <td>164482129000</td>\n",
       "      <td>DF</td>\n",
       "      <td>16.448213</td>\n",
       "      <td>total</td>\n",
       "      <td>total</td>\n",
       "      <td>88.1</td>\n",
       "      <td>74.2</td>\n",
       "      <td>10.8</td>\n",
       "      <td>18.5</td>\n",
       "      <td>1.1</td>\n",
       "      <td>7.3</td>\n",
       "      <td>1.391048e+11</td>\n",
       "      <td>87.683333</td>\n",
       "      <td>75.466667</td>\n",
       "    </tr>\n",
       "    <tr>\n",
       "      <th>161</th>\n",
       "      <td>53</td>\n",
       "      <td>2012</td>\n",
       "      <td>171235534000</td>\n",
       "      <td>DF</td>\n",
       "      <td>17.123553</td>\n",
       "      <td>total</td>\n",
       "      <td>total</td>\n",
       "      <td>87.6</td>\n",
       "      <td>74.1</td>\n",
       "      <td>11.0</td>\n",
       "      <td>18.6</td>\n",
       "      <td>1.4</td>\n",
       "      <td>7.3</td>\n",
       "      <td>1.391048e+11</td>\n",
       "      <td>87.683333</td>\n",
       "      <td>75.466667</td>\n",
       "    </tr>\n",
       "  </tbody>\n",
       "</table>\n",
       "<p>162 rows × 16 columns</p>\n",
       "</div>"
      ],
      "text/plain": [
       "     id_uf   ano           pib sigla_uf  pib_x100bi localizacao   rede  \\\n",
       "0       11  2007   15002734000       RO    1.500273       total  total   \n",
       "1       11  2008   17887799000       RO    1.788780       total  total   \n",
       "2       11  2009   20236194000       RO    2.023619       total  total   \n",
       "3       11  2010   23560644000       RO    2.356064       total  total   \n",
       "4       11  2011   27839144000       RO    2.783914       total  total   \n",
       "..     ...   ...           ...      ...         ...         ...    ...   \n",
       "157     53  2008  117571878000       DF   11.757188       total  total   \n",
       "158     53  2009  131487268000       DF   13.148727       total  total   \n",
       "159     53  2010  149906319000       DF   14.990632       total  total   \n",
       "160     53  2011  164482129000       DF   16.448213       total  total   \n",
       "161     53  2012  171235534000       DF   17.123553       total  total   \n",
       "\n",
       "     taxa_aprovacao_ef  taxa_aprovacao_em  taxa_reprovacao_ef  \\\n",
       "0                 81.3               74.4                14.2   \n",
       "1                 81.0               75.2                14.8   \n",
       "2                 82.1               76.1                14.5   \n",
       "3                 82.2               76.7                14.5   \n",
       "4                 82.8               75.1                14.2   \n",
       "..                 ...                ...                 ...   \n",
       "157               89.2               82.0                 8.9   \n",
       "158               88.7               76.6                 9.7   \n",
       "159               88.7               74.8                10.1   \n",
       "160               88.1               74.2                10.8   \n",
       "161               87.6               74.1                11.0   \n",
       "\n",
       "     taxa_reprovacao_em  taxa_abandono_ef  taxa_abandono_em  media_pib_ano  \\\n",
       "0                  12.4               4.5              13.2   2.231474e+10   \n",
       "1                  12.1               4.2              12.7   2.231474e+10   \n",
       "2                  12.3               3.4              11.6   2.231474e+10   \n",
       "3                  11.8               3.3              11.5   2.231474e+10   \n",
       "4                  13.3               3.0              11.6   2.231474e+10   \n",
       "..                  ...               ...               ...            ...   \n",
       "157                13.0               1.9               5.0   1.391048e+11   \n",
       "158                16.1               1.6               7.3   1.391048e+11   \n",
       "159                18.6               1.2               6.6   1.391048e+11   \n",
       "160                18.5               1.1               7.3   1.391048e+11   \n",
       "161                18.6               1.4               7.3   1.391048e+11   \n",
       "\n",
       "     media_tx_ap_ef  media_tx_ap_em  \n",
       "0         82.300000       75.616667  \n",
       "1         82.300000       75.616667  \n",
       "2         82.300000       75.616667  \n",
       "3         82.300000       75.616667  \n",
       "4         82.300000       75.616667  \n",
       "..              ...             ...  \n",
       "157       87.683333       75.466667  \n",
       "158       87.683333       75.466667  \n",
       "159       87.683333       75.466667  \n",
       "160       87.683333       75.466667  \n",
       "161       87.683333       75.466667  \n",
       "\n",
       "[162 rows x 16 columns]"
      ]
     },
     "metadata": {},
     "output_type": "display_data"
    }
   ],
   "source": [
    "#criar coluna de média anual dos estdos\n",
    "#obs: linhas que possuem o mesmo ano e estado receberão o mesmo valor de media anual pois se trata da média no periodo (2007 - 2012)\n",
    "\n",
    "#media de pib\n",
    "for estado in df_final[\"sigla_uf\"]:\n",
    "\n",
    "    pib_estado_media = df_final.loc[df_final[\"sigla_uf\"] == estado, \"pib\"].mean()\n",
    "\n",
    "    df_final.loc[df_final[\"sigla_uf\"] == estado, 'media_pib_ano'] = pib_estado_media\n",
    "    \n",
    "# display(df_final)\n",
    "\n",
    "#media de aprovação ensino fundamental\n",
    "for estado in df_final[\"sigla_uf\"]:\n",
    "\n",
    "    tx_ap_ef_estado_media = df_final.loc[df_final[\"sigla_uf\"] == estado, \"taxa_aprovacao_ef\"].mean()\n",
    "\n",
    "    df_final.loc[df_final[\"sigla_uf\"] == estado, 'media_tx_ap_ef'] = tx_ap_ef_estado_media\n",
    "# display(df_final.head(20))\n",
    "\n",
    "#media aprovação ensino médio\n",
    "for estado in df_final[\"sigla_uf\"]:\n",
    "\n",
    "    tx_ap_em_estado_media = df_final.loc[df_final[\"sigla_uf\"] == estado, \"taxa_aprovacao_em\"].mean()\n",
    "\n",
    "    df_final.loc[df_final[\"sigla_uf\"] == estado, 'media_tx_ap_em'] = tx_ap_em_estado_media\n",
    "\n",
    "# display(df_final)"
   ]
  },
  {
   "cell_type": "code",
   "execution_count": 182,
   "id": "ce69273c-8bfa-4a38-a1cd-b1fcecdd3d7a",
   "metadata": {},
   "outputs": [
    {
     "data": {
      "text/html": [
       "<div>\n",
       "<style scoped>\n",
       "    .dataframe tbody tr th:only-of-type {\n",
       "        vertical-align: middle;\n",
       "    }\n",
       "\n",
       "    .dataframe tbody tr th {\n",
       "        vertical-align: top;\n",
       "    }\n",
       "\n",
       "    .dataframe thead th {\n",
       "        text-align: right;\n",
       "    }\n",
       "</style>\n",
       "<table border=\"1\" class=\"dataframe\">\n",
       "  <thead>\n",
       "    <tr style=\"text-align: right;\">\n",
       "      <th></th>\n",
       "      <th>id_uf</th>\n",
       "      <th>ano</th>\n",
       "      <th>pib</th>\n",
       "      <th>sigla_uf</th>\n",
       "      <th>pib_x100bi</th>\n",
       "      <th>localizacao</th>\n",
       "      <th>rede</th>\n",
       "      <th>taxa_aprovacao_ef</th>\n",
       "      <th>taxa_aprovacao_em</th>\n",
       "      <th>taxa_reprovacao_ef</th>\n",
       "      <th>taxa_reprovacao_em</th>\n",
       "      <th>taxa_abandono_ef</th>\n",
       "      <th>taxa_abandono_em</th>\n",
       "      <th>media_pib_ano</th>\n",
       "      <th>media_tx_ap_ef</th>\n",
       "      <th>media_tx_ap_em</th>\n",
       "    </tr>\n",
       "  </thead>\n",
       "  <tbody>\n",
       "    <tr>\n",
       "      <th>0</th>\n",
       "      <td>11</td>\n",
       "      <td>2007</td>\n",
       "      <td>1.500273e+10</td>\n",
       "      <td>RO</td>\n",
       "      <td>1.500273</td>\n",
       "      <td>total</td>\n",
       "      <td>total</td>\n",
       "      <td>81.300000</td>\n",
       "      <td>74.400000</td>\n",
       "      <td>14.200000</td>\n",
       "      <td>12.400000</td>\n",
       "      <td>4.500000</td>\n",
       "      <td>13.200000</td>\n",
       "      <td>2.231474e+10</td>\n",
       "      <td>82.300000</td>\n",
       "      <td>75.616667</td>\n",
       "    </tr>\n",
       "    <tr>\n",
       "      <th>1</th>\n",
       "      <td>11</td>\n",
       "      <td>2008</td>\n",
       "      <td>1.788780e+10</td>\n",
       "      <td>RO</td>\n",
       "      <td>1.788780</td>\n",
       "      <td>total</td>\n",
       "      <td>total</td>\n",
       "      <td>81.000000</td>\n",
       "      <td>75.200000</td>\n",
       "      <td>14.800000</td>\n",
       "      <td>12.100000</td>\n",
       "      <td>4.200000</td>\n",
       "      <td>12.700000</td>\n",
       "      <td>2.231474e+10</td>\n",
       "      <td>82.300000</td>\n",
       "      <td>75.616667</td>\n",
       "    </tr>\n",
       "    <tr>\n",
       "      <th>2</th>\n",
       "      <td>11</td>\n",
       "      <td>2009</td>\n",
       "      <td>2.023619e+10</td>\n",
       "      <td>RO</td>\n",
       "      <td>2.023619</td>\n",
       "      <td>total</td>\n",
       "      <td>total</td>\n",
       "      <td>82.100000</td>\n",
       "      <td>76.100000</td>\n",
       "      <td>14.500000</td>\n",
       "      <td>12.300000</td>\n",
       "      <td>3.400000</td>\n",
       "      <td>11.600000</td>\n",
       "      <td>2.231474e+10</td>\n",
       "      <td>82.300000</td>\n",
       "      <td>75.616667</td>\n",
       "    </tr>\n",
       "    <tr>\n",
       "      <th>3</th>\n",
       "      <td>11</td>\n",
       "      <td>2010</td>\n",
       "      <td>2.356064e+10</td>\n",
       "      <td>RO</td>\n",
       "      <td>2.356064</td>\n",
       "      <td>total</td>\n",
       "      <td>total</td>\n",
       "      <td>82.200000</td>\n",
       "      <td>76.700000</td>\n",
       "      <td>14.500000</td>\n",
       "      <td>11.800000</td>\n",
       "      <td>3.300000</td>\n",
       "      <td>11.500000</td>\n",
       "      <td>2.231474e+10</td>\n",
       "      <td>82.300000</td>\n",
       "      <td>75.616667</td>\n",
       "    </tr>\n",
       "    <tr>\n",
       "      <th>4</th>\n",
       "      <td>11</td>\n",
       "      <td>2011</td>\n",
       "      <td>2.783914e+10</td>\n",
       "      <td>RO</td>\n",
       "      <td>2.783914</td>\n",
       "      <td>total</td>\n",
       "      <td>total</td>\n",
       "      <td>82.800000</td>\n",
       "      <td>75.100000</td>\n",
       "      <td>14.200000</td>\n",
       "      <td>13.300000</td>\n",
       "      <td>3.000000</td>\n",
       "      <td>11.600000</td>\n",
       "      <td>2.231474e+10</td>\n",
       "      <td>82.300000</td>\n",
       "      <td>75.616667</td>\n",
       "    </tr>\n",
       "    <tr>\n",
       "      <th>...</th>\n",
       "      <td>...</td>\n",
       "      <td>...</td>\n",
       "      <td>...</td>\n",
       "      <td>...</td>\n",
       "      <td>...</td>\n",
       "      <td>...</td>\n",
       "      <td>...</td>\n",
       "      <td>...</td>\n",
       "      <td>...</td>\n",
       "      <td>...</td>\n",
       "      <td>...</td>\n",
       "      <td>...</td>\n",
       "      <td>...</td>\n",
       "      <td>...</td>\n",
       "      <td>...</td>\n",
       "      <td>...</td>\n",
       "    </tr>\n",
       "    <tr>\n",
       "      <th>163</th>\n",
       "      <td>0</td>\n",
       "      <td>2008</td>\n",
       "      <td>1.123038e+11</td>\n",
       "      <td>media</td>\n",
       "      <td>11.230383</td>\n",
       "      <td>total</td>\n",
       "      <td>total</td>\n",
       "      <td>82.207407</td>\n",
       "      <td>74.155556</td>\n",
       "      <td>11.348148</td>\n",
       "      <td>12.855556</td>\n",
       "      <td>4.937037</td>\n",
       "      <td>14.496296</td>\n",
       "      <td>1.310997e+11</td>\n",
       "      <td>84.176543</td>\n",
       "      <td>75.294444</td>\n",
       "    </tr>\n",
       "    <tr>\n",
       "      <th>164</th>\n",
       "      <td>0</td>\n",
       "      <td>2009</td>\n",
       "      <td>1.199779e+11</td>\n",
       "      <td>media</td>\n",
       "      <td>11.997793</td>\n",
       "      <td>total</td>\n",
       "      <td>total</td>\n",
       "      <td>83.751852</td>\n",
       "      <td>75.022222</td>\n",
       "      <td>11.737037</td>\n",
       "      <td>12.103704</td>\n",
       "      <td>4.144444</td>\n",
       "      <td>13.240741</td>\n",
       "      <td>1.310997e+11</td>\n",
       "      <td>84.176543</td>\n",
       "      <td>75.294444</td>\n",
       "    </tr>\n",
       "    <tr>\n",
       "      <th>165</th>\n",
       "      <td>0</td>\n",
       "      <td>2010</td>\n",
       "      <td>1.396328e+11</td>\n",
       "      <td>media</td>\n",
       "      <td>13.963277</td>\n",
       "      <td>total</td>\n",
       "      <td>total</td>\n",
       "      <td>85.059259</td>\n",
       "      <td>76.185185</td>\n",
       "      <td>12.007407</td>\n",
       "      <td>11.322222</td>\n",
       "      <td>3.618519</td>\n",
       "      <td>11.807407</td>\n",
       "      <td>1.310997e+11</td>\n",
       "      <td>84.176543</td>\n",
       "      <td>75.294444</td>\n",
       "    </tr>\n",
       "    <tr>\n",
       "      <th>166</th>\n",
       "      <td>0</td>\n",
       "      <td>2011</td>\n",
       "      <td>1.534449e+11</td>\n",
       "      <td>media</td>\n",
       "      <td>15.344494</td>\n",
       "      <td>total</td>\n",
       "      <td>total</td>\n",
       "      <td>86.122222</td>\n",
       "      <td>76.162963</td>\n",
       "      <td>12.566667</td>\n",
       "      <td>10.692593</td>\n",
       "      <td>3.185185</td>\n",
       "      <td>11.270370</td>\n",
       "      <td>1.310997e+11</td>\n",
       "      <td>84.176543</td>\n",
       "      <td>75.294444</td>\n",
       "    </tr>\n",
       "    <tr>\n",
       "      <th>167</th>\n",
       "      <td>0</td>\n",
       "      <td>2012</td>\n",
       "      <td>1.626701e+11</td>\n",
       "      <td>media</td>\n",
       "      <td>16.267015</td>\n",
       "      <td>total</td>\n",
       "      <td>total</td>\n",
       "      <td>86.577778</td>\n",
       "      <td>76.581481</td>\n",
       "      <td>12.340741</td>\n",
       "      <td>10.318519</td>\n",
       "      <td>3.103704</td>\n",
       "      <td>11.077778</td>\n",
       "      <td>1.310997e+11</td>\n",
       "      <td>84.176543</td>\n",
       "      <td>75.294444</td>\n",
       "    </tr>\n",
       "  </tbody>\n",
       "</table>\n",
       "<p>168 rows × 16 columns</p>\n",
       "</div>"
      ],
      "text/plain": [
       "     id_uf   ano           pib sigla_uf  pib_x100bi localizacao   rede  \\\n",
       "0       11  2007  1.500273e+10       RO    1.500273       total  total   \n",
       "1       11  2008  1.788780e+10       RO    1.788780       total  total   \n",
       "2       11  2009  2.023619e+10       RO    2.023619       total  total   \n",
       "3       11  2010  2.356064e+10       RO    2.356064       total  total   \n",
       "4       11  2011  2.783914e+10       RO    2.783914       total  total   \n",
       "..     ...   ...           ...      ...         ...         ...    ...   \n",
       "163      0  2008  1.123038e+11    media   11.230383       total  total   \n",
       "164      0  2009  1.199779e+11    media   11.997793       total  total   \n",
       "165      0  2010  1.396328e+11    media   13.963277       total  total   \n",
       "166      0  2011  1.534449e+11    media   15.344494       total  total   \n",
       "167      0  2012  1.626701e+11    media   16.267015       total  total   \n",
       "\n",
       "     taxa_aprovacao_ef  taxa_aprovacao_em  taxa_reprovacao_ef  \\\n",
       "0            81.300000          74.400000           14.200000   \n",
       "1            81.000000          75.200000           14.800000   \n",
       "2            82.100000          76.100000           14.500000   \n",
       "3            82.200000          76.700000           14.500000   \n",
       "4            82.800000          75.100000           14.200000   \n",
       "..                 ...                ...                 ...   \n",
       "163          82.207407          74.155556           11.348148   \n",
       "164          83.751852          75.022222           11.737037   \n",
       "165          85.059259          76.185185           12.007407   \n",
       "166          86.122222          76.162963           12.566667   \n",
       "167          86.577778          76.581481           12.340741   \n",
       "\n",
       "     taxa_reprovacao_em  taxa_abandono_ef  taxa_abandono_em  media_pib_ano  \\\n",
       "0             12.400000          4.500000         13.200000   2.231474e+10   \n",
       "1             12.100000          4.200000         12.700000   2.231474e+10   \n",
       "2             12.300000          3.400000         11.600000   2.231474e+10   \n",
       "3             11.800000          3.300000         11.500000   2.231474e+10   \n",
       "4             13.300000          3.000000         11.600000   2.231474e+10   \n",
       "..                  ...               ...               ...            ...   \n",
       "163           12.855556          4.937037         14.496296   1.310997e+11   \n",
       "164           12.103704          4.144444         13.240741   1.310997e+11   \n",
       "165           11.322222          3.618519         11.807407   1.310997e+11   \n",
       "166           10.692593          3.185185         11.270370   1.310997e+11   \n",
       "167           10.318519          3.103704         11.077778   1.310997e+11   \n",
       "\n",
       "     media_tx_ap_ef  media_tx_ap_em  \n",
       "0         82.300000       75.616667  \n",
       "1         82.300000       75.616667  \n",
       "2         82.300000       75.616667  \n",
       "3         82.300000       75.616667  \n",
       "4         82.300000       75.616667  \n",
       "..              ...             ...  \n",
       "163       84.176543       75.294444  \n",
       "164       84.176543       75.294444  \n",
       "165       84.176543       75.294444  \n",
       "166       84.176543       75.294444  \n",
       "167       84.176543       75.294444  \n",
       "\n",
       "[168 rows x 16 columns]"
      ]
     },
     "metadata": {},
     "output_type": "display_data"
    }
   ],
   "source": [
    "#criar linha das médias anuais\n",
    "\n",
    "#cria um dicionario com o objetivo de virar um dataframe para inclusão no df_final - o dicionario precisa ter todos os campos do df_final\n",
    "d = {'id_uf': [] ,'sigla_uf':[], 'ano':[], 'pib':[], 'localizacao': [],'rede': [],'taxa_aprovacao_ef':[]\t,'taxa_aprovacao_em':[]\t,\n",
    "     'taxa_reprovacao_ef':[]\t,'taxa_reprovacao_em':[]\t,'taxa_abandono_ef':[]\t,'taxa_abandono_em':[],'media_pib_ano':[]\t,'media_tx_ap_ef':\t[],\n",
    "     'media_tx_ap_em':[]}\n",
    "\n",
    "#loop para cada ano \n",
    "for ano in range(2007,2012 + 1):\n",
    "\n",
    "    #captura todas as linhas que sejam do ano e pega a coluna de todos os pibs daquele ano e faz a média\n",
    "    media_ano_pib = df_final.loc[df_final['ano'] == ano]['pib'].mean()\n",
    "\n",
    "    #captura todas as linhas que sejam do ano e pega a coluna de todas as taxas de aprovações de ensino fundamental daquele ano e faz a média\n",
    "    media_ano_tx_ap_ef = df_final.loc[df_final['ano'] == ano]['taxa_aprovacao_ef'].mean()\n",
    "    #captura todas as linhas que sejam do ano e pega a coluna de todas as taxas de aprovações de ensino fundamental daquele ano e faz a média\n",
    "    media_ano_tx_ap_em = df_final.loc[df_final['ano'] == ano]['taxa_aprovacao_em'].mean()\n",
    "\n",
    "    #captura todas as linhas que sejam do ano e pega a coluna de todas as taxas de reprovações de ensino fundamental daquele ano e faz a média\n",
    "    media_ano_tx_rp_em = df_final.loc[df_final['ano'] == ano]['taxa_reprovacao_em'].mean()\n",
    "    #captura todas as linhas que sejam do ano e pega a coluna de todas as taxas de reprovações de ensino medio daquele ano e faz a média\n",
    "    media_ano_tx_rp_ef = df_final.loc[df_final['ano'] == ano]['taxa_reprovacao_ef'].mean()\n",
    "\n",
    "    #captura todas as linhas que sejam do ano e pega a coluna de todas as taxas de abandono de ensino fundamental daquele ano e faz a média\n",
    "    media_ano_tx_ab_ef = df_final.loc[df_final['ano'] == ano]['taxa_abandono_ef'].mean()\n",
    "    #captura todas as linhas que sejam do ano e pega a coluna de todas as taxas de abandono de ensino medio daquele ano e faz a média\n",
    "    media_ano_tx_ab_em = df_final.loc[df_final['ano'] == ano]['taxa_abandono_em'].mean()\n",
    "\n",
    "    #captura todas as linhas que sejam do ano e pega a coluna de todas as medias anuais de pib do périodo (2007 - 2012) ano e faz a média\n",
    "    #embora sejam todas iguais em cada ano\n",
    "    media_media_pib = df_final.loc[df_final['ano'] == ano]['media_pib_ano'].mean()\n",
    "    \n",
    "    #captura todas as linhas que sejam do ano e pega a coluna de todas as medias anuais de aprovaçao ensino fundamental do périodo (2007 - 2012) ano e faz a média\n",
    "    #embora sejam todas iguais em cada ano\n",
    "    media_media_tx_ap_ef = df_final.loc[df_final['ano'] == ano]['media_tx_ap_ef'].mean()\n",
    "\n",
    "    #captura todas as linhas que sejam do ano e pega a coluna de todas as medias anuais de aprovação ensino médio do périodo (2007 - 2012) ano e faz a média\n",
    "    #embora sejam todas iguais em cada ano\n",
    "    media_media_tx_ap_em = df_final.loc[df_final['ano'] == ano]['media_tx_ap_em'].mean()\n",
    "\n",
    "    \n",
    "\n",
    "    #insere os dados no dicionario para virar uma linha do dataFrame\n",
    "    #obs.: uma linha para cada ano\n",
    "    d['id_uf'].append(00)\n",
    "    d['sigla_uf'].append('media')\n",
    "    d['localizacao'].append('total') \n",
    "    d['rede'].append('total')\n",
    "    \n",
    "    d['ano'].append(ano)\n",
    "    d['pib'].append(media_ano_pib)\n",
    "    d['taxa_aprovacao_ef'].append(media_ano_tx_ap_ef)\n",
    "    d['taxa_aprovacao_em'].append(media_ano_tx_ap_em)\n",
    "    \n",
    "    d['taxa_reprovacao_em'].append(media_ano_tx_rp_ef)\n",
    "    d['taxa_reprovacao_ef'].append(media_ano_tx_rp_em)\n",
    "    \n",
    "    \n",
    "    d['taxa_abandono_ef'].append(media_ano_tx_ab_ef)\n",
    "    d['taxa_abandono_em'].append(media_ano_tx_ab_em)\n",
    "    \n",
    "    \n",
    "    d['media_pib_ano'].append(media_media_pib )\n",
    "    d['media_tx_ap_ef'].append(media_media_tx_ap_ef)\n",
    "    d['media_tx_ap_em'].append( media_media_tx_ap_em)\n",
    "    \n",
    "#ao final do loop o dicionario estará preenchido com 6 linhas referente aos 6 anos (2007 - 2012)\n",
    "#podendo virar um dataFrame\n",
    "d_media = pd.DataFrame(d)\n",
    "\n",
    "\n",
    "#incorpora linhas com as médias do pib, aprovação,reprovação,abandono,media anual do pib estado,media anual aprovação do ensino fundamental e medio por estado \n",
    "\n",
    "df_final = pd.concat([df_final,d_media], axis = 0,ignore_index = True) #append não funcionava pois foi descontinuado\n",
    "# display(d_media.round(1))\n",
    "# display(df_final)\n"
   ]
  },
  {
   "cell_type": "code",
   "execution_count": 195,
   "id": "d4a6888b-04cb-4a1b-bb37-c72584512352",
   "metadata": {},
   "outputs": [
    {
     "data": {
      "application/vnd.plotly.v1+json": {
       "config": {
        "plotlyServerURL": "https://plot.ly"
       },
       "data": [
        {
         "alignmentgroup": "True",
         "hovertemplate": "sigla_uf=%{x}<br>pib=%{y}<br>ano=%{text}<extra></extra>",
         "legendgroup": "RR",
         "marker": {
          "color": "#636efa",
          "pattern": {
           "shape": ""
          }
         },
         "name": "RR",
         "offsetgroup": "RR",
         "orientation": "v",
         "showlegend": true,
         "text": [
          2007,
          2008,
          2009,
          2010,
          2011,
          2012
         ],
         "textposition": "auto",
         "type": "bar",
         "x": [
          "RR",
          "RR",
          "RR",
          "RR",
          "RR",
          "RR"
         ],
         "xaxis": "x",
         "y": [
          4168599000,
          4889301000,
          5593491000,
          6340601000,
          6951190000,
          7313836000
         ],
         "yaxis": "y"
        },
        {
         "alignmentgroup": "True",
         "hovertemplate": "sigla_uf=%{x}<br>pib=%{y}<br>ano=%{text}<extra></extra>",
         "legendgroup": "AC",
         "marker": {
          "color": "#EF553B",
          "pattern": {
           "shape": ""
          }
         },
         "name": "AC",
         "offsetgroup": "AC",
         "orientation": "v",
         "showlegend": true,
         "text": [
          2007,
          2008,
          2009,
          2010,
          2011,
          2012
         ],
         "textposition": "auto",
         "type": "bar",
         "x": [
          "AC",
          "AC",
          "AC",
          "AC",
          "AC",
          "AC"
         ],
         "xaxis": "x",
         "y": [
          5760501000,
          6730108000,
          7386436000,
          8476515000,
          8794362000,
          9629239000
         ],
         "yaxis": "y"
        },
        {
         "alignmentgroup": "True",
         "hovertemplate": "sigla_uf=%{x}<br>pib=%{y}<br>ano=%{text}<extra></extra>",
         "legendgroup": "AP",
         "marker": {
          "color": "#00cc96",
          "pattern": {
           "shape": ""
          }
         },
         "name": "AP",
         "offsetgroup": "AP",
         "orientation": "v",
         "showlegend": true,
         "text": [
          2007,
          2008,
          2009,
          2010,
          2011,
          2012
         ],
         "textposition": "auto",
         "type": "bar",
         "x": [
          "AP",
          "AP",
          "AP",
          "AP",
          "AP",
          "AP"
         ],
         "xaxis": "x",
         "y": [
          6022132000,
          6764834000,
          7404389000,
          8265965000,
          8968032000,
          10419539000
         ],
         "yaxis": "y"
        },
        {
         "alignmentgroup": "True",
         "hovertemplate": "sigla_uf=%{x}<br>pib=%{y}<br>ano=%{text}<extra></extra>",
         "legendgroup": "TO",
         "marker": {
          "color": "#ab63fa",
          "pattern": {
           "shape": ""
          }
         },
         "name": "TO",
         "offsetgroup": "TO",
         "orientation": "v",
         "showlegend": true,
         "text": [
          2007,
          2008,
          2009,
          2010,
          2011,
          2012
         ],
         "textposition": "auto",
         "type": "bar",
         "x": [
          "TO",
          "TO",
          "TO",
          "TO",
          "TO",
          "TO"
         ],
         "xaxis": "x",
         "y": [
          11094063000,
          13090266000,
          14571366000,
          17240135000,
          18059159000,
          19529689000
         ],
         "yaxis": "y"
        },
        {
         "alignmentgroup": "True",
         "hovertemplate": "sigla_uf=%{x}<br>pib=%{y}<br>ano=%{text}<extra></extra>",
         "legendgroup": "PI",
         "marker": {
          "color": "#FFA15A",
          "pattern": {
           "shape": ""
          }
         },
         "name": "PI",
         "offsetgroup": "PI",
         "orientation": "v",
         "showlegend": true,
         "text": [
          2007,
          2008,
          2009,
          2010,
          2011,
          2012
         ],
         "textposition": "auto",
         "type": "bar",
         "x": [
          "PI",
          "PI",
          "PI",
          "PI",
          "PI",
          "PI"
         ],
         "xaxis": "x",
         "y": [
          14135870000,
          16760272000,
          19032665000,
          22060161000,
          24606833000,
          25720626000
         ],
         "yaxis": "y"
        },
        {
         "alignmentgroup": "True",
         "hovertemplate": "sigla_uf=%{x}<br>pib=%{y}<br>ano=%{text}<extra></extra>",
         "legendgroup": "RO",
         "marker": {
          "color": "#19d3f3",
          "pattern": {
           "shape": ""
          }
         },
         "name": "RO",
         "offsetgroup": "RO",
         "orientation": "v",
         "showlegend": true,
         "text": [
          2007,
          2008,
          2009,
          2010,
          2011,
          2012
         ],
         "textposition": "auto",
         "type": "bar",
         "x": [
          "RO",
          "RO",
          "RO",
          "RO",
          "RO",
          "RO"
         ],
         "xaxis": "x",
         "y": [
          15002734000,
          17887799000,
          20236194000,
          23560644000,
          27839144000,
          29361936000
         ],
         "yaxis": "y"
        },
        {
         "alignmentgroup": "True",
         "hovertemplate": "sigla_uf=%{x}<br>pib=%{y}<br>ano=%{text}<extra></extra>",
         "legendgroup": "SE",
         "marker": {
          "color": "#FF6692",
          "pattern": {
           "shape": ""
          }
         },
         "name": "SE",
         "offsetgroup": "SE",
         "orientation": "v",
         "showlegend": true,
         "text": [
          2007,
          2008,
          2009,
          2010,
          2011,
          2012
         ],
         "textposition": "auto",
         "type": "bar",
         "x": [
          "SE",
          "SE",
          "SE",
          "SE",
          "SE",
          "SE"
         ],
         "xaxis": "x",
         "y": [
          16895691000,
          19551803000,
          19767111000,
          23932155000,
          26198908000,
          27823191000
         ],
         "yaxis": "y"
        },
        {
         "alignmentgroup": "True",
         "hovertemplate": "sigla_uf=%{x}<br>pib=%{y}<br>ano=%{text}<extra></extra>",
         "legendgroup": "AL",
         "marker": {
          "color": "#B6E880",
          "pattern": {
           "shape": ""
          }
         },
         "name": "AL",
         "offsetgroup": "AL",
         "orientation": "v",
         "showlegend": true,
         "text": [
          2007,
          2008,
          2009,
          2010,
          2011,
          2012
         ],
         "textposition": "auto",
         "type": "bar",
         "x": [
          "AL",
          "AL",
          "AL",
          "AL",
          "AL",
          "AL"
         ],
         "xaxis": "x",
         "y": [
          17793227000,
          19476861000,
          21234951000,
          24574808000,
          28540304000,
          29544708000
         ],
         "yaxis": "y"
        },
        {
         "alignmentgroup": "True",
         "hovertemplate": "sigla_uf=%{x}<br>pib=%{y}<br>ano=%{text}<extra></extra>",
         "legendgroup": "PB",
         "marker": {
          "color": "#FF97FF",
          "pattern": {
           "shape": ""
          }
         },
         "name": "PB",
         "offsetgroup": "PB",
         "orientation": "v",
         "showlegend": true,
         "text": [
          2007,
          2008,
          2009,
          2010,
          2011,
          2012
         ],
         "textposition": "auto",
         "type": "bar",
         "x": [
          "PB",
          "PB",
          "PB",
          "PB",
          "PB",
          "PB"
         ],
         "xaxis": "x",
         "y": [
          22201750000,
          25696641000,
          28718598000,
          31947059000,
          35443832000,
          38731149000
         ],
         "yaxis": "y"
        },
        {
         "alignmentgroup": "True",
         "hovertemplate": "sigla_uf=%{x}<br>pib=%{y}<br>ano=%{text}<extra></extra>",
         "legendgroup": "RN",
         "marker": {
          "color": "#FECB52",
          "pattern": {
           "shape": ""
          }
         },
         "name": "RN",
         "offsetgroup": "RN",
         "orientation": "v",
         "showlegend": true,
         "text": [
          2007,
          2008,
          2009,
          2010,
          2011,
          2012
         ],
         "textposition": "auto",
         "type": "bar",
         "x": [
          "RN",
          "RN",
          "RN",
          "RN",
          "RN",
          "RN"
         ],
         "xaxis": "x",
         "y": [
          22925563000,
          25481449000,
          27904989000,
          32338895000,
          36103202000,
          39543679000
         ],
         "yaxis": "y"
        },
        {
         "alignmentgroup": "True",
         "hovertemplate": "sigla_uf=%{x}<br>pib=%{y}<br>ano=%{text}<extra></extra>",
         "legendgroup": "MS",
         "marker": {
          "color": "#636efa",
          "pattern": {
           "shape": ""
          }
         },
         "name": "MS",
         "offsetgroup": "MS",
         "orientation": "v",
         "showlegend": true,
         "text": [
          2007,
          2008,
          2009,
          2010,
          2011,
          2012
         ],
         "textposition": "auto",
         "type": "bar",
         "x": [
          "MS",
          "MS",
          "MS",
          "MS",
          "MS",
          "MS"
         ],
         "xaxis": "x",
         "y": [
          28121420000,
          33142746000,
          36368094000,
          43514207000,
          49242254000,
          54471447000
         ],
         "yaxis": "y"
        },
        {
         "alignmentgroup": "True",
         "hovertemplate": "sigla_uf=%{x}<br>pib=%{y}<br>ano=%{text}<extra></extra>",
         "legendgroup": "MA",
         "marker": {
          "color": "#EF553B",
          "pattern": {
           "shape": ""
          }
         },
         "name": "MA",
         "offsetgroup": "MA",
         "orientation": "v",
         "showlegend": true,
         "text": [
          2007,
          2008,
          2009,
          2010,
          2011,
          2012
         ],
         "textposition": "auto",
         "type": "bar",
         "x": [
          "MA",
          "MA",
          "MA",
          "MA",
          "MA",
          "MA"
         ],
         "xaxis": "x",
         "y": [
          31606026000,
          38486010000,
          39854677000,
          45255942000,
          52187204000,
          58819683000
         ],
         "yaxis": "y"
        },
        {
         "alignmentgroup": "True",
         "hovertemplate": "sigla_uf=%{x}<br>pib=%{y}<br>ano=%{text}<extra></extra>",
         "legendgroup": "AM",
         "marker": {
          "color": "#00cc96",
          "pattern": {
           "shape": ""
          }
         },
         "name": "AM",
         "offsetgroup": "AM",
         "orientation": "v",
         "showlegend": true,
         "text": [
          2007,
          2008,
          2009,
          2010,
          2012,
          2011
         ],
         "textposition": "auto",
         "type": "bar",
         "x": [
          "AM",
          "AM",
          "AM",
          "AM",
          "AM",
          "AM"
         ],
         "xaxis": "x",
         "y": [
          42023218000,
          46822569000,
          49614251000,
          59779292000,
          64119836000,
          64555404000
         ],
         "yaxis": "y"
        },
        {
         "alignmentgroup": "True",
         "hovertemplate": "sigla_uf=%{x}<br>pib=%{y}<br>ano=%{text}<extra></extra>",
         "legendgroup": "MT",
         "marker": {
          "color": "#ab63fa",
          "pattern": {
           "shape": ""
          }
         },
         "name": "MT",
         "offsetgroup": "MT",
         "orientation": "v",
         "showlegend": true,
         "text": [
          2007,
          2008,
          2009,
          2010,
          2011,
          2012
         ],
         "textposition": "auto",
         "type": "bar",
         "x": [
          "MT",
          "MT",
          "MT",
          "MT",
          "MT",
          "MT"
         ],
         "xaxis": "x",
         "y": [
          42687119000,
          53386488000,
          57294192000,
          59599990000,
          71417805000,
          80830108000
         ],
         "yaxis": "y"
        },
        {
         "alignmentgroup": "True",
         "hovertemplate": "sigla_uf=%{x}<br>pib=%{y}<br>ano=%{text}<extra></extra>",
         "legendgroup": "PA",
         "marker": {
          "color": "#FFA15A",
          "pattern": {
           "shape": ""
          }
         },
         "name": "PA",
         "offsetgroup": "PA",
         "orientation": "v",
         "showlegend": true,
         "text": [
          2007,
          2009,
          2008,
          2010,
          2011,
          2012
         ],
         "textposition": "auto",
         "type": "bar",
         "x": [
          "PA",
          "PA",
          "PA",
          "PA",
          "PA",
          "PA"
         ],
         "xaxis": "x",
         "y": [
          49507144000,
          58401830000,
          58518557000,
          77847597000,
          88370610000,
          91009014000
         ],
         "yaxis": "y"
        },
        {
         "alignmentgroup": "True",
         "hovertemplate": "sigla_uf=%{x}<br>pib=%{y}<br>ano=%{text}<extra></extra>",
         "legendgroup": "CE",
         "marker": {
          "color": "#19d3f3",
          "pattern": {
           "shape": ""
          }
         },
         "name": "CE",
         "offsetgroup": "CE",
         "orientation": "v",
         "showlegend": true,
         "text": [
          2007,
          2008,
          2009,
          2010,
          2011,
          2012
         ],
         "textposition": "auto",
         "type": "bar",
         "x": [
          "CE",
          "CE",
          "CE",
          "CE",
          "CE",
          "CE"
         ],
         "xaxis": "x",
         "y": [
          50331383000,
          60098877000,
          65703761000,
          77865415000,
          87982450000,
          90131724000
         ],
         "yaxis": "y"
        },
        {
         "alignmentgroup": "True",
         "hovertemplate": "sigla_uf=%{x}<br>pib=%{y}<br>ano=%{text}<extra></extra>",
         "legendgroup": "ES",
         "marker": {
          "color": "#FF6692",
          "pattern": {
           "shape": ""
          }
         },
         "name": "ES",
         "offsetgroup": "ES",
         "orientation": "v",
         "showlegend": true,
         "text": [
          2007,
          2009,
          2008,
          2010,
          2011,
          2012
         ],
         "textposition": "auto",
         "type": "bar",
         "x": [
          "ES",
          "ES",
          "ES",
          "ES",
          "ES",
          "ES"
         ],
         "xaxis": "x",
         "y": [
          60339817000,
          66763012000,
          69870222000,
          82121834000,
          97693458000,
          107328771000
         ],
         "yaxis": "y"
        },
        {
         "alignmentgroup": "True",
         "hovertemplate": "sigla_uf=%{x}<br>pib=%{y}<br>ano=%{text}<extra></extra>",
         "legendgroup": "PE",
         "marker": {
          "color": "#B6E880",
          "pattern": {
           "shape": ""
          }
         },
         "name": "PE",
         "offsetgroup": "PE",
         "orientation": "v",
         "showlegend": true,
         "text": [
          2007,
          2008,
          2009,
          2010,
          2011,
          2012
         ],
         "textposition": "auto",
         "type": "bar",
         "x": [
          "PE",
          "PE",
          "PE",
          "PE",
          "PE",
          "PE"
         ],
         "xaxis": "x",
         "y": [
          62255687000,
          70440859000,
          78428308000,
          95186714000,
          104393980000,
          117340092000
         ],
         "yaxis": "y"
        },
        {
         "alignmentgroup": "True",
         "hovertemplate": "sigla_uf=%{x}<br>pib=%{y}<br>ano=%{text}<extra></extra>",
         "legendgroup": "GO",
         "marker": {
          "color": "#FF97FF",
          "pattern": {
           "shape": ""
          }
         },
         "name": "GO",
         "offsetgroup": "GO",
         "orientation": "v",
         "showlegend": true,
         "text": [
          2007,
          2008,
          2009,
          2010,
          2011,
          2012
         ],
         "textposition": "auto",
         "type": "bar",
         "x": [
          "GO",
          "GO",
          "GO",
          "GO",
          "GO",
          "GO"
         ],
         "xaxis": "x",
         "y": [
          65210147000,
          75271163000,
          85615344000,
          97575930000,
          111268553000,
          123926301000
         ],
         "yaxis": "y"
        },
        {
         "alignmentgroup": "True",
         "hovertemplate": "sigla_uf=%{x}<br>pib=%{y}<br>ano=%{text}<extra></extra>",
         "legendgroup": "media",
         "marker": {
          "color": "#FECB52",
          "pattern": {
           "shape": ""
          }
         },
         "name": "media",
         "offsetgroup": "media",
         "orientation": "v",
         "showlegend": true,
         "text": [
          2007,
          2008,
          2009,
          2010,
          2011,
          2012
         ],
         "textposition": "auto",
         "type": "bar",
         "visible": "legendonly",
         "x": [
          "media",
          "media",
          "media",
          "media",
          "media",
          "media"
         ],
         "xaxis": "x",
         "y": [
          98568315740.74074,
          112303833074.07408,
          119977928000,
          139632773111.1111,
          153444938370.37036,
          162670148000
         ],
         "yaxis": "y"
        },
        {
         "alignmentgroup": "True",
         "hovertemplate": "sigla_uf=%{x}<br>pib=%{y}<br>ano=%{text}<extra></extra>",
         "legendgroup": "DF",
         "marker": {
          "color": "#636efa",
          "pattern": {
           "shape": ""
          }
         },
         "name": "DF",
         "offsetgroup": "DF",
         "orientation": "v",
         "showlegend": true,
         "text": [
          2007,
          2008,
          2009,
          2010,
          2011,
          2012
         ],
         "textposition": "auto",
         "type": "bar",
         "x": [
          "DF",
          "DF",
          "DF",
          "DF",
          "DF",
          "DF"
         ],
         "xaxis": "x",
         "y": [
          99945620000,
          117571878000,
          131487268000,
          149906319000,
          164482129000,
          171235534000
         ],
         "yaxis": "y"
        },
        {
         "alignmentgroup": "True",
         "hovertemplate": "sigla_uf=%{x}<br>pib=%{y}<br>ano=%{text}<extra></extra>",
         "legendgroup": "SC",
         "marker": {
          "color": "#EF553B",
          "pattern": {
           "shape": ""
          }
         },
         "name": "SC",
         "offsetgroup": "SC",
         "orientation": "v",
         "showlegend": true,
         "text": [
          2007,
          2008,
          2009,
          2010,
          2011,
          2012
         ],
         "textposition": "auto",
         "type": "bar",
         "x": [
          "SC",
          "SC",
          "SC",
          "SC",
          "SC",
          "SC"
         ],
         "xaxis": "x",
         "y": [
          104622947000,
          123282295000,
          129806256000,
          152482338000,
          169049530000,
          177275691000
         ],
         "yaxis": "y"
        },
        {
         "alignmentgroup": "True",
         "hovertemplate": "sigla_uf=%{x}<br>pib=%{y}<br>ano=%{text}<extra></extra>",
         "legendgroup": "BA",
         "marker": {
          "color": "#00cc96",
          "pattern": {
           "shape": ""
          }
         },
         "name": "BA",
         "offsetgroup": "BA",
         "orientation": "v",
         "showlegend": true,
         "text": [
          2007,
          2008,
          2009,
          2010,
          2011,
          2012
         ],
         "textposition": "auto",
         "type": "bar",
         "x": [
          "BA",
          "BA",
          "BA",
          "BA",
          "BA",
          "BA"
         ],
         "xaxis": "x",
         "y": [
          109651844000,
          121507056000,
          137074671000,
          154340458000,
          159868615000,
          167727375000
         ],
         "yaxis": "y"
        },
        {
         "alignmentgroup": "True",
         "hovertemplate": "sigla_uf=%{x}<br>pib=%{y}<br>ano=%{text}<extra></extra>",
         "legendgroup": "PR",
         "marker": {
          "color": "#ab63fa",
          "pattern": {
           "shape": ""
          }
         },
         "name": "PR",
         "offsetgroup": "PR",
         "orientation": "v",
         "showlegend": true,
         "text": [
          2007,
          2008,
          2009,
          2010,
          2011,
          2012
         ],
         "textposition": "auto",
         "type": "bar",
         "x": [
          "PR",
          "PR",
          "PR",
          "PR",
          "PR",
          "PR"
         ],
         "xaxis": "x",
         "y": [
          161581844000,
          179263189000,
          189991949000,
          217289677000,
          239366010000,
          255926608000
         ],
         "yaxis": "y"
        },
        {
         "alignmentgroup": "True",
         "hovertemplate": "sigla_uf=%{x}<br>pib=%{y}<br>ano=%{text}<extra></extra>",
         "legendgroup": "RS",
         "marker": {
          "color": "#FFA15A",
          "pattern": {
           "shape": ""
          }
         },
         "name": "RS",
         "offsetgroup": "RS",
         "orientation": "v",
         "showlegend": true,
         "text": [
          2007,
          2008,
          2009,
          2010,
          2011,
          2012
         ],
         "textposition": "auto",
         "type": "bar",
         "x": [
          "RS",
          "RS",
          "RS",
          "RS",
          "RS",
          "RS"
         ],
         "xaxis": "x",
         "y": [
          176615073000,
          199494246000,
          215863879000,
          252482597000,
          263633398000,
          277657666000
         ],
         "yaxis": "y"
        },
        {
         "alignmentgroup": "True",
         "hovertemplate": "sigla_uf=%{x}<br>pib=%{y}<br>ano=%{text}<extra></extra>",
         "legendgroup": "MG",
         "marker": {
          "color": "#19d3f3",
          "pattern": {
           "shape": ""
          }
         },
         "name": "MG",
         "offsetgroup": "MG",
         "orientation": "v",
         "showlegend": true,
         "text": [
          2007,
          2008,
          2009,
          2010,
          2011,
          2012
         ],
         "textposition": "auto",
         "type": "bar",
         "x": [
          "MG",
          "MG",
          "MG",
          "MG",
          "MG",
          "MG"
         ],
         "xaxis": "x",
         "y": [
          241293054000,
          282520745000,
          287054748000,
          351380905000,
          386155622000,
          403551317000
         ],
         "yaxis": "y"
        },
        {
         "alignmentgroup": "True",
         "hovertemplate": "sigla_uf=%{x}<br>pib=%{y}<br>ano=%{text}<extra></extra>",
         "legendgroup": "RJ",
         "marker": {
          "color": "#FF6692",
          "pattern": {
           "shape": ""
          }
         },
         "name": "RJ",
         "offsetgroup": "RJ",
         "orientation": "v",
         "showlegend": true,
         "text": [
          2007,
          2008,
          2009,
          2010,
          2011,
          2012
         ],
         "textposition": "auto",
         "type": "bar",
         "x": [
          "RJ",
          "RJ",
          "RJ",
          "RJ",
          "RJ",
          "RJ"
         ],
         "xaxis": "x",
         "y": [
          296767784000,
          343182068000,
          353878136000,
          407122794000,
          462376208000,
          504221371000
         ],
         "yaxis": "y"
        },
        {
         "alignmentgroup": "True",
         "hovertemplate": "sigla_uf=%{x}<br>pib=%{y}<br>ano=%{text}<extra></extra>",
         "legendgroup": "SP",
         "marker": {
          "color": "#B6E880",
          "pattern": {
           "shape": ""
          }
         },
         "name": "SP",
         "offsetgroup": "SP",
         "orientation": "v",
         "showlegend": true,
         "text": [
          2007,
          2008,
          2009,
          2010,
          2011,
          2012
         ],
         "textposition": "auto",
         "type": "bar",
         "x": [
          "SP",
          "SP",
          "SP",
          "SP",
          "SP",
          "SP"
         ],
         "xaxis": "x",
         "y": [
          902784268000,
          1003015191000,
          1084353490000,
          1247595927000,
          1349465140000,
          1408903866000
         ],
         "yaxis": "y"
        }
       ],
       "layout": {
        "autosize": true,
        "barmode": "relative",
        "legend": {
         "title": {
          "text": "sigla_uf"
         },
         "tracegroupgap": 0
        },
        "margin": {
         "t": 60
        },
        "template": {
         "data": {
          "bar": [
           {
            "error_x": {
             "color": "#2a3f5f"
            },
            "error_y": {
             "color": "#2a3f5f"
            },
            "marker": {
             "line": {
              "color": "#E5ECF6",
              "width": 0.5
             },
             "pattern": {
              "fillmode": "overlay",
              "size": 10,
              "solidity": 0.2
             }
            },
            "type": "bar"
           }
          ],
          "barpolar": [
           {
            "marker": {
             "line": {
              "color": "#E5ECF6",
              "width": 0.5
             },
             "pattern": {
              "fillmode": "overlay",
              "size": 10,
              "solidity": 0.2
             }
            },
            "type": "barpolar"
           }
          ],
          "carpet": [
           {
            "aaxis": {
             "endlinecolor": "#2a3f5f",
             "gridcolor": "white",
             "linecolor": "white",
             "minorgridcolor": "white",
             "startlinecolor": "#2a3f5f"
            },
            "baxis": {
             "endlinecolor": "#2a3f5f",
             "gridcolor": "white",
             "linecolor": "white",
             "minorgridcolor": "white",
             "startlinecolor": "#2a3f5f"
            },
            "type": "carpet"
           }
          ],
          "choropleth": [
           {
            "colorbar": {
             "outlinewidth": 0,
             "ticks": ""
            },
            "type": "choropleth"
           }
          ],
          "contour": [
           {
            "colorbar": {
             "outlinewidth": 0,
             "ticks": ""
            },
            "colorscale": [
             [
              0,
              "#0d0887"
             ],
             [
              0.1111111111111111,
              "#46039f"
             ],
             [
              0.2222222222222222,
              "#7201a8"
             ],
             [
              0.3333333333333333,
              "#9c179e"
             ],
             [
              0.4444444444444444,
              "#bd3786"
             ],
             [
              0.5555555555555556,
              "#d8576b"
             ],
             [
              0.6666666666666666,
              "#ed7953"
             ],
             [
              0.7777777777777778,
              "#fb9f3a"
             ],
             [
              0.8888888888888888,
              "#fdca26"
             ],
             [
              1,
              "#f0f921"
             ]
            ],
            "type": "contour"
           }
          ],
          "contourcarpet": [
           {
            "colorbar": {
             "outlinewidth": 0,
             "ticks": ""
            },
            "type": "contourcarpet"
           }
          ],
          "heatmap": [
           {
            "colorbar": {
             "outlinewidth": 0,
             "ticks": ""
            },
            "colorscale": [
             [
              0,
              "#0d0887"
             ],
             [
              0.1111111111111111,
              "#46039f"
             ],
             [
              0.2222222222222222,
              "#7201a8"
             ],
             [
              0.3333333333333333,
              "#9c179e"
             ],
             [
              0.4444444444444444,
              "#bd3786"
             ],
             [
              0.5555555555555556,
              "#d8576b"
             ],
             [
              0.6666666666666666,
              "#ed7953"
             ],
             [
              0.7777777777777778,
              "#fb9f3a"
             ],
             [
              0.8888888888888888,
              "#fdca26"
             ],
             [
              1,
              "#f0f921"
             ]
            ],
            "type": "heatmap"
           }
          ],
          "heatmapgl": [
           {
            "colorbar": {
             "outlinewidth": 0,
             "ticks": ""
            },
            "colorscale": [
             [
              0,
              "#0d0887"
             ],
             [
              0.1111111111111111,
              "#46039f"
             ],
             [
              0.2222222222222222,
              "#7201a8"
             ],
             [
              0.3333333333333333,
              "#9c179e"
             ],
             [
              0.4444444444444444,
              "#bd3786"
             ],
             [
              0.5555555555555556,
              "#d8576b"
             ],
             [
              0.6666666666666666,
              "#ed7953"
             ],
             [
              0.7777777777777778,
              "#fb9f3a"
             ],
             [
              0.8888888888888888,
              "#fdca26"
             ],
             [
              1,
              "#f0f921"
             ]
            ],
            "type": "heatmapgl"
           }
          ],
          "histogram": [
           {
            "marker": {
             "pattern": {
              "fillmode": "overlay",
              "size": 10,
              "solidity": 0.2
             }
            },
            "type": "histogram"
           }
          ],
          "histogram2d": [
           {
            "colorbar": {
             "outlinewidth": 0,
             "ticks": ""
            },
            "colorscale": [
             [
              0,
              "#0d0887"
             ],
             [
              0.1111111111111111,
              "#46039f"
             ],
             [
              0.2222222222222222,
              "#7201a8"
             ],
             [
              0.3333333333333333,
              "#9c179e"
             ],
             [
              0.4444444444444444,
              "#bd3786"
             ],
             [
              0.5555555555555556,
              "#d8576b"
             ],
             [
              0.6666666666666666,
              "#ed7953"
             ],
             [
              0.7777777777777778,
              "#fb9f3a"
             ],
             [
              0.8888888888888888,
              "#fdca26"
             ],
             [
              1,
              "#f0f921"
             ]
            ],
            "type": "histogram2d"
           }
          ],
          "histogram2dcontour": [
           {
            "colorbar": {
             "outlinewidth": 0,
             "ticks": ""
            },
            "colorscale": [
             [
              0,
              "#0d0887"
             ],
             [
              0.1111111111111111,
              "#46039f"
             ],
             [
              0.2222222222222222,
              "#7201a8"
             ],
             [
              0.3333333333333333,
              "#9c179e"
             ],
             [
              0.4444444444444444,
              "#bd3786"
             ],
             [
              0.5555555555555556,
              "#d8576b"
             ],
             [
              0.6666666666666666,
              "#ed7953"
             ],
             [
              0.7777777777777778,
              "#fb9f3a"
             ],
             [
              0.8888888888888888,
              "#fdca26"
             ],
             [
              1,
              "#f0f921"
             ]
            ],
            "type": "histogram2dcontour"
           }
          ],
          "mesh3d": [
           {
            "colorbar": {
             "outlinewidth": 0,
             "ticks": ""
            },
            "type": "mesh3d"
           }
          ],
          "parcoords": [
           {
            "line": {
             "colorbar": {
              "outlinewidth": 0,
              "ticks": ""
             }
            },
            "type": "parcoords"
           }
          ],
          "pie": [
           {
            "automargin": true,
            "type": "pie"
           }
          ],
          "scatter": [
           {
            "fillpattern": {
             "fillmode": "overlay",
             "size": 10,
             "solidity": 0.2
            },
            "type": "scatter"
           }
          ],
          "scatter3d": [
           {
            "line": {
             "colorbar": {
              "outlinewidth": 0,
              "ticks": ""
             }
            },
            "marker": {
             "colorbar": {
              "outlinewidth": 0,
              "ticks": ""
             }
            },
            "type": "scatter3d"
           }
          ],
          "scattercarpet": [
           {
            "marker": {
             "colorbar": {
              "outlinewidth": 0,
              "ticks": ""
             }
            },
            "type": "scattercarpet"
           }
          ],
          "scattergeo": [
           {
            "marker": {
             "colorbar": {
              "outlinewidth": 0,
              "ticks": ""
             }
            },
            "type": "scattergeo"
           }
          ],
          "scattergl": [
           {
            "marker": {
             "colorbar": {
              "outlinewidth": 0,
              "ticks": ""
             }
            },
            "type": "scattergl"
           }
          ],
          "scattermapbox": [
           {
            "marker": {
             "colorbar": {
              "outlinewidth": 0,
              "ticks": ""
             }
            },
            "type": "scattermapbox"
           }
          ],
          "scatterpolar": [
           {
            "marker": {
             "colorbar": {
              "outlinewidth": 0,
              "ticks": ""
             }
            },
            "type": "scatterpolar"
           }
          ],
          "scatterpolargl": [
           {
            "marker": {
             "colorbar": {
              "outlinewidth": 0,
              "ticks": ""
             }
            },
            "type": "scatterpolargl"
           }
          ],
          "scatterternary": [
           {
            "marker": {
             "colorbar": {
              "outlinewidth": 0,
              "ticks": ""
             }
            },
            "type": "scatterternary"
           }
          ],
          "surface": [
           {
            "colorbar": {
             "outlinewidth": 0,
             "ticks": ""
            },
            "colorscale": [
             [
              0,
              "#0d0887"
             ],
             [
              0.1111111111111111,
              "#46039f"
             ],
             [
              0.2222222222222222,
              "#7201a8"
             ],
             [
              0.3333333333333333,
              "#9c179e"
             ],
             [
              0.4444444444444444,
              "#bd3786"
             ],
             [
              0.5555555555555556,
              "#d8576b"
             ],
             [
              0.6666666666666666,
              "#ed7953"
             ],
             [
              0.7777777777777778,
              "#fb9f3a"
             ],
             [
              0.8888888888888888,
              "#fdca26"
             ],
             [
              1,
              "#f0f921"
             ]
            ],
            "type": "surface"
           }
          ],
          "table": [
           {
            "cells": {
             "fill": {
              "color": "#EBF0F8"
             },
             "line": {
              "color": "white"
             }
            },
            "header": {
             "fill": {
              "color": "#C8D4E3"
             },
             "line": {
              "color": "white"
             }
            },
            "type": "table"
           }
          ]
         },
         "layout": {
          "annotationdefaults": {
           "arrowcolor": "#2a3f5f",
           "arrowhead": 0,
           "arrowwidth": 1
          },
          "autotypenumbers": "strict",
          "coloraxis": {
           "colorbar": {
            "outlinewidth": 0,
            "ticks": ""
           }
          },
          "colorscale": {
           "diverging": [
            [
             0,
             "#8e0152"
            ],
            [
             0.1,
             "#c51b7d"
            ],
            [
             0.2,
             "#de77ae"
            ],
            [
             0.3,
             "#f1b6da"
            ],
            [
             0.4,
             "#fde0ef"
            ],
            [
             0.5,
             "#f7f7f7"
            ],
            [
             0.6,
             "#e6f5d0"
            ],
            [
             0.7,
             "#b8e186"
            ],
            [
             0.8,
             "#7fbc41"
            ],
            [
             0.9,
             "#4d9221"
            ],
            [
             1,
             "#276419"
            ]
           ],
           "sequential": [
            [
             0,
             "#0d0887"
            ],
            [
             0.1111111111111111,
             "#46039f"
            ],
            [
             0.2222222222222222,
             "#7201a8"
            ],
            [
             0.3333333333333333,
             "#9c179e"
            ],
            [
             0.4444444444444444,
             "#bd3786"
            ],
            [
             0.5555555555555556,
             "#d8576b"
            ],
            [
             0.6666666666666666,
             "#ed7953"
            ],
            [
             0.7777777777777778,
             "#fb9f3a"
            ],
            [
             0.8888888888888888,
             "#fdca26"
            ],
            [
             1,
             "#f0f921"
            ]
           ],
           "sequentialminus": [
            [
             0,
             "#0d0887"
            ],
            [
             0.1111111111111111,
             "#46039f"
            ],
            [
             0.2222222222222222,
             "#7201a8"
            ],
            [
             0.3333333333333333,
             "#9c179e"
            ],
            [
             0.4444444444444444,
             "#bd3786"
            ],
            [
             0.5555555555555556,
             "#d8576b"
            ],
            [
             0.6666666666666666,
             "#ed7953"
            ],
            [
             0.7777777777777778,
             "#fb9f3a"
            ],
            [
             0.8888888888888888,
             "#fdca26"
            ],
            [
             1,
             "#f0f921"
            ]
           ]
          },
          "colorway": [
           "#636efa",
           "#EF553B",
           "#00cc96",
           "#ab63fa",
           "#FFA15A",
           "#19d3f3",
           "#FF6692",
           "#B6E880",
           "#FF97FF",
           "#FECB52"
          ],
          "font": {
           "color": "#2a3f5f"
          },
          "geo": {
           "bgcolor": "white",
           "lakecolor": "white",
           "landcolor": "#E5ECF6",
           "showlakes": true,
           "showland": true,
           "subunitcolor": "white"
          },
          "hoverlabel": {
           "align": "left"
          },
          "hovermode": "closest",
          "mapbox": {
           "style": "light"
          },
          "paper_bgcolor": "white",
          "plot_bgcolor": "#E5ECF6",
          "polar": {
           "angularaxis": {
            "gridcolor": "white",
            "linecolor": "white",
            "ticks": ""
           },
           "bgcolor": "#E5ECF6",
           "radialaxis": {
            "gridcolor": "white",
            "linecolor": "white",
            "ticks": ""
           }
          },
          "scene": {
           "xaxis": {
            "backgroundcolor": "#E5ECF6",
            "gridcolor": "white",
            "gridwidth": 2,
            "linecolor": "white",
            "showbackground": true,
            "ticks": "",
            "zerolinecolor": "white"
           },
           "yaxis": {
            "backgroundcolor": "#E5ECF6",
            "gridcolor": "white",
            "gridwidth": 2,
            "linecolor": "white",
            "showbackground": true,
            "ticks": "",
            "zerolinecolor": "white"
           },
           "zaxis": {
            "backgroundcolor": "#E5ECF6",
            "gridcolor": "white",
            "gridwidth": 2,
            "linecolor": "white",
            "showbackground": true,
            "ticks": "",
            "zerolinecolor": "white"
           }
          },
          "shapedefaults": {
           "line": {
            "color": "#2a3f5f"
           }
          },
          "ternary": {
           "aaxis": {
            "gridcolor": "white",
            "linecolor": "white",
            "ticks": ""
           },
           "baxis": {
            "gridcolor": "white",
            "linecolor": "white",
            "ticks": ""
           },
           "bgcolor": "#E5ECF6",
           "caxis": {
            "gridcolor": "white",
            "linecolor": "white",
            "ticks": ""
           }
          },
          "title": {
           "x": 0.05
          },
          "xaxis": {
           "automargin": true,
           "gridcolor": "white",
           "linecolor": "white",
           "ticks": "",
           "title": {
            "standoff": 15
           },
           "zerolinecolor": "white",
           "zerolinewidth": 2
          },
          "yaxis": {
           "automargin": true,
           "gridcolor": "white",
           "linecolor": "white",
           "ticks": "",
           "title": {
            "standoff": 15
           },
           "zerolinecolor": "white",
           "zerolinewidth": 2
          }
         }
        },
        "xaxis": {
         "anchor": "y",
         "autorange": true,
         "categoryarray": [
          "RR",
          "AC",
          "AP",
          "TO",
          "PI",
          "RO",
          "SE",
          "AL",
          "PB",
          "RN",
          "MS",
          "MA",
          "AM",
          "MT",
          "PA",
          "CE",
          "ES",
          "PE",
          "GO",
          "media",
          "DF",
          "SC",
          "BA",
          "PR",
          "RS",
          "MG",
          "RJ",
          "SP"
         ],
         "categoryorder": "array",
         "domain": [
          0,
          1
         ],
         "range": [
          -0.5,
          27.5
         ],
         "title": {
          "text": "sigla_uf"
         },
         "type": "category"
        },
        "yaxis": {
         "anchor": "x",
         "autorange": true,
         "domain": [
          0,
          1
         ],
         "range": [
          0,
          7364334612631.579
         ],
         "title": {
          "text": "pib"
         },
         "type": "linear"
        }
       }
      },
      "image/png": "[encoded data removed]",
      "text/html": [
       "<div>                            <div id=\"93e81793-d174-4dba-a89b-6764cc54d19d\" class=\"plotly-graph-div\" style=\"height:525px; width:100%;\"></div>            <script type=\"text/javascript\">                require([\"plotly\"], function(Plotly) {                    window.PLOTLYENV=window.PLOTLYENV || {};                                    if (document.getElementById(\"93e81793-d174-4dba-a89b-6764cc54d19d\")) {                    Plotly.newPlot(                        \"93e81793-d174-4dba-a89b-6764cc54d19d\",                        [{\"alignmentgroup\":\"True\",\"hovertemplate\":\"sigla_uf=%{x}\\u003cbr\\u003epib=%{y}\\u003cbr\\u003eano=%{text}\\u003cextra\\u003e\\u003c\\u002fextra\\u003e\",\"legendgroup\":\"RR\",\"marker\":{\"color\":\"#636efa\",\"pattern\":{\"shape\":\"\"}},\"name\":\"RR\",\"offsetgroup\":\"RR\",\"orientation\":\"v\",\"showlegend\":true,\"text\":[2007.0,2008.0,2009.0,2010.0,2011.0,2012.0],\"textposition\":\"auto\",\"x\":[\"RR\",\"RR\",\"RR\",\"RR\",\"RR\",\"RR\"],\"xaxis\":\"x\",\"y\":[4168599000.0,4889301000.0,5593491000.0,6340601000.0,6951190000.0,7313836000.0],\"yaxis\":\"y\",\"type\":\"bar\"},{\"alignmentgroup\":\"True\",\"hovertemplate\":\"sigla_uf=%{x}\\u003cbr\\u003epib=%{y}\\u003cbr\\u003eano=%{text}\\u003cextra\\u003e\\u003c\\u002fextra\\u003e\",\"legendgroup\":\"AC\",\"marker\":{\"color\":\"#EF553B\",\"pattern\":{\"shape\":\"\"}},\"name\":\"AC\",\"offsetgroup\":\"AC\",\"orientation\":\"v\",\"showlegend\":true,\"text\":[2007.0,2008.0,2009.0,2010.0,2011.0,2012.0],\"textposition\":\"auto\",\"x\":[\"AC\",\"AC\",\"AC\",\"AC\",\"AC\",\"AC\"],\"xaxis\":\"x\",\"y\":[5760501000.0,6730108000.0,7386436000.0,8476515000.0,8794362000.0,9629239000.0],\"yaxis\":\"y\",\"type\":\"bar\"},{\"alignmentgroup\":\"True\",\"hovertemplate\":\"sigla_uf=%{x}\\u003cbr\\u003epib=%{y}\\u003cbr\\u003eano=%{text}\\u003cextra\\u003e\\u003c\\u002fextra\\u003e\",\"legendgroup\":\"AP\",\"marker\":{\"color\":\"#00cc96\",\"pattern\":{\"shape\":\"\"}},\"name\":\"AP\",\"offsetgroup\":\"AP\",\"orientation\":\"v\",\"showlegend\":true,\"text\":[2007.0,2008.0,2009.0,2010.0,2011.0,2012.0],\"textposition\":\"auto\",\"x\":[\"AP\",\"AP\",\"AP\",\"AP\",\"AP\",\"AP\"],\"xaxis\":\"x\",\"y\":[6022132000.0,6764834000.0,7404389000.0,8265965000.0,8968032000.0,10419539000.0],\"yaxis\":\"y\",\"type\":\"bar\"},{\"alignmentgroup\":\"True\",\"hovertemplate\":\"sigla_uf=%{x}\\u003cbr\\u003epib=%{y}\\u003cbr\\u003eano=%{text}\\u003cextra\\u003e\\u003c\\u002fextra\\u003e\",\"legendgroup\":\"TO\",\"marker\":{\"color\":\"#ab63fa\",\"pattern\":{\"shape\":\"\"}},\"name\":\"TO\",\"offsetgroup\":\"TO\",\"orientation\":\"v\",\"showlegend\":true,\"text\":[2007.0,2008.0,2009.0,2010.0,2011.0,2012.0],\"textposition\":\"auto\",\"x\":[\"TO\",\"TO\",\"TO\",\"TO\",\"TO\",\"TO\"],\"xaxis\":\"x\",\"y\":[11094063000.0,13090266000.0,14571366000.0,17240135000.0,18059159000.0,19529689000.0],\"yaxis\":\"y\",\"type\":\"bar\"},{\"alignmentgroup\":\"True\",\"hovertemplate\":\"sigla_uf=%{x}\\u003cbr\\u003epib=%{y}\\u003cbr\\u003eano=%{text}\\u003cextra\\u003e\\u003c\\u002fextra\\u003e\",\"legendgroup\":\"PI\",\"marker\":{\"color\":\"#FFA15A\",\"pattern\":{\"shape\":\"\"}},\"name\":\"PI\",\"offsetgroup\":\"PI\",\"orientation\":\"v\",\"showlegend\":true,\"text\":[2007.0,2008.0,2009.0,2010.0,2011.0,2012.0],\"textposition\":\"auto\",\"x\":[\"PI\",\"PI\",\"PI\",\"PI\",\"PI\",\"PI\"],\"xaxis\":\"x\",\"y\":[14135870000.0,16760272000.0,19032665000.0,22060161000.0,24606833000.0,25720626000.0],\"yaxis\":\"y\",\"type\":\"bar\"},{\"alignmentgroup\":\"True\",\"hovertemplate\":\"sigla_uf=%{x}\\u003cbr\\u003epib=%{y}\\u003cbr\\u003eano=%{text}\\u003cextra\\u003e\\u003c\\u002fextra\\u003e\",\"legendgroup\":\"RO\",\"marker\":{\"color\":\"#19d3f3\",\"pattern\":{\"shape\":\"\"}},\"name\":\"RO\",\"offsetgroup\":\"RO\",\"orientation\":\"v\",\"showlegend\":true,\"text\":[2007.0,2008.0,2009.0,2010.0,2011.0,2012.0],\"textposition\":\"auto\",\"x\":[\"RO\",\"RO\",\"RO\",\"RO\",\"RO\",\"RO\"],\"xaxis\":\"x\",\"y\":[15002734000.0,17887799000.0,20236194000.0,23560644000.0,27839144000.0,29361936000.0],\"yaxis\":\"y\",\"type\":\"bar\"},{\"alignmentgroup\":\"True\",\"hovertemplate\":\"sigla_uf=%{x}\\u003cbr\\u003epib=%{y}\\u003cbr\\u003eano=%{text}\\u003cextra\\u003e\\u003c\\u002fextra\\u003e\",\"legendgroup\":\"SE\",\"marker\":{\"color\":\"#FF6692\",\"pattern\":{\"shape\":\"\"}},\"name\":\"SE\",\"offsetgroup\":\"SE\",\"orientation\":\"v\",\"showlegend\":true,\"text\":[2007.0,2008.0,2009.0,2010.0,2011.0,2012.0],\"textposition\":\"auto\",\"x\":[\"SE\",\"SE\",\"SE\",\"SE\",\"SE\",\"SE\"],\"xaxis\":\"x\",\"y\":[16895691000.0,19551803000.0,19767111000.0,23932155000.0,26198908000.0,27823191000.0],\"yaxis\":\"y\",\"type\":\"bar\"},{\"alignmentgroup\":\"True\",\"hovertemplate\":\"sigla_uf=%{x}\\u003cbr\\u003epib=%{y}\\u003cbr\\u003eano=%{text}\\u003cextra\\u003e\\u003c\\u002fextra\\u003e\",\"legendgroup\":\"AL\",\"marker\":{\"color\":\"#B6E880\",\"pattern\":{\"shape\":\"\"}},\"name\":\"AL\",\"offsetgroup\":\"AL\",\"orientation\":\"v\",\"showlegend\":true,\"text\":[2007.0,2008.0,2009.0,2010.0,2011.0,2012.0],\"textposition\":\"auto\",\"x\":[\"AL\",\"AL\",\"AL\",\"AL\",\"AL\",\"AL\"],\"xaxis\":\"x\",\"y\":[17793227000.0,19476861000.0,21234951000.0,24574808000.0,28540304000.0,29544708000.0],\"yaxis\":\"y\",\"type\":\"bar\"},{\"alignmentgroup\":\"True\",\"hovertemplate\":\"sigla_uf=%{x}\\u003cbr\\u003epib=%{y}\\u003cbr\\u003eano=%{text}\\u003cextra\\u003e\\u003c\\u002fextra\\u003e\",\"legendgroup\":\"PB\",\"marker\":{\"color\":\"#FF97FF\",\"pattern\":{\"shape\":\"\"}},\"name\":\"PB\",\"offsetgroup\":\"PB\",\"orientation\":\"v\",\"showlegend\":true,\"text\":[2007.0,2008.0,2009.0,2010.0,2011.0,2012.0],\"textposition\":\"auto\",\"x\":[\"PB\",\"PB\",\"PB\",\"PB\",\"PB\",\"PB\"],\"xaxis\":\"x\",\"y\":[22201750000.0,25696641000.0,28718598000.0,31947059000.0,35443832000.0,38731149000.0],\"yaxis\":\"y\",\"type\":\"bar\"},{\"alignmentgroup\":\"True\",\"hovertemplate\":\"sigla_uf=%{x}\\u003cbr\\u003epib=%{y}\\u003cbr\\u003eano=%{text}\\u003cextra\\u003e\\u003c\\u002fextra\\u003e\",\"legendgroup\":\"RN\",\"marker\":{\"color\":\"#FECB52\",\"pattern\":{\"shape\":\"\"}},\"name\":\"RN\",\"offsetgroup\":\"RN\",\"orientation\":\"v\",\"showlegend\":true,\"text\":[2007.0,2008.0,2009.0,2010.0,2011.0,2012.0],\"textposition\":\"auto\",\"x\":[\"RN\",\"RN\",\"RN\",\"RN\",\"RN\",\"RN\"],\"xaxis\":\"x\",\"y\":[22925563000.0,25481449000.0,27904989000.0,32338895000.0,36103202000.0,39543679000.0],\"yaxis\":\"y\",\"type\":\"bar\"},{\"alignmentgroup\":\"True\",\"hovertemplate\":\"sigla_uf=%{x}\\u003cbr\\u003epib=%{y}\\u003cbr\\u003eano=%{text}\\u003cextra\\u003e\\u003c\\u002fextra\\u003e\",\"legendgroup\":\"MS\",\"marker\":{\"color\":\"#636efa\",\"pattern\":{\"shape\":\"\"}},\"name\":\"MS\",\"offsetgroup\":\"MS\",\"orientation\":\"v\",\"showlegend\":true,\"text\":[2007.0,2008.0,2009.0,2010.0,2011.0,2012.0],\"textposition\":\"auto\",\"x\":[\"MS\",\"MS\",\"MS\",\"MS\",\"MS\",\"MS\"],\"xaxis\":\"x\",\"y\":[28121420000.0,33142746000.0,36368094000.0,43514207000.0,49242254000.0,54471447000.0],\"yaxis\":\"y\",\"type\":\"bar\"},{\"alignmentgroup\":\"True\",\"hovertemplate\":\"sigla_uf=%{x}\\u003cbr\\u003epib=%{y}\\u003cbr\\u003eano=%{text}\\u003cextra\\u003e\\u003c\\u002fextra\\u003e\",\"legendgroup\":\"MA\",\"marker\":{\"color\":\"#EF553B\",\"pattern\":{\"shape\":\"\"}},\"name\":\"MA\",\"offsetgroup\":\"MA\",\"orientation\":\"v\",\"showlegend\":true,\"text\":[2007.0,2008.0,2009.0,2010.0,2011.0,2012.0],\"textposition\":\"auto\",\"x\":[\"MA\",\"MA\",\"MA\",\"MA\",\"MA\",\"MA\"],\"xaxis\":\"x\",\"y\":[31606026000.0,38486010000.0,39854677000.0,45255942000.0,52187204000.0,58819683000.0],\"yaxis\":\"y\",\"type\":\"bar\"},{\"alignmentgroup\":\"True\",\"hovertemplate\":\"sigla_uf=%{x}\\u003cbr\\u003epib=%{y}\\u003cbr\\u003eano=%{text}\\u003cextra\\u003e\\u003c\\u002fextra\\u003e\",\"legendgroup\":\"AM\",\"marker\":{\"color\":\"#00cc96\",\"pattern\":{\"shape\":\"\"}},\"name\":\"AM\",\"offsetgroup\":\"AM\",\"orientation\":\"v\",\"showlegend\":true,\"text\":[2007.0,2008.0,2009.0,2010.0,2012.0,2011.0],\"textposition\":\"auto\",\"x\":[\"AM\",\"AM\",\"AM\",\"AM\",\"AM\",\"AM\"],\"xaxis\":\"x\",\"y\":[42023218000.0,46822569000.0,49614251000.0,59779292000.0,64119836000.0,64555404000.0],\"yaxis\":\"y\",\"type\":\"bar\"},{\"alignmentgroup\":\"True\",\"hovertemplate\":\"sigla_uf=%{x}\\u003cbr\\u003epib=%{y}\\u003cbr\\u003eano=%{text}\\u003cextra\\u003e\\u003c\\u002fextra\\u003e\",\"legendgroup\":\"MT\",\"marker\":{\"color\":\"#ab63fa\",\"pattern\":{\"shape\":\"\"}},\"name\":\"MT\",\"offsetgroup\":\"MT\",\"orientation\":\"v\",\"showlegend\":true,\"text\":[2007.0,2008.0,2009.0,2010.0,2011.0,2012.0],\"textposition\":\"auto\",\"x\":[\"MT\",\"MT\",\"MT\",\"MT\",\"MT\",\"MT\"],\"xaxis\":\"x\",\"y\":[42687119000.0,53386488000.0,57294192000.0,59599990000.0,71417805000.0,80830108000.0],\"yaxis\":\"y\",\"type\":\"bar\"},{\"alignmentgroup\":\"True\",\"hovertemplate\":\"sigla_uf=%{x}\\u003cbr\\u003epib=%{y}\\u003cbr\\u003eano=%{text}\\u003cextra\\u003e\\u003c\\u002fextra\\u003e\",\"legendgroup\":\"PA\",\"marker\":{\"color\":\"#FFA15A\",\"pattern\":{\"shape\":\"\"}},\"name\":\"PA\",\"offsetgroup\":\"PA\",\"orientation\":\"v\",\"showlegend\":true,\"text\":[2007.0,2009.0,2008.0,2010.0,2011.0,2012.0],\"textposition\":\"auto\",\"x\":[\"PA\",\"PA\",\"PA\",\"PA\",\"PA\",\"PA\"],\"xaxis\":\"x\",\"y\":[49507144000.0,58401830000.0,58518557000.0,77847597000.0,88370610000.0,91009014000.0],\"yaxis\":\"y\",\"type\":\"bar\"},{\"alignmentgroup\":\"True\",\"hovertemplate\":\"sigla_uf=%{x}\\u003cbr\\u003epib=%{y}\\u003cbr\\u003eano=%{text}\\u003cextra\\u003e\\u003c\\u002fextra\\u003e\",\"legendgroup\":\"CE\",\"marker\":{\"color\":\"#19d3f3\",\"pattern\":{\"shape\":\"\"}},\"name\":\"CE\",\"offsetgroup\":\"CE\",\"orientation\":\"v\",\"showlegend\":true,\"text\":[2007.0,2008.0,2009.0,2010.0,2011.0,2012.0],\"textposition\":\"auto\",\"x\":[\"CE\",\"CE\",\"CE\",\"CE\",\"CE\",\"CE\"],\"xaxis\":\"x\",\"y\":[50331383000.0,60098877000.0,65703761000.0,77865415000.0,87982450000.0,90131724000.0],\"yaxis\":\"y\",\"type\":\"bar\"},{\"alignmentgroup\":\"True\",\"hovertemplate\":\"sigla_uf=%{x}\\u003cbr\\u003epib=%{y}\\u003cbr\\u003eano=%{text}\\u003cextra\\u003e\\u003c\\u002fextra\\u003e\",\"legendgroup\":\"ES\",\"marker\":{\"color\":\"#FF6692\",\"pattern\":{\"shape\":\"\"}},\"name\":\"ES\",\"offsetgroup\":\"ES\",\"orientation\":\"v\",\"showlegend\":true,\"text\":[2007.0,2009.0,2008.0,2010.0,2011.0,2012.0],\"textposition\":\"auto\",\"x\":[\"ES\",\"ES\",\"ES\",\"ES\",\"ES\",\"ES\"],\"xaxis\":\"x\",\"y\":[60339817000.0,66763012000.0,69870222000.0,82121834000.0,97693458000.0,107328771000.0],\"yaxis\":\"y\",\"type\":\"bar\"},{\"alignmentgroup\":\"True\",\"hovertemplate\":\"sigla_uf=%{x}\\u003cbr\\u003epib=%{y}\\u003cbr\\u003eano=%{text}\\u003cextra\\u003e\\u003c\\u002fextra\\u003e\",\"legendgroup\":\"PE\",\"marker\":{\"color\":\"#B6E880\",\"pattern\":{\"shape\":\"\"}},\"name\":\"PE\",\"offsetgroup\":\"PE\",\"orientation\":\"v\",\"showlegend\":true,\"text\":[2007.0,2008.0,2009.0,2010.0,2011.0,2012.0],\"textposition\":\"auto\",\"x\":[\"PE\",\"PE\",\"PE\",\"PE\",\"PE\",\"PE\"],\"xaxis\":\"x\",\"y\":[62255687000.0,70440859000.0,78428308000.0,95186714000.0,104393980000.0,117340092000.0],\"yaxis\":\"y\",\"type\":\"bar\"},{\"alignmentgroup\":\"True\",\"hovertemplate\":\"sigla_uf=%{x}\\u003cbr\\u003epib=%{y}\\u003cbr\\u003eano=%{text}\\u003cextra\\u003e\\u003c\\u002fextra\\u003e\",\"legendgroup\":\"GO\",\"marker\":{\"color\":\"#FF97FF\",\"pattern\":{\"shape\":\"\"}},\"name\":\"GO\",\"offsetgroup\":\"GO\",\"orientation\":\"v\",\"showlegend\":true,\"text\":[2007.0,2008.0,2009.0,2010.0,2011.0,2012.0],\"textposition\":\"auto\",\"x\":[\"GO\",\"GO\",\"GO\",\"GO\",\"GO\",\"GO\"],\"xaxis\":\"x\",\"y\":[65210147000.0,75271163000.0,85615344000.0,97575930000.0,111268553000.0,123926301000.0],\"yaxis\":\"y\",\"type\":\"bar\"},{\"alignmentgroup\":\"True\",\"hovertemplate\":\"sigla_uf=%{x}\\u003cbr\\u003epib=%{y}\\u003cbr\\u003eano=%{text}\\u003cextra\\u003e\\u003c\\u002fextra\\u003e\",\"legendgroup\":\"media\",\"marker\":{\"color\":\"#FECB52\",\"pattern\":{\"shape\":\"\"}},\"name\":\"media\",\"offsetgroup\":\"media\",\"orientation\":\"v\",\"showlegend\":true,\"text\":[2007.0,2008.0,2009.0,2010.0,2011.0,2012.0],\"textposition\":\"auto\",\"x\":[\"media\",\"media\",\"media\",\"media\",\"media\",\"media\"],\"xaxis\":\"x\",\"y\":[98568315740.74074,112303833074.07408,119977928000.0,139632773111.1111,153444938370.37036,162670148000.0],\"yaxis\":\"y\",\"type\":\"bar\"},{\"alignmentgroup\":\"True\",\"hovertemplate\":\"sigla_uf=%{x}\\u003cbr\\u003epib=%{y}\\u003cbr\\u003eano=%{text}\\u003cextra\\u003e\\u003c\\u002fextra\\u003e\",\"legendgroup\":\"DF\",\"marker\":{\"color\":\"#636efa\",\"pattern\":{\"shape\":\"\"}},\"name\":\"DF\",\"offsetgroup\":\"DF\",\"orientation\":\"v\",\"showlegend\":true,\"text\":[2007.0,2008.0,2009.0,2010.0,2011.0,2012.0],\"textposition\":\"auto\",\"x\":[\"DF\",\"DF\",\"DF\",\"DF\",\"DF\",\"DF\"],\"xaxis\":\"x\",\"y\":[99945620000.0,117571878000.0,131487268000.0,149906319000.0,164482129000.0,171235534000.0],\"yaxis\":\"y\",\"type\":\"bar\"},{\"alignmentgroup\":\"True\",\"hovertemplate\":\"sigla_uf=%{x}\\u003cbr\\u003epib=%{y}\\u003cbr\\u003eano=%{text}\\u003cextra\\u003e\\u003c\\u002fextra\\u003e\",\"legendgroup\":\"SC\",\"marker\":{\"color\":\"#EF553B\",\"pattern\":{\"shape\":\"\"}},\"name\":\"SC\",\"offsetgroup\":\"SC\",\"orientation\":\"v\",\"showlegend\":true,\"text\":[2007.0,2008.0,2009.0,2010.0,2011.0,2012.0],\"textposition\":\"auto\",\"x\":[\"SC\",\"SC\",\"SC\",\"SC\",\"SC\",\"SC\"],\"xaxis\":\"x\",\"y\":[104622947000.0,123282295000.0,129806256000.0,152482338000.0,169049530000.0,177275691000.0],\"yaxis\":\"y\",\"type\":\"bar\"},{\"alignmentgroup\":\"True\",\"hovertemplate\":\"sigla_uf=%{x}\\u003cbr\\u003epib=%{y}\\u003cbr\\u003eano=%{text}\\u003cextra\\u003e\\u003c\\u002fextra\\u003e\",\"legendgroup\":\"BA\",\"marker\":{\"color\":\"#00cc96\",\"pattern\":{\"shape\":\"\"}},\"name\":\"BA\",\"offsetgroup\":\"BA\",\"orientation\":\"v\",\"showlegend\":true,\"text\":[2007.0,2008.0,2009.0,2010.0,2011.0,2012.0],\"textposition\":\"auto\",\"x\":[\"BA\",\"BA\",\"BA\",\"BA\",\"BA\",\"BA\"],\"xaxis\":\"x\",\"y\":[109651844000.0,121507056000.0,137074671000.0,154340458000.0,159868615000.0,167727375000.0],\"yaxis\":\"y\",\"type\":\"bar\"},{\"alignmentgroup\":\"True\",\"hovertemplate\":\"sigla_uf=%{x}\\u003cbr\\u003epib=%{y}\\u003cbr\\u003eano=%{text}\\u003cextra\\u003e\\u003c\\u002fextra\\u003e\",\"legendgroup\":\"PR\",\"marker\":{\"color\":\"#ab63fa\",\"pattern\":{\"shape\":\"\"}},\"name\":\"PR\",\"offsetgroup\":\"PR\",\"orientation\":\"v\",\"showlegend\":true,\"text\":[2007.0,2008.0,2009.0,2010.0,2011.0,2012.0],\"textposition\":\"auto\",\"x\":[\"PR\",\"PR\",\"PR\",\"PR\",\"PR\",\"PR\"],\"xaxis\":\"x\",\"y\":[161581844000.0,179263189000.0,189991949000.0,217289677000.0,239366010000.0,255926608000.0],\"yaxis\":\"y\",\"type\":\"bar\"},{\"alignmentgroup\":\"True\",\"hovertemplate\":\"sigla_uf=%{x}\\u003cbr\\u003epib=%{y}\\u003cbr\\u003eano=%{text}\\u003cextra\\u003e\\u003c\\u002fextra\\u003e\",\"legendgroup\":\"RS\",\"marker\":{\"color\":\"#FFA15A\",\"pattern\":{\"shape\":\"\"}},\"name\":\"RS\",\"offsetgroup\":\"RS\",\"orientation\":\"v\",\"showlegend\":true,\"text\":[2007.0,2008.0,2009.0,2010.0,2011.0,2012.0],\"textposition\":\"auto\",\"x\":[\"RS\",\"RS\",\"RS\",\"RS\",\"RS\",\"RS\"],\"xaxis\":\"x\",\"y\":[176615073000.0,199494246000.0,215863879000.0,252482597000.0,263633398000.0,277657666000.0],\"yaxis\":\"y\",\"type\":\"bar\"},{\"alignmentgroup\":\"True\",\"hovertemplate\":\"sigla_uf=%{x}\\u003cbr\\u003epib=%{y}\\u003cbr\\u003eano=%{text}\\u003cextra\\u003e\\u003c\\u002fextra\\u003e\",\"legendgroup\":\"MG\",\"marker\":{\"color\":\"#19d3f3\",\"pattern\":{\"shape\":\"\"}},\"name\":\"MG\",\"offsetgroup\":\"MG\",\"orientation\":\"v\",\"showlegend\":true,\"text\":[2007.0,2008.0,2009.0,2010.0,2011.0,2012.0],\"textposition\":\"auto\",\"x\":[\"MG\",\"MG\",\"MG\",\"MG\",\"MG\",\"MG\"],\"xaxis\":\"x\",\"y\":[241293054000.0,282520745000.0,287054748000.0,351380905000.0,386155622000.0,403551317000.0],\"yaxis\":\"y\",\"type\":\"bar\"},{\"alignmentgroup\":\"True\",\"hovertemplate\":\"sigla_uf=%{x}\\u003cbr\\u003epib=%{y}\\u003cbr\\u003eano=%{text}\\u003cextra\\u003e\\u003c\\u002fextra\\u003e\",\"legendgroup\":\"RJ\",\"marker\":{\"color\":\"#FF6692\",\"pattern\":{\"shape\":\"\"}},\"name\":\"RJ\",\"offsetgroup\":\"RJ\",\"orientation\":\"v\",\"showlegend\":true,\"text\":[2007.0,2008.0,2009.0,2010.0,2011.0,2012.0],\"textposition\":\"auto\",\"x\":[\"RJ\",\"RJ\",\"RJ\",\"RJ\",\"RJ\",\"RJ\"],\"xaxis\":\"x\",\"y\":[296767784000.0,343182068000.0,353878136000.0,407122794000.0,462376208000.0,504221371000.0],\"yaxis\":\"y\",\"type\":\"bar\"},{\"alignmentgroup\":\"True\",\"hovertemplate\":\"sigla_uf=%{x}\\u003cbr\\u003epib=%{y}\\u003cbr\\u003eano=%{text}\\u003cextra\\u003e\\u003c\\u002fextra\\u003e\",\"legendgroup\":\"SP\",\"marker\":{\"color\":\"#B6E880\",\"pattern\":{\"shape\":\"\"}},\"name\":\"SP\",\"offsetgroup\":\"SP\",\"orientation\":\"v\",\"showlegend\":true,\"text\":[2007.0,2008.0,2009.0,2010.0,2011.0,2012.0],\"textposition\":\"auto\",\"x\":[\"SP\",\"SP\",\"SP\",\"SP\",\"SP\",\"SP\"],\"xaxis\":\"x\",\"y\":[902784268000.0,1003015191000.0,1084353490000.0,1247595927000.0,1349465140000.0,1408903866000.0],\"yaxis\":\"y\",\"type\":\"bar\"}],                        {\"template\":{\"data\":{\"histogram2dcontour\":[{\"type\":\"histogram2dcontour\",\"colorbar\":{\"outlinewidth\":0,\"ticks\":\"\"},\"colorscale\":[[0.0,\"#0d0887\"],[0.1111111111111111,\"#46039f\"],[0.2222222222222222,\"#7201a8\"],[0.3333333333333333,\"#9c179e\"],[0.4444444444444444,\"#bd3786\"],[0.5555555555555556,\"#d8576b\"],[0.6666666666666666,\"#ed7953\"],[0.7777777777777778,\"#fb9f3a\"],[0.8888888888888888,\"#fdca26\"],[1.0,\"#f0f921\"]]}],\"choropleth\":[{\"type\":\"choropleth\",\"colorbar\":{\"outlinewidth\":0,\"ticks\":\"\"}}],\"histogram2d\":[{\"type\":\"histogram2d\",\"colorbar\":{\"outlinewidth\":0,\"ticks\":\"\"},\"colorscale\":[[0.0,\"#0d0887\"],[0.1111111111111111,\"#46039f\"],[0.2222222222222222,\"#7201a8\"],[0.3333333333333333,\"#9c179e\"],[0.4444444444444444,\"#bd3786\"],[0.5555555555555556,\"#d8576b\"],[0.6666666666666666,\"#ed7953\"],[0.7777777777777778,\"#fb9f3a\"],[0.8888888888888888,\"#fdca26\"],[1.0,\"#f0f921\"]]}],\"heatmap\":[{\"type\":\"heatmap\",\"colorbar\":{\"outlinewidth\":0,\"ticks\":\"\"},\"colorscale\":[[0.0,\"#0d0887\"],[0.1111111111111111,\"#46039f\"],[0.2222222222222222,\"#7201a8\"],[0.3333333333333333,\"#9c179e\"],[0.4444444444444444,\"#bd3786\"],[0.5555555555555556,\"#d8576b\"],[0.6666666666666666,\"#ed7953\"],[0.7777777777777778,\"#fb9f3a\"],[0.8888888888888888,\"#fdca26\"],[1.0,\"#f0f921\"]]}],\"heatmapgl\":[{\"type\":\"heatmapgl\",\"colorbar\":{\"outlinewidth\":0,\"ticks\":\"\"},\"colorscale\":[[0.0,\"#0d0887\"],[0.1111111111111111,\"#46039f\"],[0.2222222222222222,\"#7201a8\"],[0.3333333333333333,\"#9c179e\"],[0.4444444444444444,\"#bd3786\"],[0.5555555555555556,\"#d8576b\"],[0.6666666666666666,\"#ed7953\"],[0.7777777777777778,\"#fb9f3a\"],[0.8888888888888888,\"#fdca26\"],[1.0,\"#f0f921\"]]}],\"contourcarpet\":[{\"type\":\"contourcarpet\",\"colorbar\":{\"outlinewidth\":0,\"ticks\":\"\"}}],\"contour\":[{\"type\":\"contour\",\"colorbar\":{\"outlinewidth\":0,\"ticks\":\"\"},\"colorscale\":[[0.0,\"#0d0887\"],[0.1111111111111111,\"#46039f\"],[0.2222222222222222,\"#7201a8\"],[0.3333333333333333,\"#9c179e\"],[0.4444444444444444,\"#bd3786\"],[0.5555555555555556,\"#d8576b\"],[0.6666666666666666,\"#ed7953\"],[0.7777777777777778,\"#fb9f3a\"],[0.8888888888888888,\"#fdca26\"],[1.0,\"#f0f921\"]]}],\"surface\":[{\"type\":\"surface\",\"colorbar\":{\"outlinewidth\":0,\"ticks\":\"\"},\"colorscale\":[[0.0,\"#0d0887\"],[0.1111111111111111,\"#46039f\"],[0.2222222222222222,\"#7201a8\"],[0.3333333333333333,\"#9c179e\"],[0.4444444444444444,\"#bd3786\"],[0.5555555555555556,\"#d8576b\"],[0.6666666666666666,\"#ed7953\"],[0.7777777777777778,\"#fb9f3a\"],[0.8888888888888888,\"#fdca26\"],[1.0,\"#f0f921\"]]}],\"mesh3d\":[{\"type\":\"mesh3d\",\"colorbar\":{\"outlinewidth\":0,\"ticks\":\"\"}}],\"scatter\":[{\"fillpattern\":{\"fillmode\":\"overlay\",\"size\":10,\"solidity\":0.2},\"type\":\"scatter\"}],\"parcoords\":[{\"type\":\"parcoords\",\"line\":{\"colorbar\":{\"outlinewidth\":0,\"ticks\":\"\"}}}],\"scatterpolargl\":[{\"type\":\"scatterpolargl\",\"marker\":{\"colorbar\":{\"outlinewidth\":0,\"ticks\":\"\"}}}],\"bar\":[{\"error_x\":{\"color\":\"#2a3f5f\"},\"error_y\":{\"color\":\"#2a3f5f\"},\"marker\":{\"line\":{\"color\":\"#E5ECF6\",\"width\":0.5},\"pattern\":{\"fillmode\":\"overlay\",\"size\":10,\"solidity\":0.2}},\"type\":\"bar\"}],\"scattergeo\":[{\"type\":\"scattergeo\",\"marker\":{\"colorbar\":{\"outlinewidth\":0,\"ticks\":\"\"}}}],\"scatterpolar\":[{\"type\":\"scatterpolar\",\"marker\":{\"colorbar\":{\"outlinewidth\":0,\"ticks\":\"\"}}}],\"histogram\":[{\"marker\":{\"pattern\":{\"fillmode\":\"overlay\",\"size\":10,\"solidity\":0.2}},\"type\":\"histogram\"}],\"scattergl\":[{\"type\":\"scattergl\",\"marker\":{\"colorbar\":{\"outlinewidth\":0,\"ticks\":\"\"}}}],\"scatter3d\":[{\"type\":\"scatter3d\",\"line\":{\"colorbar\":{\"outlinewidth\":0,\"ticks\":\"\"}},\"marker\":{\"colorbar\":{\"outlinewidth\":0,\"ticks\":\"\"}}}],\"scattermapbox\":[{\"type\":\"scattermapbox\",\"marker\":{\"colorbar\":{\"outlinewidth\":0,\"ticks\":\"\"}}}],\"scatterternary\":[{\"type\":\"scatterternary\",\"marker\":{\"colorbar\":{\"outlinewidth\":0,\"ticks\":\"\"}}}],\"scattercarpet\":[{\"type\":\"scattercarpet\",\"marker\":{\"colorbar\":{\"outlinewidth\":0,\"ticks\":\"\"}}}],\"carpet\":[{\"aaxis\":{\"endlinecolor\":\"#2a3f5f\",\"gridcolor\":\"white\",\"linecolor\":\"white\",\"minorgridcolor\":\"white\",\"startlinecolor\":\"#2a3f5f\"},\"baxis\":{\"endlinecolor\":\"#2a3f5f\",\"gridcolor\":\"white\",\"linecolor\":\"white\",\"minorgridcolor\":\"white\",\"startlinecolor\":\"#2a3f5f\"},\"type\":\"carpet\"}],\"table\":[{\"cells\":{\"fill\":{\"color\":\"#EBF0F8\"},\"line\":{\"color\":\"white\"}},\"header\":{\"fill\":{\"color\":\"#C8D4E3\"},\"line\":{\"color\":\"white\"}},\"type\":\"table\"}],\"barpolar\":[{\"marker\":{\"line\":{\"color\":\"#E5ECF6\",\"width\":0.5},\"pattern\":{\"fillmode\":\"overlay\",\"size\":10,\"solidity\":0.2}},\"type\":\"barpolar\"}],\"pie\":[{\"automargin\":true,\"type\":\"pie\"}]},\"layout\":{\"autotypenumbers\":\"strict\",\"colorway\":[\"#636efa\",\"#EF553B\",\"#00cc96\",\"#ab63fa\",\"#FFA15A\",\"#19d3f3\",\"#FF6692\",\"#B6E880\",\"#FF97FF\",\"#FECB52\"],\"font\":{\"color\":\"#2a3f5f\"},\"hovermode\":\"closest\",\"hoverlabel\":{\"align\":\"left\"},\"paper_bgcolor\":\"white\",\"plot_bgcolor\":\"#E5ECF6\",\"polar\":{\"bgcolor\":\"#E5ECF6\",\"angularaxis\":{\"gridcolor\":\"white\",\"linecolor\":\"white\",\"ticks\":\"\"},\"radialaxis\":{\"gridcolor\":\"white\",\"linecolor\":\"white\",\"ticks\":\"\"}},\"ternary\":{\"bgcolor\":\"#E5ECF6\",\"aaxis\":{\"gridcolor\":\"white\",\"linecolor\":\"white\",\"ticks\":\"\"},\"baxis\":{\"gridcolor\":\"white\",\"linecolor\":\"white\",\"ticks\":\"\"},\"caxis\":{\"gridcolor\":\"white\",\"linecolor\":\"white\",\"ticks\":\"\"}},\"coloraxis\":{\"colorbar\":{\"outlinewidth\":0,\"ticks\":\"\"}},\"colorscale\":{\"sequential\":[[0.0,\"#0d0887\"],[0.1111111111111111,\"#46039f\"],[0.2222222222222222,\"#7201a8\"],[0.3333333333333333,\"#9c179e\"],[0.4444444444444444,\"#bd3786\"],[0.5555555555555556,\"#d8576b\"],[0.6666666666666666,\"#ed7953\"],[0.7777777777777778,\"#fb9f3a\"],[0.8888888888888888,\"#fdca26\"],[1.0,\"#f0f921\"]],\"sequentialminus\":[[0.0,\"#0d0887\"],[0.1111111111111111,\"#46039f\"],[0.2222222222222222,\"#7201a8\"],[0.3333333333333333,\"#9c179e\"],[0.4444444444444444,\"#bd3786\"],[0.5555555555555556,\"#d8576b\"],[0.6666666666666666,\"#ed7953\"],[0.7777777777777778,\"#fb9f3a\"],[0.8888888888888888,\"#fdca26\"],[1.0,\"#f0f921\"]],\"diverging\":[[0,\"#8e0152\"],[0.1,\"#c51b7d\"],[0.2,\"#de77ae\"],[0.3,\"#f1b6da\"],[0.4,\"#fde0ef\"],[0.5,\"#f7f7f7\"],[0.6,\"#e6f5d0\"],[0.7,\"#b8e186\"],[0.8,\"#7fbc41\"],[0.9,\"#4d9221\"],[1,\"#276419\"]]},\"xaxis\":{\"gridcolor\":\"white\",\"linecolor\":\"white\",\"ticks\":\"\",\"title\":{\"standoff\":15},\"zerolinecolor\":\"white\",\"automargin\":true,\"zerolinewidth\":2},\"yaxis\":{\"gridcolor\":\"white\",\"linecolor\":\"white\",\"ticks\":\"\",\"title\":{\"standoff\":15},\"zerolinecolor\":\"white\",\"automargin\":true,\"zerolinewidth\":2},\"scene\":{\"xaxis\":{\"backgroundcolor\":\"#E5ECF6\",\"gridcolor\":\"white\",\"linecolor\":\"white\",\"showbackground\":true,\"ticks\":\"\",\"zerolinecolor\":\"white\",\"gridwidth\":2},\"yaxis\":{\"backgroundcolor\":\"#E5ECF6\",\"gridcolor\":\"white\",\"linecolor\":\"white\",\"showbackground\":true,\"ticks\":\"\",\"zerolinecolor\":\"white\",\"gridwidth\":2},\"zaxis\":{\"backgroundcolor\":\"#E5ECF6\",\"gridcolor\":\"white\",\"linecolor\":\"white\",\"showbackground\":true,\"ticks\":\"\",\"zerolinecolor\":\"white\",\"gridwidth\":2}},\"shapedefaults\":{\"line\":{\"color\":\"#2a3f5f\"}},\"annotationdefaults\":{\"arrowcolor\":\"#2a3f5f\",\"arrowhead\":0,\"arrowwidth\":1},\"geo\":{\"bgcolor\":\"white\",\"landcolor\":\"#E5ECF6\",\"subunitcolor\":\"white\",\"showland\":true,\"showlakes\":true,\"lakecolor\":\"white\"},\"title\":{\"x\":0.05},\"mapbox\":{\"style\":\"light\"}}},\"xaxis\":{\"anchor\":\"y\",\"domain\":[0.0,1.0],\"title\":{\"text\":\"sigla_uf\"},\"categoryorder\":\"array\",\"categoryarray\":[\"RR\",\"AC\",\"AP\",\"TO\",\"PI\",\"RO\",\"SE\",\"AL\",\"PB\",\"RN\",\"MS\",\"MA\",\"AM\",\"MT\",\"PA\",\"CE\",\"ES\",\"PE\",\"GO\",\"media\",\"DF\",\"SC\",\"BA\",\"PR\",\"RS\",\"MG\",\"RJ\",\"SP\"]},\"yaxis\":{\"anchor\":\"x\",\"domain\":[0.0,1.0],\"title\":{\"text\":\"pib\"}},\"legend\":{\"title\":{\"text\":\"sigla_uf\"},\"tracegroupgap\":0},\"margin\":{\"t\":60},\"barmode\":\"relative\"},                        {\"responsive\": true}                    ).then(function(){\n",
       "                            \n",
       "var gd = document.getElementById('93e81793-d174-4dba-a89b-6764cc54d19d');\n",
       "var x = new MutationObserver(function (mutations, observer) {{\n",
       "        var display = window.getComputedStyle(gd).display;\n",
       "        if (!display || display === 'none') {{\n",
       "            console.log([gd, 'removed!']);\n",
       "            Plotly.purge(gd);\n",
       "            observer.disconnect();\n",
       "        }}\n",
       "}});\n",
       "\n",
       "// Listen for the removal of the full notebook cells\n",
       "var notebookContainer = gd.closest('#notebook-container');\n",
       "if (notebookContainer) {{\n",
       "    x.observe(notebookContainer, {childList: true});\n",
       "}}\n",
       "\n",
       "// Listen for the clearing of the current output cell\n",
       "var outputEl = gd.closest('.output');\n",
       "if (outputEl) {{\n",
       "    x.observe(outputEl, {childList: true});\n",
       "}}\n",
       "\n",
       "                        })                };                });            </script>        </div>"
      ]
     },
     "metadata": {},
     "output_type": "display_data"
    }
   ],
   "source": [
    "#grafico que mostra o pib anualmente empilhado dos estados\n",
    "#obs: a situação crescente do grafico se baseia apenas no pib do primeiro ano (2007)\n",
    "\n",
    "\n",
    "#grafico gerado pela base df_final que esta ordenada pelo pib, eixo y será o pib, eixo x os estados e os anos serão informados nas barras\n",
    "graf_pib = px.bar(df_final.sort_values(\"pib\"),y='pib' ,x ='sigla_uf',color = 'sigla_uf',text='ano')\n",
    "graf_pib.show()"
   ]
  },
  {
   "cell_type": "code",
   "execution_count": 196,
   "id": "40a10bf3-5cf6-4993-b5b3-58e80d8be202",
   "metadata": {},
   "outputs": [
    {
     "data": {
      "application/vnd.plotly.v1+json": {
       "config": {
        "plotlyServerURL": "https://plot.ly"
       },
       "data": [
        {
         "alignmentgroup": "True",
         "hovertemplate": "sigla_uf=%{x}<br>media_pib_ano=%{y}<extra></extra>",
         "legendgroup": "RR",
         "marker": {
          "color": "#636efa",
          "pattern": {
           "shape": ""
          }
         },
         "name": "RR",
         "offsetgroup": "RR",
         "orientation": "v",
         "showlegend": true,
         "textposition": "auto",
         "type": "bar",
         "x": [
          "RR"
         ],
         "xaxis": "x",
         "y": [
          5876169666.666667
         ],
         "yaxis": "y"
        },
        {
         "alignmentgroup": "True",
         "hovertemplate": "sigla_uf=%{x}<br>media_pib_ano=%{y}<extra></extra>",
         "legendgroup": "AC",
         "marker": {
          "color": "#EF553B",
          "pattern": {
           "shape": ""
          }
         },
         "name": "AC",
         "offsetgroup": "AC",
         "orientation": "v",
         "showlegend": true,
         "textposition": "auto",
         "type": "bar",
         "x": [
          "AC"
         ],
         "xaxis": "x",
         "y": [
          7796193500
         ],
         "yaxis": "y"
        },
        {
         "alignmentgroup": "True",
         "hovertemplate": "sigla_uf=%{x}<br>media_pib_ano=%{y}<extra></extra>",
         "legendgroup": "AP",
         "marker": {
          "color": "#00cc96",
          "pattern": {
           "shape": ""
          }
         },
         "name": "AP",
         "offsetgroup": "AP",
         "orientation": "v",
         "showlegend": true,
         "textposition": "auto",
         "type": "bar",
         "x": [
          "AP"
         ],
         "xaxis": "x",
         "y": [
          7974148500
         ],
         "yaxis": "y"
        },
        {
         "alignmentgroup": "True",
         "hovertemplate": "sigla_uf=%{x}<br>media_pib_ano=%{y}<extra></extra>",
         "legendgroup": "TO",
         "marker": {
          "color": "#ab63fa",
          "pattern": {
           "shape": ""
          }
         },
         "name": "TO",
         "offsetgroup": "TO",
         "orientation": "v",
         "showlegend": true,
         "textposition": "auto",
         "type": "bar",
         "x": [
          "TO"
         ],
         "xaxis": "x",
         "y": [
          15597446333.333334
         ],
         "yaxis": "y"
        },
        {
         "alignmentgroup": "True",
         "hovertemplate": "sigla_uf=%{x}<br>media_pib_ano=%{y}<extra></extra>",
         "legendgroup": "PI",
         "marker": {
          "color": "#FFA15A",
          "pattern": {
           "shape": ""
          }
         },
         "name": "PI",
         "offsetgroup": "PI",
         "orientation": "v",
         "showlegend": true,
         "textposition": "auto",
         "type": "bar",
         "x": [
          "PI"
         ],
         "xaxis": "x",
         "y": [
          20386071166.666668
         ],
         "yaxis": "y"
        },
        {
         "alignmentgroup": "True",
         "hovertemplate": "sigla_uf=%{x}<br>media_pib_ano=%{y}<extra></extra>",
         "legendgroup": "RO",
         "marker": {
          "color": "#19d3f3",
          "pattern": {
           "shape": ""
          }
         },
         "name": "RO",
         "offsetgroup": "RO",
         "orientation": "v",
         "showlegend": true,
         "textposition": "auto",
         "type": "bar",
         "x": [
          "RO"
         ],
         "xaxis": "x",
         "y": [
          22314741833.333332
         ],
         "yaxis": "y"
        },
        {
         "alignmentgroup": "True",
         "hovertemplate": "sigla_uf=%{x}<br>media_pib_ano=%{y}<extra></extra>",
         "legendgroup": "SE",
         "marker": {
          "color": "#FF6692",
          "pattern": {
           "shape": ""
          }
         },
         "name": "SE",
         "offsetgroup": "SE",
         "orientation": "v",
         "showlegend": true,
         "textposition": "auto",
         "type": "bar",
         "x": [
          "SE"
         ],
         "xaxis": "x",
         "y": [
          22361476500
         ],
         "yaxis": "y"
        },
        {
         "alignmentgroup": "True",
         "hovertemplate": "sigla_uf=%{x}<br>media_pib_ano=%{y}<extra></extra>",
         "legendgroup": "AL",
         "marker": {
          "color": "#B6E880",
          "pattern": {
           "shape": ""
          }
         },
         "name": "AL",
         "offsetgroup": "AL",
         "orientation": "v",
         "showlegend": true,
         "textposition": "auto",
         "type": "bar",
         "x": [
          "AL"
         ],
         "xaxis": "x",
         "y": [
          23527476500
         ],
         "yaxis": "y"
        },
        {
         "alignmentgroup": "True",
         "hovertemplate": "sigla_uf=%{x}<br>media_pib_ano=%{y}<extra></extra>",
         "legendgroup": "PB",
         "marker": {
          "color": "#FF97FF",
          "pattern": {
           "shape": ""
          }
         },
         "name": "PB",
         "offsetgroup": "PB",
         "orientation": "v",
         "showlegend": true,
         "textposition": "auto",
         "type": "bar",
         "x": [
          "PB"
         ],
         "xaxis": "x",
         "y": [
          30456504833.333332
         ],
         "yaxis": "y"
        },
        {
         "alignmentgroup": "True",
         "hovertemplate": "sigla_uf=%{x}<br>media_pib_ano=%{y}<extra></extra>",
         "legendgroup": "RN",
         "marker": {
          "color": "#FECB52",
          "pattern": {
           "shape": ""
          }
         },
         "name": "RN",
         "offsetgroup": "RN",
         "orientation": "v",
         "showlegend": true,
         "textposition": "auto",
         "type": "bar",
         "x": [
          "RN"
         ],
         "xaxis": "x",
         "y": [
          30716296166.666668
         ],
         "yaxis": "y"
        },
        {
         "alignmentgroup": "True",
         "hovertemplate": "sigla_uf=%{x}<br>media_pib_ano=%{y}<extra></extra>",
         "legendgroup": "MS",
         "marker": {
          "color": "#636efa",
          "pattern": {
           "shape": ""
          }
         },
         "name": "MS",
         "offsetgroup": "MS",
         "orientation": "v",
         "showlegend": true,
         "textposition": "auto",
         "type": "bar",
         "x": [
          "MS"
         ],
         "xaxis": "x",
         "y": [
          40810028000
         ],
         "yaxis": "y"
        },
        {
         "alignmentgroup": "True",
         "hovertemplate": "sigla_uf=%{x}<br>media_pib_ano=%{y}<extra></extra>",
         "legendgroup": "MA",
         "marker": {
          "color": "#EF553B",
          "pattern": {
           "shape": ""
          }
         },
         "name": "MA",
         "offsetgroup": "MA",
         "orientation": "v",
         "showlegend": true,
         "textposition": "auto",
         "type": "bar",
         "x": [
          "MA"
         ],
         "xaxis": "x",
         "y": [
          44368257000
         ],
         "yaxis": "y"
        },
        {
         "alignmentgroup": "True",
         "hovertemplate": "sigla_uf=%{x}<br>media_pib_ano=%{y}<extra></extra>",
         "legendgroup": "AM",
         "marker": {
          "color": "#00cc96",
          "pattern": {
           "shape": ""
          }
         },
         "name": "AM",
         "offsetgroup": "AM",
         "orientation": "v",
         "showlegend": true,
         "textposition": "auto",
         "type": "bar",
         "x": [
          "AM"
         ],
         "xaxis": "x",
         "y": [
          54485761666.666664
         ],
         "yaxis": "y"
        },
        {
         "alignmentgroup": "True",
         "hovertemplate": "sigla_uf=%{x}<br>media_pib_ano=%{y}<extra></extra>",
         "legendgroup": "MT",
         "marker": {
          "color": "#ab63fa",
          "pattern": {
           "shape": ""
          }
         },
         "name": "MT",
         "offsetgroup": "MT",
         "orientation": "v",
         "showlegend": true,
         "textposition": "auto",
         "type": "bar",
         "x": [
          "MT"
         ],
         "xaxis": "x",
         "y": [
          60869283666.666664
         ],
         "yaxis": "y"
        },
        {
         "alignmentgroup": "True",
         "hovertemplate": "sigla_uf=%{x}<br>media_pib_ano=%{y}<extra></extra>",
         "legendgroup": "PA",
         "marker": {
          "color": "#FFA15A",
          "pattern": {
           "shape": ""
          }
         },
         "name": "PA",
         "offsetgroup": "PA",
         "orientation": "v",
         "showlegend": true,
         "textposition": "auto",
         "type": "bar",
         "x": [
          "PA"
         ],
         "xaxis": "x",
         "y": [
          70609125333.33333
         ],
         "yaxis": "y"
        },
        {
         "alignmentgroup": "True",
         "hovertemplate": "sigla_uf=%{x}<br>media_pib_ano=%{y}<extra></extra>",
         "legendgroup": "CE",
         "marker": {
          "color": "#19d3f3",
          "pattern": {
           "shape": ""
          }
         },
         "name": "CE",
         "offsetgroup": "CE",
         "orientation": "v",
         "showlegend": true,
         "textposition": "auto",
         "type": "bar",
         "x": [
          "CE"
         ],
         "xaxis": "x",
         "y": [
          72018935000
         ],
         "yaxis": "y"
        },
        {
         "alignmentgroup": "True",
         "hovertemplate": "sigla_uf=%{x}<br>media_pib_ano=%{y}<extra></extra>",
         "legendgroup": "ES",
         "marker": {
          "color": "#FF6692",
          "pattern": {
           "shape": ""
          }
         },
         "name": "ES",
         "offsetgroup": "ES",
         "orientation": "v",
         "showlegend": true,
         "textposition": "auto",
         "type": "bar",
         "x": [
          "ES"
         ],
         "xaxis": "x",
         "y": [
          80686185666.66667
         ],
         "yaxis": "y"
        },
        {
         "alignmentgroup": "True",
         "hovertemplate": "sigla_uf=%{x}<br>media_pib_ano=%{y}<extra></extra>",
         "legendgroup": "PE",
         "marker": {
          "color": "#B6E880",
          "pattern": {
           "shape": ""
          }
         },
         "name": "PE",
         "offsetgroup": "PE",
         "orientation": "v",
         "showlegend": true,
         "textposition": "auto",
         "type": "bar",
         "x": [
          "PE"
         ],
         "xaxis": "x",
         "y": [
          88007606666.66667
         ],
         "yaxis": "y"
        },
        {
         "alignmentgroup": "True",
         "hovertemplate": "sigla_uf=%{x}<br>media_pib_ano=%{y}<extra></extra>",
         "legendgroup": "GO",
         "marker": {
          "color": "#FF97FF",
          "pattern": {
           "shape": ""
          }
         },
         "name": "GO",
         "offsetgroup": "GO",
         "orientation": "v",
         "showlegend": true,
         "textposition": "auto",
         "type": "bar",
         "x": [
          "GO"
         ],
         "xaxis": "x",
         "y": [
          93144573000
         ],
         "yaxis": "y"
        },
        {
         "alignmentgroup": "True",
         "hovertemplate": "sigla_uf=%{x}<br>media_pib_ano=%{y}<extra></extra>",
         "legendgroup": "media",
         "marker": {
          "color": "#FECB52",
          "pattern": {
           "shape": ""
          }
         },
         "name": "media",
         "offsetgroup": "media",
         "orientation": "v",
         "showlegend": true,
         "textposition": "auto",
         "type": "bar",
         "visible": "legendonly",
         "x": [
          "media"
         ],
         "xaxis": "x",
         "y": [
          131099656049.3827
         ],
         "yaxis": "y"
        },
        {
         "alignmentgroup": "True",
         "hovertemplate": "sigla_uf=%{x}<br>media_pib_ano=%{y}<extra></extra>",
         "legendgroup": "DF",
         "marker": {
          "color": "#636efa",
          "pattern": {
           "shape": ""
          }
         },
         "name": "DF",
         "offsetgroup": "DF",
         "orientation": "v",
         "showlegend": true,
         "textposition": "auto",
         "type": "bar",
         "x": [
          "DF"
         ],
         "xaxis": "x",
         "y": [
          139104791333.33334
         ],
         "yaxis": "y"
        },
        {
         "alignmentgroup": "True",
         "hovertemplate": "sigla_uf=%{x}<br>media_pib_ano=%{y}<extra></extra>",
         "legendgroup": "BA",
         "marker": {
          "color": "#EF553B",
          "pattern": {
           "shape": ""
          }
         },
         "name": "BA",
         "offsetgroup": "BA",
         "orientation": "v",
         "showlegend": true,
         "textposition": "auto",
         "type": "bar",
         "x": [
          "BA"
         ],
         "xaxis": "x",
         "y": [
          141695003166.66666
         ],
         "yaxis": "y"
        },
        {
         "alignmentgroup": "True",
         "hovertemplate": "sigla_uf=%{x}<br>media_pib_ano=%{y}<extra></extra>",
         "legendgroup": "SC",
         "marker": {
          "color": "#00cc96",
          "pattern": {
           "shape": ""
          }
         },
         "name": "SC",
         "offsetgroup": "SC",
         "orientation": "v",
         "showlegend": true,
         "textposition": "auto",
         "type": "bar",
         "x": [
          "SC"
         ],
         "xaxis": "x",
         "y": [
          142753176166.66666
         ],
         "yaxis": "y"
        },
        {
         "alignmentgroup": "True",
         "hovertemplate": "sigla_uf=%{x}<br>media_pib_ano=%{y}<extra></extra>",
         "legendgroup": "PR",
         "marker": {
          "color": "#ab63fa",
          "pattern": {
           "shape": ""
          }
         },
         "name": "PR",
         "offsetgroup": "PR",
         "orientation": "v",
         "showlegend": true,
         "textposition": "auto",
         "type": "bar",
         "x": [
          "PR"
         ],
         "xaxis": "x",
         "y": [
          207236546166.66666
         ],
         "yaxis": "y"
        },
        {
         "alignmentgroup": "True",
         "hovertemplate": "sigla_uf=%{x}<br>media_pib_ano=%{y}<extra></extra>",
         "legendgroup": "RS",
         "marker": {
          "color": "#FFA15A",
          "pattern": {
           "shape": ""
          }
         },
         "name": "RS",
         "offsetgroup": "RS",
         "orientation": "v",
         "showlegend": true,
         "textposition": "auto",
         "type": "bar",
         "x": [
          "RS"
         ],
         "xaxis": "x",
         "y": [
          230957809833.33334
         ],
         "yaxis": "y"
        },
        {
         "alignmentgroup": "True",
         "hovertemplate": "sigla_uf=%{x}<br>media_pib_ano=%{y}<extra></extra>",
         "legendgroup": "MG",
         "marker": {
          "color": "#19d3f3",
          "pattern": {
           "shape": ""
          }
         },
         "name": "MG",
         "offsetgroup": "MG",
         "orientation": "v",
         "showlegend": true,
         "textposition": "auto",
         "type": "bar",
         "x": [
          "MG"
         ],
         "xaxis": "x",
         "y": [
          325326065166.6667
         ],
         "yaxis": "y"
        },
        {
         "alignmentgroup": "True",
         "hovertemplate": "sigla_uf=%{x}<br>media_pib_ano=%{y}<extra></extra>",
         "legendgroup": "RJ",
         "marker": {
          "color": "#FF6692",
          "pattern": {
           "shape": ""
          }
         },
         "name": "RJ",
         "offsetgroup": "RJ",
         "orientation": "v",
         "showlegend": true,
         "textposition": "auto",
         "type": "bar",
         "x": [
          "RJ"
         ],
         "xaxis": "x",
         "y": [
          394591393500
         ],
         "yaxis": "y"
        },
        {
         "alignmentgroup": "True",
         "hovertemplate": "sigla_uf=%{x}<br>media_pib_ano=%{y}<extra></extra>",
         "legendgroup": "SP",
         "marker": {
          "color": "#B6E880",
          "pattern": {
           "shape": ""
          }
         },
         "name": "SP",
         "offsetgroup": "SP",
         "orientation": "v",
         "showlegend": true,
         "textposition": "auto",
         "type": "bar",
         "x": [
          "SP"
         ],
         "xaxis": "x",
         "y": [
          1166019647000
         ],
         "yaxis": "y"
        }
       ],
       "layout": {
        "autosize": true,
        "barmode": "relative",
        "legend": {
         "title": {
          "text": "sigla_uf"
         },
         "tracegroupgap": 0
        },
        "margin": {
         "t": 60
        },
        "template": {
         "data": {
          "bar": [
           {
            "error_x": {
             "color": "#2a3f5f"
            },
            "error_y": {
             "color": "#2a3f5f"
            },
            "marker": {
             "line": {
              "color": "#E5ECF6",
              "width": 0.5
             },
             "pattern": {
              "fillmode": "overlay",
              "size": 10,
              "solidity": 0.2
             }
            },
            "type": "bar"
           }
          ],
          "barpolar": [
           {
            "marker": {
             "line": {
              "color": "#E5ECF6",
              "width": 0.5
             },
             "pattern": {
              "fillmode": "overlay",
              "size": 10,
              "solidity": 0.2
             }
            },
            "type": "barpolar"
           }
          ],
          "carpet": [
           {
            "aaxis": {
             "endlinecolor": "#2a3f5f",
             "gridcolor": "white",
             "linecolor": "white",
             "minorgridcolor": "white",
             "startlinecolor": "#2a3f5f"
            },
            "baxis": {
             "endlinecolor": "#2a3f5f",
             "gridcolor": "white",
             "linecolor": "white",
             "minorgridcolor": "white",
             "startlinecolor": "#2a3f5f"
            },
            "type": "carpet"
           }
          ],
          "choropleth": [
           {
            "colorbar": {
             "outlinewidth": 0,
             "ticks": ""
            },
            "type": "choropleth"
           }
          ],
          "contour": [
           {
            "colorbar": {
             "outlinewidth": 0,
             "ticks": ""
            },
            "colorscale": [
             [
              0,
              "#0d0887"
             ],
             [
              0.1111111111111111,
              "#46039f"
             ],
             [
              0.2222222222222222,
              "#7201a8"
             ],
             [
              0.3333333333333333,
              "#9c179e"
             ],
             [
              0.4444444444444444,
              "#bd3786"
             ],
             [
              0.5555555555555556,
              "#d8576b"
             ],
             [
              0.6666666666666666,
              "#ed7953"
             ],
             [
              0.7777777777777778,
              "#fb9f3a"
             ],
             [
              0.8888888888888888,
              "#fdca26"
             ],
             [
              1,
              "#f0f921"
             ]
            ],
            "type": "contour"
           }
          ],
          "contourcarpet": [
           {
            "colorbar": {
             "outlinewidth": 0,
             "ticks": ""
            },
            "type": "contourcarpet"
           }
          ],
          "heatmap": [
           {
            "colorbar": {
             "outlinewidth": 0,
             "ticks": ""
            },
            "colorscale": [
             [
              0,
              "#0d0887"
             ],
             [
              0.1111111111111111,
              "#46039f"
             ],
             [
              0.2222222222222222,
              "#7201a8"
             ],
             [
              0.3333333333333333,
              "#9c179e"
             ],
             [
              0.4444444444444444,
              "#bd3786"
             ],
             [
              0.5555555555555556,
              "#d8576b"
             ],
             [
              0.6666666666666666,
              "#ed7953"
             ],
             [
              0.7777777777777778,
              "#fb9f3a"
             ],
             [
              0.8888888888888888,
              "#fdca26"
             ],
             [
              1,
              "#f0f921"
             ]
            ],
            "type": "heatmap"
           }
          ],
          "heatmapgl": [
           {
            "colorbar": {
             "outlinewidth": 0,
             "ticks": ""
            },
            "colorscale": [
             [
              0,
              "#0d0887"
             ],
             [
              0.1111111111111111,
              "#46039f"
             ],
             [
              0.2222222222222222,
              "#7201a8"
             ],
             [
              0.3333333333333333,
              "#9c179e"
             ],
             [
              0.4444444444444444,
              "#bd3786"
             ],
             [
              0.5555555555555556,
              "#d8576b"
             ],
             [
              0.6666666666666666,
              "#ed7953"
             ],
             [
              0.7777777777777778,
              "#fb9f3a"
             ],
             [
              0.8888888888888888,
              "#fdca26"
             ],
             [
              1,
              "#f0f921"
             ]
            ],
            "type": "heatmapgl"
           }
          ],
          "histogram": [
           {
            "marker": {
             "pattern": {
              "fillmode": "overlay",
              "size": 10,
              "solidity": 0.2
             }
            },
            "type": "histogram"
           }
          ],
          "histogram2d": [
           {
            "colorbar": {
             "outlinewidth": 0,
             "ticks": ""
            },
            "colorscale": [
             [
              0,
              "#0d0887"
             ],
             [
              0.1111111111111111,
              "#46039f"
             ],
             [
              0.2222222222222222,
              "#7201a8"
             ],
             [
              0.3333333333333333,
              "#9c179e"
             ],
             [
              0.4444444444444444,
              "#bd3786"
             ],
             [
              0.5555555555555556,
              "#d8576b"
             ],
             [
              0.6666666666666666,
              "#ed7953"
             ],
             [
              0.7777777777777778,
              "#fb9f3a"
             ],
             [
              0.8888888888888888,
              "#fdca26"
             ],
             [
              1,
              "#f0f921"
             ]
            ],
            "type": "histogram2d"
           }
          ],
          "histogram2dcontour": [
           {
            "colorbar": {
             "outlinewidth": 0,
             "ticks": ""
            },
            "colorscale": [
             [
              0,
              "#0d0887"
             ],
             [
              0.1111111111111111,
              "#46039f"
             ],
             [
              0.2222222222222222,
              "#7201a8"
             ],
             [
              0.3333333333333333,
              "#9c179e"
             ],
             [
              0.4444444444444444,
              "#bd3786"
             ],
             [
              0.5555555555555556,
              "#d8576b"
             ],
             [
              0.6666666666666666,
              "#ed7953"
             ],
             [
              0.7777777777777778,
              "#fb9f3a"
             ],
             [
              0.8888888888888888,
              "#fdca26"
             ],
             [
              1,
              "#f0f921"
             ]
            ],
            "type": "histogram2dcontour"
           }
          ],
          "mesh3d": [
           {
            "colorbar": {
             "outlinewidth": 0,
             "ticks": ""
            },
            "type": "mesh3d"
           }
          ],
          "parcoords": [
           {
            "line": {
             "colorbar": {
              "outlinewidth": 0,
              "ticks": ""
             }
            },
            "type": "parcoords"
           }
          ],
          "pie": [
           {
            "automargin": true,
            "type": "pie"
           }
          ],
          "scatter": [
           {
            "fillpattern": {
             "fillmode": "overlay",
             "size": 10,
             "solidity": 0.2
            },
            "type": "scatter"
           }
          ],
          "scatter3d": [
           {
            "line": {
             "colorbar": {
              "outlinewidth": 0,
              "ticks": ""
             }
            },
            "marker": {
             "colorbar": {
              "outlinewidth": 0,
              "ticks": ""
             }
            },
            "type": "scatter3d"
           }
          ],
          "scattercarpet": [
           {
            "marker": {
             "colorbar": {
              "outlinewidth": 0,
              "ticks": ""
             }
            },
            "type": "scattercarpet"
           }
          ],
          "scattergeo": [
           {
            "marker": {
             "colorbar": {
              "outlinewidth": 0,
              "ticks": ""
             }
            },
            "type": "scattergeo"
           }
          ],
          "scattergl": [
           {
            "marker": {
             "colorbar": {
              "outlinewidth": 0,
              "ticks": ""
             }
            },
            "type": "scattergl"
           }
          ],
          "scattermapbox": [
           {
            "marker": {
             "colorbar": {
              "outlinewidth": 0,
              "ticks": ""
             }
            },
            "type": "scattermapbox"
           }
          ],
          "scatterpolar": [
           {
            "marker": {
             "colorbar": {
              "outlinewidth": 0,
              "ticks": ""
             }
            },
            "type": "scatterpolar"
           }
          ],
          "scatterpolargl": [
           {
            "marker": {
             "colorbar": {
              "outlinewidth": 0,
              "ticks": ""
             }
            },
            "type": "scatterpolargl"
           }
          ],
          "scatterternary": [
           {
            "marker": {
             "colorbar": {
              "outlinewidth": 0,
              "ticks": ""
             }
            },
            "type": "scatterternary"
           }
          ],
          "surface": [
           {
            "colorbar": {
             "outlinewidth": 0,
             "ticks": ""
            },
            "colorscale": [
             [
              0,
              "#0d0887"
             ],
             [
              0.1111111111111111,
              "#46039f"
             ],
             [
              0.2222222222222222,
              "#7201a8"
             ],
             [
              0.3333333333333333,
              "#9c179e"
             ],
             [
              0.4444444444444444,
              "#bd3786"
             ],
             [
              0.5555555555555556,
              "#d8576b"
             ],
             [
              0.6666666666666666,
              "#ed7953"
             ],
             [
              0.7777777777777778,
              "#fb9f3a"
             ],
             [
              0.8888888888888888,
              "#fdca26"
             ],
             [
              1,
              "#f0f921"
             ]
            ],
            "type": "surface"
           }
          ],
          "table": [
           {
            "cells": {
             "fill": {
              "color": "#EBF0F8"
             },
             "line": {
              "color": "white"
             }
            },
            "header": {
             "fill": {
              "color": "#C8D4E3"
             },
             "line": {
              "color": "white"
             }
            },
            "type": "table"
           }
          ]
         },
         "layout": {
          "annotationdefaults": {
           "arrowcolor": "#2a3f5f",
           "arrowhead": 0,
           "arrowwidth": 1
          },
          "autotypenumbers": "strict",
          "coloraxis": {
           "colorbar": {
            "outlinewidth": 0,
            "ticks": ""
           }
          },
          "colorscale": {
           "diverging": [
            [
             0,
             "#8e0152"
            ],
            [
             0.1,
             "#c51b7d"
            ],
            [
             0.2,
             "#de77ae"
            ],
            [
             0.3,
             "#f1b6da"
            ],
            [
             0.4,
             "#fde0ef"
            ],
            [
             0.5,
             "#f7f7f7"
            ],
            [
             0.6,
             "#e6f5d0"
            ],
            [
             0.7,
             "#b8e186"
            ],
            [
             0.8,
             "#7fbc41"
            ],
            [
             0.9,
             "#4d9221"
            ],
            [
             1,
             "#276419"
            ]
           ],
           "sequential": [
            [
             0,
             "#0d0887"
            ],
            [
             0.1111111111111111,
             "#46039f"
            ],
            [
             0.2222222222222222,
             "#7201a8"
            ],
            [
             0.3333333333333333,
             "#9c179e"
            ],
            [
             0.4444444444444444,
             "#bd3786"
            ],
            [
             0.5555555555555556,
             "#d8576b"
            ],
            [
             0.6666666666666666,
             "#ed7953"
            ],
            [
             0.7777777777777778,
             "#fb9f3a"
            ],
            [
             0.8888888888888888,
             "#fdca26"
            ],
            [
             1,
             "#f0f921"
            ]
           ],
           "sequentialminus": [
            [
             0,
             "#0d0887"
            ],
            [
             0.1111111111111111,
             "#46039f"
            ],
            [
             0.2222222222222222,
             "#7201a8"
            ],
            [
             0.3333333333333333,
             "#9c179e"
            ],
            [
             0.4444444444444444,
             "#bd3786"
            ],
            [
             0.5555555555555556,
             "#d8576b"
            ],
            [
             0.6666666666666666,
             "#ed7953"
            ],
            [
             0.7777777777777778,
             "#fb9f3a"
            ],
            [
             0.8888888888888888,
             "#fdca26"
            ],
            [
             1,
             "#f0f921"
            ]
           ]
          },
          "colorway": [
           "#636efa",
           "#EF553B",
           "#00cc96",
           "#ab63fa",
           "#FFA15A",
           "#19d3f3",
           "#FF6692",
           "#B6E880",
           "#FF97FF",
           "#FECB52"
          ],
          "font": {
           "color": "#2a3f5f"
          },
          "geo": {
           "bgcolor": "white",
           "lakecolor": "white",
           "landcolor": "#E5ECF6",
           "showlakes": true,
           "showland": true,
           "subunitcolor": "white"
          },
          "hoverlabel": {
           "align": "left"
          },
          "hovermode": "closest",
          "mapbox": {
           "style": "light"
          },
          "paper_bgcolor": "white",
          "plot_bgcolor": "#E5ECF6",
          "polar": {
           "angularaxis": {
            "gridcolor": "white",
            "linecolor": "white",
            "ticks": ""
           },
           "bgcolor": "#E5ECF6",
           "radialaxis": {
            "gridcolor": "white",
            "linecolor": "white",
            "ticks": ""
           }
          },
          "scene": {
           "xaxis": {
            "backgroundcolor": "#E5ECF6",
            "gridcolor": "white",
            "gridwidth": 2,
            "linecolor": "white",
            "showbackground": true,
            "ticks": "",
            "zerolinecolor": "white"
           },
           "yaxis": {
            "backgroundcolor": "#E5ECF6",
            "gridcolor": "white",
            "gridwidth": 2,
            "linecolor": "white",
            "showbackground": true,
            "ticks": "",
            "zerolinecolor": "white"
           },
           "zaxis": {
            "backgroundcolor": "#E5ECF6",
            "gridcolor": "white",
            "gridwidth": 2,
            "linecolor": "white",
            "showbackground": true,
            "ticks": "",
            "zerolinecolor": "white"
           }
          },
          "shapedefaults": {
           "line": {
            "color": "#2a3f5f"
           }
          },
          "ternary": {
           "aaxis": {
            "gridcolor": "white",
            "linecolor": "white",
            "ticks": ""
           },
           "baxis": {
            "gridcolor": "white",
            "linecolor": "white",
            "ticks": ""
           },
           "bgcolor": "#E5ECF6",
           "caxis": {
            "gridcolor": "white",
            "linecolor": "white",
            "ticks": ""
           }
          },
          "title": {
           "x": 0.05
          },
          "xaxis": {
           "automargin": true,
           "gridcolor": "white",
           "linecolor": "white",
           "ticks": "",
           "title": {
            "standoff": 15
           },
           "zerolinecolor": "white",
           "zerolinewidth": 2
          },
          "yaxis": {
           "automargin": true,
           "gridcolor": "white",
           "linecolor": "white",
           "ticks": "",
           "title": {
            "standoff": 15
           },
           "zerolinecolor": "white",
           "zerolinewidth": 2
          }
         }
        },
        "xaxis": {
         "anchor": "y",
         "autorange": true,
         "categoryarray": [
          "RR",
          "AC",
          "AP",
          "TO",
          "PI",
          "RO",
          "SE",
          "AL",
          "PB",
          "RN",
          "MS",
          "MA",
          "AM",
          "MT",
          "PA",
          "CE",
          "ES",
          "PE",
          "GO",
          "media",
          "DF",
          "BA",
          "SC",
          "PR",
          "RS",
          "MG",
          "RJ",
          "SP"
         ],
         "categoryorder": "array",
         "domain": [
          0,
          1
         ],
         "range": [
          -0.5,
          27.5
         ],
         "title": {
          "text": "sigla_uf"
         },
         "type": "category"
        },
        "yaxis": {
         "anchor": "x",
         "autorange": false,
         "domain": [
          0,
          1
         ],
         "range": [
          0,
          1227000000000
         ],
         "title": {
          "text": "media_pib_ano"
         },
         "type": "linear"
        }
       }
      },
      "image/png": "[encoded data removed]",
      "text/html": [
       "<div>                            <div id=\"a010092b-f129-401a-8fdb-270e4a4eb207\" class=\"plotly-graph-div\" style=\"height:525px; width:100%;\"></div>            <script type=\"text/javascript\">                require([\"plotly\"], function(Plotly) {                    window.PLOTLYENV=window.PLOTLYENV || {};                                    if (document.getElementById(\"a010092b-f129-401a-8fdb-270e4a4eb207\")) {                    Plotly.newPlot(                        \"a010092b-f129-401a-8fdb-270e4a4eb207\",                        [{\"alignmentgroup\":\"True\",\"hovertemplate\":\"sigla_uf=%{x}\\u003cbr\\u003emedia_pib_ano=%{y}\\u003cextra\\u003e\\u003c\\u002fextra\\u003e\",\"legendgroup\":\"RR\",\"marker\":{\"color\":\"#636efa\",\"pattern\":{\"shape\":\"\"}},\"name\":\"RR\",\"offsetgroup\":\"RR\",\"orientation\":\"v\",\"showlegend\":true,\"textposition\":\"auto\",\"x\":[\"RR\"],\"xaxis\":\"x\",\"y\":[5876169666.666667],\"yaxis\":\"y\",\"type\":\"bar\"},{\"alignmentgroup\":\"True\",\"hovertemplate\":\"sigla_uf=%{x}\\u003cbr\\u003emedia_pib_ano=%{y}\\u003cextra\\u003e\\u003c\\u002fextra\\u003e\",\"legendgroup\":\"AC\",\"marker\":{\"color\":\"#EF553B\",\"pattern\":{\"shape\":\"\"}},\"name\":\"AC\",\"offsetgroup\":\"AC\",\"orientation\":\"v\",\"showlegend\":true,\"textposition\":\"auto\",\"x\":[\"AC\"],\"xaxis\":\"x\",\"y\":[7796193500.0],\"yaxis\":\"y\",\"type\":\"bar\"},{\"alignmentgroup\":\"True\",\"hovertemplate\":\"sigla_uf=%{x}\\u003cbr\\u003emedia_pib_ano=%{y}\\u003cextra\\u003e\\u003c\\u002fextra\\u003e\",\"legendgroup\":\"AP\",\"marker\":{\"color\":\"#00cc96\",\"pattern\":{\"shape\":\"\"}},\"name\":\"AP\",\"offsetgroup\":\"AP\",\"orientation\":\"v\",\"showlegend\":true,\"textposition\":\"auto\",\"x\":[\"AP\"],\"xaxis\":\"x\",\"y\":[7974148500.0],\"yaxis\":\"y\",\"type\":\"bar\"},{\"alignmentgroup\":\"True\",\"hovertemplate\":\"sigla_uf=%{x}\\u003cbr\\u003emedia_pib_ano=%{y}\\u003cextra\\u003e\\u003c\\u002fextra\\u003e\",\"legendgroup\":\"TO\",\"marker\":{\"color\":\"#ab63fa\",\"pattern\":{\"shape\":\"\"}},\"name\":\"TO\",\"offsetgroup\":\"TO\",\"orientation\":\"v\",\"showlegend\":true,\"textposition\":\"auto\",\"x\":[\"TO\"],\"xaxis\":\"x\",\"y\":[15597446333.333334],\"yaxis\":\"y\",\"type\":\"bar\"},{\"alignmentgroup\":\"True\",\"hovertemplate\":\"sigla_uf=%{x}\\u003cbr\\u003emedia_pib_ano=%{y}\\u003cextra\\u003e\\u003c\\u002fextra\\u003e\",\"legendgroup\":\"PI\",\"marker\":{\"color\":\"#FFA15A\",\"pattern\":{\"shape\":\"\"}},\"name\":\"PI\",\"offsetgroup\":\"PI\",\"orientation\":\"v\",\"showlegend\":true,\"textposition\":\"auto\",\"x\":[\"PI\"],\"xaxis\":\"x\",\"y\":[20386071166.666668],\"yaxis\":\"y\",\"type\":\"bar\"},{\"alignmentgroup\":\"True\",\"hovertemplate\":\"sigla_uf=%{x}\\u003cbr\\u003emedia_pib_ano=%{y}\\u003cextra\\u003e\\u003c\\u002fextra\\u003e\",\"legendgroup\":\"RO\",\"marker\":{\"color\":\"#19d3f3\",\"pattern\":{\"shape\":\"\"}},\"name\":\"RO\",\"offsetgroup\":\"RO\",\"orientation\":\"v\",\"showlegend\":true,\"textposition\":\"auto\",\"x\":[\"RO\"],\"xaxis\":\"x\",\"y\":[22314741833.333332],\"yaxis\":\"y\",\"type\":\"bar\"},{\"alignmentgroup\":\"True\",\"hovertemplate\":\"sigla_uf=%{x}\\u003cbr\\u003emedia_pib_ano=%{y}\\u003cextra\\u003e\\u003c\\u002fextra\\u003e\",\"legendgroup\":\"SE\",\"marker\":{\"color\":\"#FF6692\",\"pattern\":{\"shape\":\"\"}},\"name\":\"SE\",\"offsetgroup\":\"SE\",\"orientation\":\"v\",\"showlegend\":true,\"textposition\":\"auto\",\"x\":[\"SE\"],\"xaxis\":\"x\",\"y\":[22361476500.0],\"yaxis\":\"y\",\"type\":\"bar\"},{\"alignmentgroup\":\"True\",\"hovertemplate\":\"sigla_uf=%{x}\\u003cbr\\u003emedia_pib_ano=%{y}\\u003cextra\\u003e\\u003c\\u002fextra\\u003e\",\"legendgroup\":\"AL\",\"marker\":{\"color\":\"#B6E880\",\"pattern\":{\"shape\":\"\"}},\"name\":\"AL\",\"offsetgroup\":\"AL\",\"orientation\":\"v\",\"showlegend\":true,\"textposition\":\"auto\",\"x\":[\"AL\"],\"xaxis\":\"x\",\"y\":[23527476500.0],\"yaxis\":\"y\",\"type\":\"bar\"},{\"alignmentgroup\":\"True\",\"hovertemplate\":\"sigla_uf=%{x}\\u003cbr\\u003emedia_pib_ano=%{y}\\u003cextra\\u003e\\u003c\\u002fextra\\u003e\",\"legendgroup\":\"PB\",\"marker\":{\"color\":\"#FF97FF\",\"pattern\":{\"shape\":\"\"}},\"name\":\"PB\",\"offsetgroup\":\"PB\",\"orientation\":\"v\",\"showlegend\":true,\"textposition\":\"auto\",\"x\":[\"PB\"],\"xaxis\":\"x\",\"y\":[30456504833.333332],\"yaxis\":\"y\",\"type\":\"bar\"},{\"alignmentgroup\":\"True\",\"hovertemplate\":\"sigla_uf=%{x}\\u003cbr\\u003emedia_pib_ano=%{y}\\u003cextra\\u003e\\u003c\\u002fextra\\u003e\",\"legendgroup\":\"RN\",\"marker\":{\"color\":\"#FECB52\",\"pattern\":{\"shape\":\"\"}},\"name\":\"RN\",\"offsetgroup\":\"RN\",\"orientation\":\"v\",\"showlegend\":true,\"textposition\":\"auto\",\"x\":[\"RN\"],\"xaxis\":\"x\",\"y\":[30716296166.666668],\"yaxis\":\"y\",\"type\":\"bar\"},{\"alignmentgroup\":\"True\",\"hovertemplate\":\"sigla_uf=%{x}\\u003cbr\\u003emedia_pib_ano=%{y}\\u003cextra\\u003e\\u003c\\u002fextra\\u003e\",\"legendgroup\":\"MS\",\"marker\":{\"color\":\"#636efa\",\"pattern\":{\"shape\":\"\"}},\"name\":\"MS\",\"offsetgroup\":\"MS\",\"orientation\":\"v\",\"showlegend\":true,\"textposition\":\"auto\",\"x\":[\"MS\"],\"xaxis\":\"x\",\"y\":[40810028000.0],\"yaxis\":\"y\",\"type\":\"bar\"},{\"alignmentgroup\":\"True\",\"hovertemplate\":\"sigla_uf=%{x}\\u003cbr\\u003emedia_pib_ano=%{y}\\u003cextra\\u003e\\u003c\\u002fextra\\u003e\",\"legendgroup\":\"MA\",\"marker\":{\"color\":\"#EF553B\",\"pattern\":{\"shape\":\"\"}},\"name\":\"MA\",\"offsetgroup\":\"MA\",\"orientation\":\"v\",\"showlegend\":true,\"textposition\":\"auto\",\"x\":[\"MA\"],\"xaxis\":\"x\",\"y\":[44368257000.0],\"yaxis\":\"y\",\"type\":\"bar\"},{\"alignmentgroup\":\"True\",\"hovertemplate\":\"sigla_uf=%{x}\\u003cbr\\u003emedia_pib_ano=%{y}\\u003cextra\\u003e\\u003c\\u002fextra\\u003e\",\"legendgroup\":\"AM\",\"marker\":{\"color\":\"#00cc96\",\"pattern\":{\"shape\":\"\"}},\"name\":\"AM\",\"offsetgroup\":\"AM\",\"orientation\":\"v\",\"showlegend\":true,\"textposition\":\"auto\",\"x\":[\"AM\"],\"xaxis\":\"x\",\"y\":[54485761666.666664],\"yaxis\":\"y\",\"type\":\"bar\"},{\"alignmentgroup\":\"True\",\"hovertemplate\":\"sigla_uf=%{x}\\u003cbr\\u003emedia_pib_ano=%{y}\\u003cextra\\u003e\\u003c\\u002fextra\\u003e\",\"legendgroup\":\"MT\",\"marker\":{\"color\":\"#ab63fa\",\"pattern\":{\"shape\":\"\"}},\"name\":\"MT\",\"offsetgroup\":\"MT\",\"orientation\":\"v\",\"showlegend\":true,\"textposition\":\"auto\",\"x\":[\"MT\"],\"xaxis\":\"x\",\"y\":[60869283666.666664],\"yaxis\":\"y\",\"type\":\"bar\"},{\"alignmentgroup\":\"True\",\"hovertemplate\":\"sigla_uf=%{x}\\u003cbr\\u003emedia_pib_ano=%{y}\\u003cextra\\u003e\\u003c\\u002fextra\\u003e\",\"legendgroup\":\"PA\",\"marker\":{\"color\":\"#FFA15A\",\"pattern\":{\"shape\":\"\"}},\"name\":\"PA\",\"offsetgroup\":\"PA\",\"orientation\":\"v\",\"showlegend\":true,\"textposition\":\"auto\",\"x\":[\"PA\"],\"xaxis\":\"x\",\"y\":[70609125333.33333],\"yaxis\":\"y\",\"type\":\"bar\"},{\"alignmentgroup\":\"True\",\"hovertemplate\":\"sigla_uf=%{x}\\u003cbr\\u003emedia_pib_ano=%{y}\\u003cextra\\u003e\\u003c\\u002fextra\\u003e\",\"legendgroup\":\"CE\",\"marker\":{\"color\":\"#19d3f3\",\"pattern\":{\"shape\":\"\"}},\"name\":\"CE\",\"offsetgroup\":\"CE\",\"orientation\":\"v\",\"showlegend\":true,\"textposition\":\"auto\",\"x\":[\"CE\"],\"xaxis\":\"x\",\"y\":[72018935000.0],\"yaxis\":\"y\",\"type\":\"bar\"},{\"alignmentgroup\":\"True\",\"hovertemplate\":\"sigla_uf=%{x}\\u003cbr\\u003emedia_pib_ano=%{y}\\u003cextra\\u003e\\u003c\\u002fextra\\u003e\",\"legendgroup\":\"ES\",\"marker\":{\"color\":\"#FF6692\",\"pattern\":{\"shape\":\"\"}},\"name\":\"ES\",\"offsetgroup\":\"ES\",\"orientation\":\"v\",\"showlegend\":true,\"textposition\":\"auto\",\"x\":[\"ES\"],\"xaxis\":\"x\",\"y\":[80686185666.66667],\"yaxis\":\"y\",\"type\":\"bar\"},{\"alignmentgroup\":\"True\",\"hovertemplate\":\"sigla_uf=%{x}\\u003cbr\\u003emedia_pib_ano=%{y}\\u003cextra\\u003e\\u003c\\u002fextra\\u003e\",\"legendgroup\":\"PE\",\"marker\":{\"color\":\"#B6E880\",\"pattern\":{\"shape\":\"\"}},\"name\":\"PE\",\"offsetgroup\":\"PE\",\"orientation\":\"v\",\"showlegend\":true,\"textposition\":\"auto\",\"x\":[\"PE\"],\"xaxis\":\"x\",\"y\":[88007606666.66667],\"yaxis\":\"y\",\"type\":\"bar\"},{\"alignmentgroup\":\"True\",\"hovertemplate\":\"sigla_uf=%{x}\\u003cbr\\u003emedia_pib_ano=%{y}\\u003cextra\\u003e\\u003c\\u002fextra\\u003e\",\"legendgroup\":\"GO\",\"marker\":{\"color\":\"#FF97FF\",\"pattern\":{\"shape\":\"\"}},\"name\":\"GO\",\"offsetgroup\":\"GO\",\"orientation\":\"v\",\"showlegend\":true,\"textposition\":\"auto\",\"x\":[\"GO\"],\"xaxis\":\"x\",\"y\":[93144573000.0],\"yaxis\":\"y\",\"type\":\"bar\"},{\"alignmentgroup\":\"True\",\"hovertemplate\":\"sigla_uf=%{x}\\u003cbr\\u003emedia_pib_ano=%{y}\\u003cextra\\u003e\\u003c\\u002fextra\\u003e\",\"legendgroup\":\"media\",\"marker\":{\"color\":\"#FECB52\",\"pattern\":{\"shape\":\"\"}},\"name\":\"media\",\"offsetgroup\":\"media\",\"orientation\":\"v\",\"showlegend\":true,\"textposition\":\"auto\",\"x\":[\"media\"],\"xaxis\":\"x\",\"y\":[131099656049.3827],\"yaxis\":\"y\",\"type\":\"bar\"},{\"alignmentgroup\":\"True\",\"hovertemplate\":\"sigla_uf=%{x}\\u003cbr\\u003emedia_pib_ano=%{y}\\u003cextra\\u003e\\u003c\\u002fextra\\u003e\",\"legendgroup\":\"DF\",\"marker\":{\"color\":\"#636efa\",\"pattern\":{\"shape\":\"\"}},\"name\":\"DF\",\"offsetgroup\":\"DF\",\"orientation\":\"v\",\"showlegend\":true,\"textposition\":\"auto\",\"x\":[\"DF\"],\"xaxis\":\"x\",\"y\":[139104791333.33334],\"yaxis\":\"y\",\"type\":\"bar\"},{\"alignmentgroup\":\"True\",\"hovertemplate\":\"sigla_uf=%{x}\\u003cbr\\u003emedia_pib_ano=%{y}\\u003cextra\\u003e\\u003c\\u002fextra\\u003e\",\"legendgroup\":\"BA\",\"marker\":{\"color\":\"#EF553B\",\"pattern\":{\"shape\":\"\"}},\"name\":\"BA\",\"offsetgroup\":\"BA\",\"orientation\":\"v\",\"showlegend\":true,\"textposition\":\"auto\",\"x\":[\"BA\"],\"xaxis\":\"x\",\"y\":[141695003166.66666],\"yaxis\":\"y\",\"type\":\"bar\"},{\"alignmentgroup\":\"True\",\"hovertemplate\":\"sigla_uf=%{x}\\u003cbr\\u003emedia_pib_ano=%{y}\\u003cextra\\u003e\\u003c\\u002fextra\\u003e\",\"legendgroup\":\"SC\",\"marker\":{\"color\":\"#00cc96\",\"pattern\":{\"shape\":\"\"}},\"name\":\"SC\",\"offsetgroup\":\"SC\",\"orientation\":\"v\",\"showlegend\":true,\"textposition\":\"auto\",\"x\":[\"SC\"],\"xaxis\":\"x\",\"y\":[142753176166.66666],\"yaxis\":\"y\",\"type\":\"bar\"},{\"alignmentgroup\":\"True\",\"hovertemplate\":\"sigla_uf=%{x}\\u003cbr\\u003emedia_pib_ano=%{y}\\u003cextra\\u003e\\u003c\\u002fextra\\u003e\",\"legendgroup\":\"PR\",\"marker\":{\"color\":\"#ab63fa\",\"pattern\":{\"shape\":\"\"}},\"name\":\"PR\",\"offsetgroup\":\"PR\",\"orientation\":\"v\",\"showlegend\":true,\"textposition\":\"auto\",\"x\":[\"PR\"],\"xaxis\":\"x\",\"y\":[207236546166.66666],\"yaxis\":\"y\",\"type\":\"bar\"},{\"alignmentgroup\":\"True\",\"hovertemplate\":\"sigla_uf=%{x}\\u003cbr\\u003emedia_pib_ano=%{y}\\u003cextra\\u003e\\u003c\\u002fextra\\u003e\",\"legendgroup\":\"RS\",\"marker\":{\"color\":\"#FFA15A\",\"pattern\":{\"shape\":\"\"}},\"name\":\"RS\",\"offsetgroup\":\"RS\",\"orientation\":\"v\",\"showlegend\":true,\"textposition\":\"auto\",\"x\":[\"RS\"],\"xaxis\":\"x\",\"y\":[230957809833.33334],\"yaxis\":\"y\",\"type\":\"bar\"},{\"alignmentgroup\":\"True\",\"hovertemplate\":\"sigla_uf=%{x}\\u003cbr\\u003emedia_pib_ano=%{y}\\u003cextra\\u003e\\u003c\\u002fextra\\u003e\",\"legendgroup\":\"MG\",\"marker\":{\"color\":\"#19d3f3\",\"pattern\":{\"shape\":\"\"}},\"name\":\"MG\",\"offsetgroup\":\"MG\",\"orientation\":\"v\",\"showlegend\":true,\"textposition\":\"auto\",\"x\":[\"MG\"],\"xaxis\":\"x\",\"y\":[325326065166.6667],\"yaxis\":\"y\",\"type\":\"bar\"},{\"alignmentgroup\":\"True\",\"hovertemplate\":\"sigla_uf=%{x}\\u003cbr\\u003emedia_pib_ano=%{y}\\u003cextra\\u003e\\u003c\\u002fextra\\u003e\",\"legendgroup\":\"RJ\",\"marker\":{\"color\":\"#FF6692\",\"pattern\":{\"shape\":\"\"}},\"name\":\"RJ\",\"offsetgroup\":\"RJ\",\"orientation\":\"v\",\"showlegend\":true,\"textposition\":\"auto\",\"x\":[\"RJ\"],\"xaxis\":\"x\",\"y\":[394591393500.0],\"yaxis\":\"y\",\"type\":\"bar\"},{\"alignmentgroup\":\"True\",\"hovertemplate\":\"sigla_uf=%{x}\\u003cbr\\u003emedia_pib_ano=%{y}\\u003cextra\\u003e\\u003c\\u002fextra\\u003e\",\"legendgroup\":\"SP\",\"marker\":{\"color\":\"#B6E880\",\"pattern\":{\"shape\":\"\"}},\"name\":\"SP\",\"offsetgroup\":\"SP\",\"orientation\":\"v\",\"showlegend\":true,\"textposition\":\"auto\",\"x\":[\"SP\"],\"xaxis\":\"x\",\"y\":[1166019647000.0],\"yaxis\":\"y\",\"type\":\"bar\"}],                        {\"template\":{\"data\":{\"histogram2dcontour\":[{\"type\":\"histogram2dcontour\",\"colorbar\":{\"outlinewidth\":0,\"ticks\":\"\"},\"colorscale\":[[0.0,\"#0d0887\"],[0.1111111111111111,\"#46039f\"],[0.2222222222222222,\"#7201a8\"],[0.3333333333333333,\"#9c179e\"],[0.4444444444444444,\"#bd3786\"],[0.5555555555555556,\"#d8576b\"],[0.6666666666666666,\"#ed7953\"],[0.7777777777777778,\"#fb9f3a\"],[0.8888888888888888,\"#fdca26\"],[1.0,\"#f0f921\"]]}],\"choropleth\":[{\"type\":\"choropleth\",\"colorbar\":{\"outlinewidth\":0,\"ticks\":\"\"}}],\"histogram2d\":[{\"type\":\"histogram2d\",\"colorbar\":{\"outlinewidth\":0,\"ticks\":\"\"},\"colorscale\":[[0.0,\"#0d0887\"],[0.1111111111111111,\"#46039f\"],[0.2222222222222222,\"#7201a8\"],[0.3333333333333333,\"#9c179e\"],[0.4444444444444444,\"#bd3786\"],[0.5555555555555556,\"#d8576b\"],[0.6666666666666666,\"#ed7953\"],[0.7777777777777778,\"#fb9f3a\"],[0.8888888888888888,\"#fdca26\"],[1.0,\"#f0f921\"]]}],\"heatmap\":[{\"type\":\"heatmap\",\"colorbar\":{\"outlinewidth\":0,\"ticks\":\"\"},\"colorscale\":[[0.0,\"#0d0887\"],[0.1111111111111111,\"#46039f\"],[0.2222222222222222,\"#7201a8\"],[0.3333333333333333,\"#9c179e\"],[0.4444444444444444,\"#bd3786\"],[0.5555555555555556,\"#d8576b\"],[0.6666666666666666,\"#ed7953\"],[0.7777777777777778,\"#fb9f3a\"],[0.8888888888888888,\"#fdca26\"],[1.0,\"#f0f921\"]]}],\"heatmapgl\":[{\"type\":\"heatmapgl\",\"colorbar\":{\"outlinewidth\":0,\"ticks\":\"\"},\"colorscale\":[[0.0,\"#0d0887\"],[0.1111111111111111,\"#46039f\"],[0.2222222222222222,\"#7201a8\"],[0.3333333333333333,\"#9c179e\"],[0.4444444444444444,\"#bd3786\"],[0.5555555555555556,\"#d8576b\"],[0.6666666666666666,\"#ed7953\"],[0.7777777777777778,\"#fb9f3a\"],[0.8888888888888888,\"#fdca26\"],[1.0,\"#f0f921\"]]}],\"contourcarpet\":[{\"type\":\"contourcarpet\",\"colorbar\":{\"outlinewidth\":0,\"ticks\":\"\"}}],\"contour\":[{\"type\":\"contour\",\"colorbar\":{\"outlinewidth\":0,\"ticks\":\"\"},\"colorscale\":[[0.0,\"#0d0887\"],[0.1111111111111111,\"#46039f\"],[0.2222222222222222,\"#7201a8\"],[0.3333333333333333,\"#9c179e\"],[0.4444444444444444,\"#bd3786\"],[0.5555555555555556,\"#d8576b\"],[0.6666666666666666,\"#ed7953\"],[0.7777777777777778,\"#fb9f3a\"],[0.8888888888888888,\"#fdca26\"],[1.0,\"#f0f921\"]]}],\"surface\":[{\"type\":\"surface\",\"colorbar\":{\"outlinewidth\":0,\"ticks\":\"\"},\"colorscale\":[[0.0,\"#0d0887\"],[0.1111111111111111,\"#46039f\"],[0.2222222222222222,\"#7201a8\"],[0.3333333333333333,\"#9c179e\"],[0.4444444444444444,\"#bd3786\"],[0.5555555555555556,\"#d8576b\"],[0.6666666666666666,\"#ed7953\"],[0.7777777777777778,\"#fb9f3a\"],[0.8888888888888888,\"#fdca26\"],[1.0,\"#f0f921\"]]}],\"mesh3d\":[{\"type\":\"mesh3d\",\"colorbar\":{\"outlinewidth\":0,\"ticks\":\"\"}}],\"scatter\":[{\"fillpattern\":{\"fillmode\":\"overlay\",\"size\":10,\"solidity\":0.2},\"type\":\"scatter\"}],\"parcoords\":[{\"type\":\"parcoords\",\"line\":{\"colorbar\":{\"outlinewidth\":0,\"ticks\":\"\"}}}],\"scatterpolargl\":[{\"type\":\"scatterpolargl\",\"marker\":{\"colorbar\":{\"outlinewidth\":0,\"ticks\":\"\"}}}],\"bar\":[{\"error_x\":{\"color\":\"#2a3f5f\"},\"error_y\":{\"color\":\"#2a3f5f\"},\"marker\":{\"line\":{\"color\":\"#E5ECF6\",\"width\":0.5},\"pattern\":{\"fillmode\":\"overlay\",\"size\":10,\"solidity\":0.2}},\"type\":\"bar\"}],\"scattergeo\":[{\"type\":\"scattergeo\",\"marker\":{\"colorbar\":{\"outlinewidth\":0,\"ticks\":\"\"}}}],\"scatterpolar\":[{\"type\":\"scatterpolar\",\"marker\":{\"colorbar\":{\"outlinewidth\":0,\"ticks\":\"\"}}}],\"histogram\":[{\"marker\":{\"pattern\":{\"fillmode\":\"overlay\",\"size\":10,\"solidity\":0.2}},\"type\":\"histogram\"}],\"scattergl\":[{\"type\":\"scattergl\",\"marker\":{\"colorbar\":{\"outlinewidth\":0,\"ticks\":\"\"}}}],\"scatter3d\":[{\"type\":\"scatter3d\",\"line\":{\"colorbar\":{\"outlinewidth\":0,\"ticks\":\"\"}},\"marker\":{\"colorbar\":{\"outlinewidth\":0,\"ticks\":\"\"}}}],\"scattermapbox\":[{\"type\":\"scattermapbox\",\"marker\":{\"colorbar\":{\"outlinewidth\":0,\"ticks\":\"\"}}}],\"scatterternary\":[{\"type\":\"scatterternary\",\"marker\":{\"colorbar\":{\"outlinewidth\":0,\"ticks\":\"\"}}}],\"scattercarpet\":[{\"type\":\"scattercarpet\",\"marker\":{\"colorbar\":{\"outlinewidth\":0,\"ticks\":\"\"}}}],\"carpet\":[{\"aaxis\":{\"endlinecolor\":\"#2a3f5f\",\"gridcolor\":\"white\",\"linecolor\":\"white\",\"minorgridcolor\":\"white\",\"startlinecolor\":\"#2a3f5f\"},\"baxis\":{\"endlinecolor\":\"#2a3f5f\",\"gridcolor\":\"white\",\"linecolor\":\"white\",\"minorgridcolor\":\"white\",\"startlinecolor\":\"#2a3f5f\"},\"type\":\"carpet\"}],\"table\":[{\"cells\":{\"fill\":{\"color\":\"#EBF0F8\"},\"line\":{\"color\":\"white\"}},\"header\":{\"fill\":{\"color\":\"#C8D4E3\"},\"line\":{\"color\":\"white\"}},\"type\":\"table\"}],\"barpolar\":[{\"marker\":{\"line\":{\"color\":\"#E5ECF6\",\"width\":0.5},\"pattern\":{\"fillmode\":\"overlay\",\"size\":10,\"solidity\":0.2}},\"type\":\"barpolar\"}],\"pie\":[{\"automargin\":true,\"type\":\"pie\"}]},\"layout\":{\"autotypenumbers\":\"strict\",\"colorway\":[\"#636efa\",\"#EF553B\",\"#00cc96\",\"#ab63fa\",\"#FFA15A\",\"#19d3f3\",\"#FF6692\",\"#B6E880\",\"#FF97FF\",\"#FECB52\"],\"font\":{\"color\":\"#2a3f5f\"},\"hovermode\":\"closest\",\"hoverlabel\":{\"align\":\"left\"},\"paper_bgcolor\":\"white\",\"plot_bgcolor\":\"#E5ECF6\",\"polar\":{\"bgcolor\":\"#E5ECF6\",\"angularaxis\":{\"gridcolor\":\"white\",\"linecolor\":\"white\",\"ticks\":\"\"},\"radialaxis\":{\"gridcolor\":\"white\",\"linecolor\":\"white\",\"ticks\":\"\"}},\"ternary\":{\"bgcolor\":\"#E5ECF6\",\"aaxis\":{\"gridcolor\":\"white\",\"linecolor\":\"white\",\"ticks\":\"\"},\"baxis\":{\"gridcolor\":\"white\",\"linecolor\":\"white\",\"ticks\":\"\"},\"caxis\":{\"gridcolor\":\"white\",\"linecolor\":\"white\",\"ticks\":\"\"}},\"coloraxis\":{\"colorbar\":{\"outlinewidth\":0,\"ticks\":\"\"}},\"colorscale\":{\"sequential\":[[0.0,\"#0d0887\"],[0.1111111111111111,\"#46039f\"],[0.2222222222222222,\"#7201a8\"],[0.3333333333333333,\"#9c179e\"],[0.4444444444444444,\"#bd3786\"],[0.5555555555555556,\"#d8576b\"],[0.6666666666666666,\"#ed7953\"],[0.7777777777777778,\"#fb9f3a\"],[0.8888888888888888,\"#fdca26\"],[1.0,\"#f0f921\"]],\"sequentialminus\":[[0.0,\"#0d0887\"],[0.1111111111111111,\"#46039f\"],[0.2222222222222222,\"#7201a8\"],[0.3333333333333333,\"#9c179e\"],[0.4444444444444444,\"#bd3786\"],[0.5555555555555556,\"#d8576b\"],[0.6666666666666666,\"#ed7953\"],[0.7777777777777778,\"#fb9f3a\"],[0.8888888888888888,\"#fdca26\"],[1.0,\"#f0f921\"]],\"diverging\":[[0,\"#8e0152\"],[0.1,\"#c51b7d\"],[0.2,\"#de77ae\"],[0.3,\"#f1b6da\"],[0.4,\"#fde0ef\"],[0.5,\"#f7f7f7\"],[0.6,\"#e6f5d0\"],[0.7,\"#b8e186\"],[0.8,\"#7fbc41\"],[0.9,\"#4d9221\"],[1,\"#276419\"]]},\"xaxis\":{\"gridcolor\":\"white\",\"linecolor\":\"white\",\"ticks\":\"\",\"title\":{\"standoff\":15},\"zerolinecolor\":\"white\",\"automargin\":true,\"zerolinewidth\":2},\"yaxis\":{\"gridcolor\":\"white\",\"linecolor\":\"white\",\"ticks\":\"\",\"title\":{\"standoff\":15},\"zerolinecolor\":\"white\",\"automargin\":true,\"zerolinewidth\":2},\"scene\":{\"xaxis\":{\"backgroundcolor\":\"#E5ECF6\",\"gridcolor\":\"white\",\"linecolor\":\"white\",\"showbackground\":true,\"ticks\":\"\",\"zerolinecolor\":\"white\",\"gridwidth\":2},\"yaxis\":{\"backgroundcolor\":\"#E5ECF6\",\"gridcolor\":\"white\",\"linecolor\":\"white\",\"showbackground\":true,\"ticks\":\"\",\"zerolinecolor\":\"white\",\"gridwidth\":2},\"zaxis\":{\"backgroundcolor\":\"#E5ECF6\",\"gridcolor\":\"white\",\"linecolor\":\"white\",\"showbackground\":true,\"ticks\":\"\",\"zerolinecolor\":\"white\",\"gridwidth\":2}},\"shapedefaults\":{\"line\":{\"color\":\"#2a3f5f\"}},\"annotationdefaults\":{\"arrowcolor\":\"#2a3f5f\",\"arrowhead\":0,\"arrowwidth\":1},\"geo\":{\"bgcolor\":\"white\",\"landcolor\":\"#E5ECF6\",\"subunitcolor\":\"white\",\"showland\":true,\"showlakes\":true,\"lakecolor\":\"white\"},\"title\":{\"x\":0.05},\"mapbox\":{\"style\":\"light\"}}},\"xaxis\":{\"anchor\":\"y\",\"domain\":[0.0,1.0],\"title\":{\"text\":\"sigla_uf\"},\"categoryorder\":\"array\",\"categoryarray\":[\"RR\",\"AC\",\"AP\",\"TO\",\"PI\",\"RO\",\"SE\",\"AL\",\"PB\",\"RN\",\"MS\",\"MA\",\"AM\",\"MT\",\"PA\",\"CE\",\"ES\",\"PE\",\"GO\",\"media\",\"DF\",\"BA\",\"SC\",\"PR\",\"RS\",\"MG\",\"RJ\",\"SP\"]},\"yaxis\":{\"anchor\":\"x\",\"domain\":[0.0,1.0],\"title\":{\"text\":\"media_pib_ano\"}},\"legend\":{\"title\":{\"text\":\"sigla_uf\"},\"tracegroupgap\":0},\"margin\":{\"t\":60},\"barmode\":\"relative\"},                        {\"responsive\": true}                    ).then(function(){\n",
       "                            \n",
       "var gd = document.getElementById('a010092b-f129-401a-8fdb-270e4a4eb207');\n",
       "var x = new MutationObserver(function (mutations, observer) {{\n",
       "        var display = window.getComputedStyle(gd).display;\n",
       "        if (!display || display === 'none') {{\n",
       "            console.log([gd, 'removed!']);\n",
       "            Plotly.purge(gd);\n",
       "            observer.disconnect();\n",
       "        }}\n",
       "}});\n",
       "\n",
       "// Listen for the removal of the full notebook cells\n",
       "var notebookContainer = gd.closest('#notebook-container');\n",
       "if (notebookContainer) {{\n",
       "    x.observe(notebookContainer, {childList: true});\n",
       "}}\n",
       "\n",
       "// Listen for the clearing of the current output cell\n",
       "var outputEl = gd.closest('.output');\n",
       "if (outputEl) {{\n",
       "    x.observe(outputEl, {childList: true});\n",
       "}}\n",
       "\n",
       "                        })                };                });            </script>        </div>"
      ]
     },
     "metadata": {},
     "output_type": "display_data"
    }
   ],
   "source": [
    "#grafico que mmostra a média anual do pib no periodo (2007 - 2012)\n",
    "\n",
    "#como a média anual do periodo é a mesma em todos os anos, fiz uma filtragem na tabela para não deixar o grafico pontilhado\n",
    "ano = df_final.loc[df_final[\"ano\"] == 2012]\n",
    "\n",
    "#grafico gerado pela base df_final que esta ordenada pela media anual do pib, eixo y será o pib, eixo x serão os estados \n",
    "graf_pib = px.bar(ano.sort_values('media_pib_ano'),y='media_pib_ano' ,x ='sigla_uf',color = 'sigla_uf')\n",
    "graf_pib.show()"
   ]
  },
  {
   "cell_type": "code",
   "execution_count": null,
   "id": "4fb44e1e-d5eb-46dd-a8c4-7e4f9c7ff87d",
   "metadata": {},
   "outputs": [],
   "source": [
    "#grafico que mostra a taxa de aprovação no ensino fundamental média anual do periodo (2007 - 2012)\n",
    "\n",
    "#como a média anual do periodo é a mesma em todos os anos, fiz uma filtragem na tabela para não deixar o grafico pontilhado\n",
    "ano = df_final.loc[df_final[\"ano\"] == 2012]\n",
    "\n",
    "#grafico gerado pela base df_final que esta ordenada pela media anual da taxa de aprovacão no ensino fundamental,\n",
    "# eixo y será o a aprovação, eixo x os estados\n",
    "graf_pib = px.bar(ano.sort_values(\"media_tx_ap_ef\"),y='media_tx_ap_ef' ,x ='sigla_uf',color = 'sigla_uf')\n",
    "graf_pib.show()"
   ]
  },
  {
   "cell_type": "code",
   "execution_count": 190,
   "id": "7cbf1e98-6f8f-4f7a-830e-cf7b9e87146c",
   "metadata": {},
   "outputs": [
    {
     "data": {
      "application/vnd.plotly.v1+json": {
       "config": {
        "plotlyServerURL": "https://plot.ly"
       },
       "data": [
        {
         "alignmentgroup": "True",
         "hovertemplate": "sigla_uf=%{x}<br>media_tx_ap_em=%{y}<extra></extra>",
         "legendgroup": "PA",
         "marker": {
          "color": "#636efa",
          "pattern": {
           "shape": ""
          }
         },
         "name": "PA",
         "offsetgroup": "PA",
         "orientation": "v",
         "showlegend": true,
         "textposition": "auto",
         "type": "bar",
         "x": [
          "PA"
         ],
         "xaxis": "x",
         "y": [
          68.18333333333332
         ],
         "yaxis": "y"
        },
        {
         "alignmentgroup": "True",
         "hovertemplate": "sigla_uf=%{x}<br>media_tx_ap_em=%{y}<extra></extra>",
         "legendgroup": "RS",
         "marker": {
          "color": "#EF553B",
          "pattern": {
           "shape": ""
          }
         },
         "name": "RS",
         "offsetgroup": "RS",
         "orientation": "v",
         "showlegend": true,
         "textposition": "auto",
         "type": "bar",
         "x": [
          "RS"
         ],
         "xaxis": "x",
         "y": [
          69.25
         ],
         "yaxis": "y"
        },
        {
         "alignmentgroup": "True",
         "hovertemplate": "sigla_uf=%{x}<br>media_tx_ap_em=%{y}<extra></extra>",
         "legendgroup": "RJ",
         "marker": {
          "color": "#00cc96",
          "pattern": {
           "shape": ""
          }
         },
         "name": "RJ",
         "offsetgroup": "RJ",
         "orientation": "v",
         "showlegend": true,
         "textposition": "auto",
         "type": "bar",
         "x": [
          "RJ"
         ],
         "xaxis": "x",
         "y": [
          69.51666666666667
         ],
         "yaxis": "y"
        },
        {
         "alignmentgroup": "True",
         "hovertemplate": "sigla_uf=%{x}<br>media_tx_ap_em=%{y}<extra></extra>",
         "legendgroup": "AP",
         "marker": {
          "color": "#ab63fa",
          "pattern": {
           "shape": ""
          }
         },
         "name": "AP",
         "offsetgroup": "AP",
         "orientation": "v",
         "showlegend": true,
         "textposition": "auto",
         "type": "bar",
         "x": [
          "AP"
         ],
         "xaxis": "x",
         "y": [
          70.63333333333333
         ],
         "yaxis": "y"
        },
        {
         "alignmentgroup": "True",
         "hovertemplate": "sigla_uf=%{x}<br>media_tx_ap_em=%{y}<extra></extra>",
         "legendgroup": "BA",
         "marker": {
          "color": "#FFA15A",
          "pattern": {
           "shape": ""
          }
         },
         "name": "BA",
         "offsetgroup": "BA",
         "orientation": "v",
         "showlegend": true,
         "textposition": "auto",
         "type": "bar",
         "x": [
          "BA"
         ],
         "xaxis": "x",
         "y": [
          70.75
         ],
         "yaxis": "y"
        },
        {
         "alignmentgroup": "True",
         "hovertemplate": "sigla_uf=%{x}<br>media_tx_ap_em=%{y}<extra></extra>",
         "legendgroup": "SE",
         "marker": {
          "color": "#19d3f3",
          "pattern": {
           "shape": ""
          }
         },
         "name": "SE",
         "offsetgroup": "SE",
         "orientation": "v",
         "showlegend": true,
         "textposition": "auto",
         "type": "bar",
         "x": [
          "SE"
         ],
         "xaxis": "x",
         "y": [
          70.81666666666666
         ],
         "yaxis": "y"
        },
        {
         "alignmentgroup": "True",
         "hovertemplate": "sigla_uf=%{x}<br>media_tx_ap_em=%{y}<extra></extra>",
         "legendgroup": "MT",
         "marker": {
          "color": "#FF6692",
          "pattern": {
           "shape": ""
          }
         },
         "name": "MT",
         "offsetgroup": "MT",
         "orientation": "v",
         "showlegend": true,
         "textposition": "auto",
         "type": "bar",
         "x": [
          "MT"
         ],
         "xaxis": "x",
         "y": [
          71.05
         ],
         "yaxis": "y"
        },
        {
         "alignmentgroup": "True",
         "hovertemplate": "sigla_uf=%{x}<br>media_tx_ap_em=%{y}<extra></extra>",
         "legendgroup": "AL",
         "marker": {
          "color": "#B6E880",
          "pattern": {
           "shape": ""
          }
         },
         "name": "AL",
         "offsetgroup": "AL",
         "orientation": "v",
         "showlegend": true,
         "textposition": "auto",
         "type": "bar",
         "x": [
          "AL"
         ],
         "xaxis": "x",
         "y": [
          71.98333333333333
         ],
         "yaxis": "y"
        },
        {
         "alignmentgroup": "True",
         "hovertemplate": "sigla_uf=%{x}<br>media_tx_ap_em=%{y}<extra></extra>",
         "legendgroup": "RN",
         "marker": {
          "color": "#FF97FF",
          "pattern": {
           "shape": ""
          }
         },
         "name": "RN",
         "offsetgroup": "RN",
         "orientation": "v",
         "showlegend": true,
         "textposition": "auto",
         "type": "bar",
         "x": [
          "RN"
         ],
         "xaxis": "x",
         "y": [
          72.08333333333333
         ],
         "yaxis": "y"
        },
        {
         "alignmentgroup": "True",
         "hovertemplate": "sigla_uf=%{x}<br>media_tx_ap_em=%{y}<extra></extra>",
         "legendgroup": "PI",
         "marker": {
          "color": "#FECB52",
          "pattern": {
           "shape": ""
          }
         },
         "name": "PI",
         "offsetgroup": "PI",
         "orientation": "v",
         "showlegend": true,
         "textposition": "auto",
         "type": "bar",
         "x": [
          "PI"
         ],
         "xaxis": "x",
         "y": [
          72.43333333333334
         ],
         "yaxis": "y"
        },
        {
         "alignmentgroup": "True",
         "hovertemplate": "sigla_uf=%{x}<br>media_tx_ap_em=%{y}<extra></extra>",
         "legendgroup": "MS",
         "marker": {
          "color": "#636efa",
          "pattern": {
           "shape": ""
          }
         },
         "name": "MS",
         "offsetgroup": "MS",
         "orientation": "v",
         "showlegend": true,
         "textposition": "auto",
         "type": "bar",
         "x": [
          "MS"
         ],
         "xaxis": "x",
         "y": [
          72.46666666666667
         ],
         "yaxis": "y"
        },
        {
         "alignmentgroup": "True",
         "hovertemplate": "sigla_uf=%{x}<br>media_tx_ap_em=%{y}<extra></extra>",
         "legendgroup": "PB",
         "marker": {
          "color": "#EF553B",
          "pattern": {
           "shape": ""
          }
         },
         "name": "PB",
         "offsetgroup": "PB",
         "orientation": "v",
         "showlegend": true,
         "textposition": "auto",
         "type": "bar",
         "x": [
          "PB"
         ],
         "xaxis": "x",
         "y": [
          74.48333333333333
         ],
         "yaxis": "y"
        },
        {
         "alignmentgroup": "True",
         "hovertemplate": "sigla_uf=%{x}<br>media_tx_ap_em=%{y}<extra></extra>",
         "legendgroup": "media",
         "marker": {
          "color": "#00cc96",
          "pattern": {
           "shape": ""
          }
         },
         "name": "media",
         "offsetgroup": "media",
         "orientation": "v",
         "showlegend": true,
         "textposition": "auto",
         "type": "bar",
         "visible": "legendonly",
         "x": [
          "media"
         ],
         "xaxis": "x",
         "y": [
          75.29444444444444
         ],
         "yaxis": "y"
        },
        {
         "alignmentgroup": "True",
         "hovertemplate": "sigla_uf=%{x}<br>media_tx_ap_em=%{y}<extra></extra>",
         "legendgroup": "DF",
         "marker": {
          "color": "#ab63fa",
          "pattern": {
           "shape": ""
          }
         },
         "name": "DF",
         "offsetgroup": "DF",
         "orientation": "v",
         "showlegend": true,
         "textposition": "auto",
         "type": "bar",
         "x": [
          "DF"
         ],
         "xaxis": "x",
         "y": [
          75.46666666666665
         ],
         "yaxis": "y"
        },
        {
         "alignmentgroup": "True",
         "hovertemplate": "sigla_uf=%{x}<br>media_tx_ap_em=%{y}<extra></extra>",
         "legendgroup": "RO",
         "marker": {
          "color": "#FFA15A",
          "pattern": {
           "shape": ""
          }
         },
         "name": "RO",
         "offsetgroup": "RO",
         "orientation": "v",
         "showlegend": true,
         "textposition": "auto",
         "type": "bar",
         "x": [
          "RO"
         ],
         "xaxis": "x",
         "y": [
          75.61666666666666
         ],
         "yaxis": "y"
        },
        {
         "alignmentgroup": "True",
         "hovertemplate": "sigla_uf=%{x}<br>media_tx_ap_em=%{y}<extra></extra>",
         "legendgroup": "ES",
         "marker": {
          "color": "#19d3f3",
          "pattern": {
           "shape": ""
          }
         },
         "name": "ES",
         "offsetgroup": "ES",
         "orientation": "v",
         "showlegend": true,
         "textposition": "auto",
         "type": "bar",
         "x": [
          "ES"
         ],
         "xaxis": "x",
         "y": [
          76.33333333333334
         ],
         "yaxis": "y"
        },
        {
         "alignmentgroup": "True",
         "hovertemplate": "sigla_uf=%{x}<br>media_tx_ap_em=%{y}<extra></extra>",
         "legendgroup": "MA",
         "marker": {
          "color": "#FF6692",
          "pattern": {
           "shape": ""
          }
         },
         "name": "MA",
         "offsetgroup": "MA",
         "orientation": "v",
         "showlegend": true,
         "textposition": "auto",
         "type": "bar",
         "x": [
          "MA"
         ],
         "xaxis": "x",
         "y": [
          76.71666666666667
         ],
         "yaxis": "y"
        },
        {
         "alignmentgroup": "True",
         "hovertemplate": "sigla_uf=%{x}<br>media_tx_ap_em=%{y}<extra></extra>",
         "legendgroup": "GO",
         "marker": {
          "color": "#B6E880",
          "pattern": {
           "shape": ""
          }
         },
         "name": "GO",
         "offsetgroup": "GO",
         "orientation": "v",
         "showlegend": true,
         "textposition": "auto",
         "type": "bar",
         "x": [
          "GO"
         ],
         "xaxis": "x",
         "y": [
          76.86666666666666
         ],
         "yaxis": "y"
        },
        {
         "alignmentgroup": "True",
         "hovertemplate": "sigla_uf=%{x}<br>media_tx_ap_em=%{y}<extra></extra>",
         "legendgroup": "PE",
         "marker": {
          "color": "#FF97FF",
          "pattern": {
           "shape": ""
          }
         },
         "name": "PE",
         "offsetgroup": "PE",
         "orientation": "v",
         "showlegend": true,
         "textposition": "auto",
         "type": "bar",
         "x": [
          "PE"
         ],
         "xaxis": "x",
         "y": [
          77.23333333333333
         ],
         "yaxis": "y"
        },
        {
         "alignmentgroup": "True",
         "hovertemplate": "sigla_uf=%{x}<br>media_tx_ap_em=%{y}<extra></extra>",
         "legendgroup": "MG",
         "marker": {
          "color": "#FECB52",
          "pattern": {
           "shape": ""
          }
         },
         "name": "MG",
         "offsetgroup": "MG",
         "orientation": "v",
         "showlegend": true,
         "textposition": "auto",
         "type": "bar",
         "x": [
          "MG"
         ],
         "xaxis": "x",
         "y": [
          77.60000000000001
         ],
         "yaxis": "y"
        },
        {
         "alignmentgroup": "True",
         "hovertemplate": "sigla_uf=%{x}<br>media_tx_ap_em=%{y}<extra></extra>",
         "legendgroup": "AC",
         "marker": {
          "color": "#636efa",
          "pattern": {
           "shape": ""
          }
         },
         "name": "AC",
         "offsetgroup": "AC",
         "orientation": "v",
         "showlegend": true,
         "textposition": "auto",
         "type": "bar",
         "x": [
          "AC"
         ],
         "xaxis": "x",
         "y": [
          78.24999999999999
         ],
         "yaxis": "y"
        },
        {
         "alignmentgroup": "True",
         "hovertemplate": "sigla_uf=%{x}<br>media_tx_ap_em=%{y}<extra></extra>",
         "legendgroup": "RR",
         "marker": {
          "color": "#EF553B",
          "pattern": {
           "shape": ""
          }
         },
         "name": "RR",
         "offsetgroup": "RR",
         "orientation": "v",
         "showlegend": true,
         "textposition": "auto",
         "type": "bar",
         "x": [
          "RR"
         ],
         "xaxis": "x",
         "y": [
          78.73333333333333
         ],
         "yaxis": "y"
        },
        {
         "alignmentgroup": "True",
         "hovertemplate": "sigla_uf=%{x}<br>media_tx_ap_em=%{y}<extra></extra>",
         "legendgroup": "AM",
         "marker": {
          "color": "#00cc96",
          "pattern": {
           "shape": ""
          }
         },
         "name": "AM",
         "offsetgroup": "AM",
         "orientation": "v",
         "showlegend": true,
         "textposition": "auto",
         "type": "bar",
         "x": [
          "AM"
         ],
         "xaxis": "x",
         "y": [
          79.53333333333335
         ],
         "yaxis": "y"
        },
        {
         "alignmentgroup": "True",
         "hovertemplate": "sigla_uf=%{x}<br>media_tx_ap_em=%{y}<extra></extra>",
         "legendgroup": "CE",
         "marker": {
          "color": "#ab63fa",
          "pattern": {
           "shape": ""
          }
         },
         "name": "CE",
         "offsetgroup": "CE",
         "orientation": "v",
         "showlegend": true,
         "textposition": "auto",
         "type": "bar",
         "x": [
          "CE"
         ],
         "xaxis": "x",
         "y": [
          80.41666666666667
         ],
         "yaxis": "y"
        },
        {
         "alignmentgroup": "True",
         "hovertemplate": "sigla_uf=%{x}<br>media_tx_ap_em=%{y}<extra></extra>",
         "legendgroup": "PR",
         "marker": {
          "color": "#FFA15A",
          "pattern": {
           "shape": ""
          }
         },
         "name": "PR",
         "offsetgroup": "PR",
         "orientation": "v",
         "showlegend": true,
         "textposition": "auto",
         "type": "bar",
         "x": [
          "PR"
         ],
         "xaxis": "x",
         "y": [
          80.41666666666667
         ],
         "yaxis": "y"
        },
        {
         "alignmentgroup": "True",
         "hovertemplate": "sigla_uf=%{x}<br>media_tx_ap_em=%{y}<extra></extra>",
         "legendgroup": "TO",
         "marker": {
          "color": "#19d3f3",
          "pattern": {
           "shape": ""
          }
         },
         "name": "TO",
         "offsetgroup": "TO",
         "orientation": "v",
         "showlegend": true,
         "textposition": "auto",
         "type": "bar",
         "x": [
          "TO"
         ],
         "xaxis": "x",
         "y": [
          80.76666666666667
         ],
         "yaxis": "y"
        },
        {
         "alignmentgroup": "True",
         "hovertemplate": "sigla_uf=%{x}<br>media_tx_ap_em=%{y}<extra></extra>",
         "legendgroup": "SP",
         "marker": {
          "color": "#FF6692",
          "pattern": {
           "shape": ""
          }
         },
         "name": "SP",
         "offsetgroup": "SP",
         "orientation": "v",
         "showlegend": true,
         "textposition": "auto",
         "type": "bar",
         "x": [
          "SP"
         ],
         "xaxis": "x",
         "y": [
          81.8
         ],
         "yaxis": "y"
        },
        {
         "alignmentgroup": "True",
         "hovertemplate": "sigla_uf=%{x}<br>media_tx_ap_em=%{y}<extra></extra>",
         "legendgroup": "SC",
         "marker": {
          "color": "#B6E880",
          "pattern": {
           "shape": ""
          }
         },
         "name": "SC",
         "offsetgroup": "SC",
         "orientation": "v",
         "showlegend": true,
         "textposition": "auto",
         "type": "bar",
         "x": [
          "SC"
         ],
         "xaxis": "x",
         "y": [
          83.55
         ],
         "yaxis": "y"
        }
       ],
       "layout": {
        "autosize": true,
        "barmode": "relative",
        "legend": {
         "title": {
          "text": "sigla_uf"
         },
         "tracegroupgap": 0
        },
        "margin": {
         "t": 60
        },
        "template": {
         "data": {
          "bar": [
           {
            "error_x": {
             "color": "#2a3f5f"
            },
            "error_y": {
             "color": "#2a3f5f"
            },
            "marker": {
             "line": {
              "color": "#E5ECF6",
              "width": 0.5
             },
             "pattern": {
              "fillmode": "overlay",
              "size": 10,
              "solidity": 0.2
             }
            },
            "type": "bar"
           }
          ],
          "barpolar": [
           {
            "marker": {
             "line": {
              "color": "#E5ECF6",
              "width": 0.5
             },
             "pattern": {
              "fillmode": "overlay",
              "size": 10,
              "solidity": 0.2
             }
            },
            "type": "barpolar"
           }
          ],
          "carpet": [
           {
            "aaxis": {
             "endlinecolor": "#2a3f5f",
             "gridcolor": "white",
             "linecolor": "white",
             "minorgridcolor": "white",
             "startlinecolor": "#2a3f5f"
            },
            "baxis": {
             "endlinecolor": "#2a3f5f",
             "gridcolor": "white",
             "linecolor": "white",
             "minorgridcolor": "white",
             "startlinecolor": "#2a3f5f"
            },
            "type": "carpet"
           }
          ],
          "choropleth": [
           {
            "colorbar": {
             "outlinewidth": 0,
             "ticks": ""
            },
            "type": "choropleth"
           }
          ],
          "contour": [
           {
            "colorbar": {
             "outlinewidth": 0,
             "ticks": ""
            },
            "colorscale": [
             [
              0,
              "#0d0887"
             ],
             [
              0.1111111111111111,
              "#46039f"
             ],
             [
              0.2222222222222222,
              "#7201a8"
             ],
             [
              0.3333333333333333,
              "#9c179e"
             ],
             [
              0.4444444444444444,
              "#bd3786"
             ],
             [
              0.5555555555555556,
              "#d8576b"
             ],
             [
              0.6666666666666666,
              "#ed7953"
             ],
             [
              0.7777777777777778,
              "#fb9f3a"
             ],
             [
              0.8888888888888888,
              "#fdca26"
             ],
             [
              1,
              "#f0f921"
             ]
            ],
            "type": "contour"
           }
          ],
          "contourcarpet": [
           {
            "colorbar": {
             "outlinewidth": 0,
             "ticks": ""
            },
            "type": "contourcarpet"
           }
          ],
          "heatmap": [
           {
            "colorbar": {
             "outlinewidth": 0,
             "ticks": ""
            },
            "colorscale": [
             [
              0,
              "#0d0887"
             ],
             [
              0.1111111111111111,
              "#46039f"
             ],
             [
              0.2222222222222222,
              "#7201a8"
             ],
             [
              0.3333333333333333,
              "#9c179e"
             ],
             [
              0.4444444444444444,
              "#bd3786"
             ],
             [
              0.5555555555555556,
              "#d8576b"
             ],
             [
              0.6666666666666666,
              "#ed7953"
             ],
             [
              0.7777777777777778,
              "#fb9f3a"
             ],
             [
              0.8888888888888888,
              "#fdca26"
             ],
             [
              1,
              "#f0f921"
             ]
            ],
            "type": "heatmap"
           }
          ],
          "heatmapgl": [
           {
            "colorbar": {
             "outlinewidth": 0,
             "ticks": ""
            },
            "colorscale": [
             [
              0,
              "#0d0887"
             ],
             [
              0.1111111111111111,
              "#46039f"
             ],
             [
              0.2222222222222222,
              "#7201a8"
             ],
             [
              0.3333333333333333,
              "#9c179e"
             ],
             [
              0.4444444444444444,
              "#bd3786"
             ],
             [
              0.5555555555555556,
              "#d8576b"
             ],
             [
              0.6666666666666666,
              "#ed7953"
             ],
             [
              0.7777777777777778,
              "#fb9f3a"
             ],
             [
              0.8888888888888888,
              "#fdca26"
             ],
             [
              1,
              "#f0f921"
             ]
            ],
            "type": "heatmapgl"
           }
          ],
          "histogram": [
           {
            "marker": {
             "pattern": {
              "fillmode": "overlay",
              "size": 10,
              "solidity": 0.2
             }
            },
            "type": "histogram"
           }
          ],
          "histogram2d": [
           {
            "colorbar": {
             "outlinewidth": 0,
             "ticks": ""
            },
            "colorscale": [
             [
              0,
              "#0d0887"
             ],
             [
              0.1111111111111111,
              "#46039f"
             ],
             [
              0.2222222222222222,
              "#7201a8"
             ],
             [
              0.3333333333333333,
              "#9c179e"
             ],
             [
              0.4444444444444444,
              "#bd3786"
             ],
             [
              0.5555555555555556,
              "#d8576b"
             ],
             [
              0.6666666666666666,
              "#ed7953"
             ],
             [
              0.7777777777777778,
              "#fb9f3a"
             ],
             [
              0.8888888888888888,
              "#fdca26"
             ],
             [
              1,
              "#f0f921"
             ]
            ],
            "type": "histogram2d"
           }
          ],
          "histogram2dcontour": [
           {
            "colorbar": {
             "outlinewidth": 0,
             "ticks": ""
            },
            "colorscale": [
             [
              0,
              "#0d0887"
             ],
             [
              0.1111111111111111,
              "#46039f"
             ],
             [
              0.2222222222222222,
              "#7201a8"
             ],
             [
              0.3333333333333333,
              "#9c179e"
             ],
             [
              0.4444444444444444,
              "#bd3786"
             ],
             [
              0.5555555555555556,
              "#d8576b"
             ],
             [
              0.6666666666666666,
              "#ed7953"
             ],
             [
              0.7777777777777778,
              "#fb9f3a"
             ],
             [
              0.8888888888888888,
              "#fdca26"
             ],
             [
              1,
              "#f0f921"
             ]
            ],
            "type": "histogram2dcontour"
           }
          ],
          "mesh3d": [
           {
            "colorbar": {
             "outlinewidth": 0,
             "ticks": ""
            },
            "type": "mesh3d"
           }
          ],
          "parcoords": [
           {
            "line": {
             "colorbar": {
              "outlinewidth": 0,
              "ticks": ""
             }
            },
            "type": "parcoords"
           }
          ],
          "pie": [
           {
            "automargin": true,
            "type": "pie"
           }
          ],
          "scatter": [
           {
            "fillpattern": {
             "fillmode": "overlay",
             "size": 10,
             "solidity": 0.2
            },
            "type": "scatter"
           }
          ],
          "scatter3d": [
           {
            "line": {
             "colorbar": {
              "outlinewidth": 0,
              "ticks": ""
             }
            },
            "marker": {
             "colorbar": {
              "outlinewidth": 0,
              "ticks": ""
             }
            },
            "type": "scatter3d"
           }
          ],
          "scattercarpet": [
           {
            "marker": {
             "colorbar": {
              "outlinewidth": 0,
              "ticks": ""
             }
            },
            "type": "scattercarpet"
           }
          ],
          "scattergeo": [
           {
            "marker": {
             "colorbar": {
              "outlinewidth": 0,
              "ticks": ""
             }
            },
            "type": "scattergeo"
           }
          ],
          "scattergl": [
           {
            "marker": {
             "colorbar": {
              "outlinewidth": 0,
              "ticks": ""
             }
            },
            "type": "scattergl"
           }
          ],
          "scattermapbox": [
           {
            "marker": {
             "colorbar": {
              "outlinewidth": 0,
              "ticks": ""
             }
            },
            "type": "scattermapbox"
           }
          ],
          "scatterpolar": [
           {
            "marker": {
             "colorbar": {
              "outlinewidth": 0,
              "ticks": ""
             }
            },
            "type": "scatterpolar"
           }
          ],
          "scatterpolargl": [
           {
            "marker": {
             "colorbar": {
              "outlinewidth": 0,
              "ticks": ""
             }
            },
            "type": "scatterpolargl"
           }
          ],
          "scatterternary": [
           {
            "marker": {
             "colorbar": {
              "outlinewidth": 0,
              "ticks": ""
             }
            },
            "type": "scatterternary"
           }
          ],
          "surface": [
           {
            "colorbar": {
             "outlinewidth": 0,
             "ticks": ""
            },
            "colorscale": [
             [
              0,
              "#0d0887"
             ],
             [
              0.1111111111111111,
              "#46039f"
             ],
             [
              0.2222222222222222,
              "#7201a8"
             ],
             [
              0.3333333333333333,
              "#9c179e"
             ],
             [
              0.4444444444444444,
              "#bd3786"
             ],
             [
              0.5555555555555556,
              "#d8576b"
             ],
             [
              0.6666666666666666,
              "#ed7953"
             ],
             [
              0.7777777777777778,
              "#fb9f3a"
             ],
             [
              0.8888888888888888,
              "#fdca26"
             ],
             [
              1,
              "#f0f921"
             ]
            ],
            "type": "surface"
           }
          ],
          "table": [
           {
            "cells": {
             "fill": {
              "color": "#EBF0F8"
             },
             "line": {
              "color": "white"
             }
            },
            "header": {
             "fill": {
              "color": "#C8D4E3"
             },
             "line": {
              "color": "white"
             }
            },
            "type": "table"
           }
          ]
         },
         "layout": {
          "annotationdefaults": {
           "arrowcolor": "#2a3f5f",
           "arrowhead": 0,
           "arrowwidth": 1
          },
          "autotypenumbers": "strict",
          "coloraxis": {
           "colorbar": {
            "outlinewidth": 0,
            "ticks": ""
           }
          },
          "colorscale": {
           "diverging": [
            [
             0,
             "#8e0152"
            ],
            [
             0.1,
             "#c51b7d"
            ],
            [
             0.2,
             "#de77ae"
            ],
            [
             0.3,
             "#f1b6da"
            ],
            [
             0.4,
             "#fde0ef"
            ],
            [
             0.5,
             "#f7f7f7"
            ],
            [
             0.6,
             "#e6f5d0"
            ],
            [
             0.7,
             "#b8e186"
            ],
            [
             0.8,
             "#7fbc41"
            ],
            [
             0.9,
             "#4d9221"
            ],
            [
             1,
             "#276419"
            ]
           ],
           "sequential": [
            [
             0,
             "#0d0887"
            ],
            [
             0.1111111111111111,
             "#46039f"
            ],
            [
             0.2222222222222222,
             "#7201a8"
            ],
            [
             0.3333333333333333,
             "#9c179e"
            ],
            [
             0.4444444444444444,
             "#bd3786"
            ],
            [
             0.5555555555555556,
             "#d8576b"
            ],
            [
             0.6666666666666666,
             "#ed7953"
            ],
            [
             0.7777777777777778,
             "#fb9f3a"
            ],
            [
             0.8888888888888888,
             "#fdca26"
            ],
            [
             1,
             "#f0f921"
            ]
           ],
           "sequentialminus": [
            [
             0,
             "#0d0887"
            ],
            [
             0.1111111111111111,
             "#46039f"
            ],
            [
             0.2222222222222222,
             "#7201a8"
            ],
            [
             0.3333333333333333,
             "#9c179e"
            ],
            [
             0.4444444444444444,
             "#bd3786"
            ],
            [
             0.5555555555555556,
             "#d8576b"
            ],
            [
             0.6666666666666666,
             "#ed7953"
            ],
            [
             0.7777777777777778,
             "#fb9f3a"
            ],
            [
             0.8888888888888888,
             "#fdca26"
            ],
            [
             1,
             "#f0f921"
            ]
           ]
          },
          "colorway": [
           "#636efa",
           "#EF553B",
           "#00cc96",
           "#ab63fa",
           "#FFA15A",
           "#19d3f3",
           "#FF6692",
           "#B6E880",
           "#FF97FF",
           "#FECB52"
          ],
          "font": {
           "color": "#2a3f5f"
          },
          "geo": {
           "bgcolor": "white",
           "lakecolor": "white",
           "landcolor": "#E5ECF6",
           "showlakes": true,
           "showland": true,
           "subunitcolor": "white"
          },
          "hoverlabel": {
           "align": "left"
          },
          "hovermode": "closest",
          "mapbox": {
           "style": "light"
          },
          "paper_bgcolor": "white",
          "plot_bgcolor": "#E5ECF6",
          "polar": {
           "angularaxis": {
            "gridcolor": "white",
            "linecolor": "white",
            "ticks": ""
           },
           "bgcolor": "#E5ECF6",
           "radialaxis": {
            "gridcolor": "white",
            "linecolor": "white",
            "ticks": ""
           }
          },
          "scene": {
           "xaxis": {
            "backgroundcolor": "#E5ECF6",
            "gridcolor": "white",
            "gridwidth": 2,
            "linecolor": "white",
            "showbackground": true,
            "ticks": "",
            "zerolinecolor": "white"
           },
           "yaxis": {
            "backgroundcolor": "#E5ECF6",
            "gridcolor": "white",
            "gridwidth": 2,
            "linecolor": "white",
            "showbackground": true,
            "ticks": "",
            "zerolinecolor": "white"
           },
           "zaxis": {
            "backgroundcolor": "#E5ECF6",
            "gridcolor": "white",
            "gridwidth": 2,
            "linecolor": "white",
            "showbackground": true,
            "ticks": "",
            "zerolinecolor": "white"
           }
          },
          "shapedefaults": {
           "line": {
            "color": "#2a3f5f"
           }
          },
          "ternary": {
           "aaxis": {
            "gridcolor": "white",
            "linecolor": "white",
            "ticks": ""
           },
           "baxis": {
            "gridcolor": "white",
            "linecolor": "white",
            "ticks": ""
           },
           "bgcolor": "#E5ECF6",
           "caxis": {
            "gridcolor": "white",
            "linecolor": "white",
            "ticks": ""
           }
          },
          "title": {
           "x": 0.05
          },
          "xaxis": {
           "automargin": true,
           "gridcolor": "white",
           "linecolor": "white",
           "ticks": "",
           "title": {
            "standoff": 15
           },
           "zerolinecolor": "white",
           "zerolinewidth": 2
          },
          "yaxis": {
           "automargin": true,
           "gridcolor": "white",
           "linecolor": "white",
           "ticks": "",
           "title": {
            "standoff": 15
           },
           "zerolinecolor": "white",
           "zerolinewidth": 2
          }
         }
        },
        "xaxis": {
         "anchor": "y",
         "autorange": true,
         "categoryarray": [
          "PA",
          "RS",
          "RJ",
          "AP",
          "BA",
          "SE",
          "MT",
          "AL",
          "RN",
          "PI",
          "MS",
          "PB",
          "media",
          "DF",
          "RO",
          "ES",
          "MA",
          "GO",
          "PE",
          "MG",
          "AC",
          "RR",
          "AM",
          "CE",
          "PR",
          "TO",
          "SP",
          "SC"
         ],
         "categoryorder": "array",
         "domain": [
          0,
          1
         ],
         "range": [
          -0.5,
          27.5
         ],
         "title": {
          "text": "sigla_uf"
         },
         "type": "category"
        },
        "yaxis": {
         "anchor": "x",
         "autorange": true,
         "domain": [
          0,
          1
         ],
         "range": [
          0,
          87.94736842105263
         ],
         "title": {
          "text": "media_tx_ap_em"
         },
         "type": "linear"
        }
       }
      },
      "image/png": "[encoded data removed]",
      "text/html": [
       "<div>                            <div id=\"b9eba672-bd31-4aed-a39b-cc776b3613fd\" class=\"plotly-graph-div\" style=\"height:525px; width:100%;\"></div>            <script type=\"text/javascript\">                require([\"plotly\"], function(Plotly) {                    window.PLOTLYENV=window.PLOTLYENV || {};                                    if (document.getElementById(\"b9eba672-bd31-4aed-a39b-cc776b3613fd\")) {                    Plotly.newPlot(                        \"b9eba672-bd31-4aed-a39b-cc776b3613fd\",                        [{\"alignmentgroup\":\"True\",\"hovertemplate\":\"sigla_uf=%{x}\\u003cbr\\u003emedia_tx_ap_em=%{y}\\u003cextra\\u003e\\u003c\\u002fextra\\u003e\",\"legendgroup\":\"PA\",\"marker\":{\"color\":\"#636efa\",\"pattern\":{\"shape\":\"\"}},\"name\":\"PA\",\"offsetgroup\":\"PA\",\"orientation\":\"v\",\"showlegend\":true,\"textposition\":\"auto\",\"x\":[\"PA\"],\"xaxis\":\"x\",\"y\":[68.18333333333332],\"yaxis\":\"y\",\"type\":\"bar\"},{\"alignmentgroup\":\"True\",\"hovertemplate\":\"sigla_uf=%{x}\\u003cbr\\u003emedia_tx_ap_em=%{y}\\u003cextra\\u003e\\u003c\\u002fextra\\u003e\",\"legendgroup\":\"RS\",\"marker\":{\"color\":\"#EF553B\",\"pattern\":{\"shape\":\"\"}},\"name\":\"RS\",\"offsetgroup\":\"RS\",\"orientation\":\"v\",\"showlegend\":true,\"textposition\":\"auto\",\"x\":[\"RS\"],\"xaxis\":\"x\",\"y\":[69.25],\"yaxis\":\"y\",\"type\":\"bar\"},{\"alignmentgroup\":\"True\",\"hovertemplate\":\"sigla_uf=%{x}\\u003cbr\\u003emedia_tx_ap_em=%{y}\\u003cextra\\u003e\\u003c\\u002fextra\\u003e\",\"legendgroup\":\"RJ\",\"marker\":{\"color\":\"#00cc96\",\"pattern\":{\"shape\":\"\"}},\"name\":\"RJ\",\"offsetgroup\":\"RJ\",\"orientation\":\"v\",\"showlegend\":true,\"textposition\":\"auto\",\"x\":[\"RJ\"],\"xaxis\":\"x\",\"y\":[69.51666666666667],\"yaxis\":\"y\",\"type\":\"bar\"},{\"alignmentgroup\":\"True\",\"hovertemplate\":\"sigla_uf=%{x}\\u003cbr\\u003emedia_tx_ap_em=%{y}\\u003cextra\\u003e\\u003c\\u002fextra\\u003e\",\"legendgroup\":\"AP\",\"marker\":{\"color\":\"#ab63fa\",\"pattern\":{\"shape\":\"\"}},\"name\":\"AP\",\"offsetgroup\":\"AP\",\"orientation\":\"v\",\"showlegend\":true,\"textposition\":\"auto\",\"x\":[\"AP\"],\"xaxis\":\"x\",\"y\":[70.63333333333333],\"yaxis\":\"y\",\"type\":\"bar\"},{\"alignmentgroup\":\"True\",\"hovertemplate\":\"sigla_uf=%{x}\\u003cbr\\u003emedia_tx_ap_em=%{y}\\u003cextra\\u003e\\u003c\\u002fextra\\u003e\",\"legendgroup\":\"BA\",\"marker\":{\"color\":\"#FFA15A\",\"pattern\":{\"shape\":\"\"}},\"name\":\"BA\",\"offsetgroup\":\"BA\",\"orientation\":\"v\",\"showlegend\":true,\"textposition\":\"auto\",\"x\":[\"BA\"],\"xaxis\":\"x\",\"y\":[70.75],\"yaxis\":\"y\",\"type\":\"bar\"},{\"alignmentgroup\":\"True\",\"hovertemplate\":\"sigla_uf=%{x}\\u003cbr\\u003emedia_tx_ap_em=%{y}\\u003cextra\\u003e\\u003c\\u002fextra\\u003e\",\"legendgroup\":\"SE\",\"marker\":{\"color\":\"#19d3f3\",\"pattern\":{\"shape\":\"\"}},\"name\":\"SE\",\"offsetgroup\":\"SE\",\"orientation\":\"v\",\"showlegend\":true,\"textposition\":\"auto\",\"x\":[\"SE\"],\"xaxis\":\"x\",\"y\":[70.81666666666666],\"yaxis\":\"y\",\"type\":\"bar\"},{\"alignmentgroup\":\"True\",\"hovertemplate\":\"sigla_uf=%{x}\\u003cbr\\u003emedia_tx_ap_em=%{y}\\u003cextra\\u003e\\u003c\\u002fextra\\u003e\",\"legendgroup\":\"MT\",\"marker\":{\"color\":\"#FF6692\",\"pattern\":{\"shape\":\"\"}},\"name\":\"MT\",\"offsetgroup\":\"MT\",\"orientation\":\"v\",\"showlegend\":true,\"textposition\":\"auto\",\"x\":[\"MT\"],\"xaxis\":\"x\",\"y\":[71.05],\"yaxis\":\"y\",\"type\":\"bar\"},{\"alignmentgroup\":\"True\",\"hovertemplate\":\"sigla_uf=%{x}\\u003cbr\\u003emedia_tx_ap_em=%{y}\\u003cextra\\u003e\\u003c\\u002fextra\\u003e\",\"legendgroup\":\"AL\",\"marker\":{\"color\":\"#B6E880\",\"pattern\":{\"shape\":\"\"}},\"name\":\"AL\",\"offsetgroup\":\"AL\",\"orientation\":\"v\",\"showlegend\":true,\"textposition\":\"auto\",\"x\":[\"AL\"],\"xaxis\":\"x\",\"y\":[71.98333333333333],\"yaxis\":\"y\",\"type\":\"bar\"},{\"alignmentgroup\":\"True\",\"hovertemplate\":\"sigla_uf=%{x}\\u003cbr\\u003emedia_tx_ap_em=%{y}\\u003cextra\\u003e\\u003c\\u002fextra\\u003e\",\"legendgroup\":\"RN\",\"marker\":{\"color\":\"#FF97FF\",\"pattern\":{\"shape\":\"\"}},\"name\":\"RN\",\"offsetgroup\":\"RN\",\"orientation\":\"v\",\"showlegend\":true,\"textposition\":\"auto\",\"x\":[\"RN\"],\"xaxis\":\"x\",\"y\":[72.08333333333333],\"yaxis\":\"y\",\"type\":\"bar\"},{\"alignmentgroup\":\"True\",\"hovertemplate\":\"sigla_uf=%{x}\\u003cbr\\u003emedia_tx_ap_em=%{y}\\u003cextra\\u003e\\u003c\\u002fextra\\u003e\",\"legendgroup\":\"PI\",\"marker\":{\"color\":\"#FECB52\",\"pattern\":{\"shape\":\"\"}},\"name\":\"PI\",\"offsetgroup\":\"PI\",\"orientation\":\"v\",\"showlegend\":true,\"textposition\":\"auto\",\"x\":[\"PI\"],\"xaxis\":\"x\",\"y\":[72.43333333333334],\"yaxis\":\"y\",\"type\":\"bar\"},{\"alignmentgroup\":\"True\",\"hovertemplate\":\"sigla_uf=%{x}\\u003cbr\\u003emedia_tx_ap_em=%{y}\\u003cextra\\u003e\\u003c\\u002fextra\\u003e\",\"legendgroup\":\"MS\",\"marker\":{\"color\":\"#636efa\",\"pattern\":{\"shape\":\"\"}},\"name\":\"MS\",\"offsetgroup\":\"MS\",\"orientation\":\"v\",\"showlegend\":true,\"textposition\":\"auto\",\"x\":[\"MS\"],\"xaxis\":\"x\",\"y\":[72.46666666666667],\"yaxis\":\"y\",\"type\":\"bar\"},{\"alignmentgroup\":\"True\",\"hovertemplate\":\"sigla_uf=%{x}\\u003cbr\\u003emedia_tx_ap_em=%{y}\\u003cextra\\u003e\\u003c\\u002fextra\\u003e\",\"legendgroup\":\"PB\",\"marker\":{\"color\":\"#EF553B\",\"pattern\":{\"shape\":\"\"}},\"name\":\"PB\",\"offsetgroup\":\"PB\",\"orientation\":\"v\",\"showlegend\":true,\"textposition\":\"auto\",\"x\":[\"PB\"],\"xaxis\":\"x\",\"y\":[74.48333333333333],\"yaxis\":\"y\",\"type\":\"bar\"},{\"alignmentgroup\":\"True\",\"hovertemplate\":\"sigla_uf=%{x}\\u003cbr\\u003emedia_tx_ap_em=%{y}\\u003cextra\\u003e\\u003c\\u002fextra\\u003e\",\"legendgroup\":\"media\",\"marker\":{\"color\":\"#00cc96\",\"pattern\":{\"shape\":\"\"}},\"name\":\"media\",\"offsetgroup\":\"media\",\"orientation\":\"v\",\"showlegend\":true,\"textposition\":\"auto\",\"x\":[\"media\"],\"xaxis\":\"x\",\"y\":[75.29444444444444],\"yaxis\":\"y\",\"type\":\"bar\"},{\"alignmentgroup\":\"True\",\"hovertemplate\":\"sigla_uf=%{x}\\u003cbr\\u003emedia_tx_ap_em=%{y}\\u003cextra\\u003e\\u003c\\u002fextra\\u003e\",\"legendgroup\":\"DF\",\"marker\":{\"color\":\"#ab63fa\",\"pattern\":{\"shape\":\"\"}},\"name\":\"DF\",\"offsetgroup\":\"DF\",\"orientation\":\"v\",\"showlegend\":true,\"textposition\":\"auto\",\"x\":[\"DF\"],\"xaxis\":\"x\",\"y\":[75.46666666666665],\"yaxis\":\"y\",\"type\":\"bar\"},{\"alignmentgroup\":\"True\",\"hovertemplate\":\"sigla_uf=%{x}\\u003cbr\\u003emedia_tx_ap_em=%{y}\\u003cextra\\u003e\\u003c\\u002fextra\\u003e\",\"legendgroup\":\"RO\",\"marker\":{\"color\":\"#FFA15A\",\"pattern\":{\"shape\":\"\"}},\"name\":\"RO\",\"offsetgroup\":\"RO\",\"orientation\":\"v\",\"showlegend\":true,\"textposition\":\"auto\",\"x\":[\"RO\"],\"xaxis\":\"x\",\"y\":[75.61666666666666],\"yaxis\":\"y\",\"type\":\"bar\"},{\"alignmentgroup\":\"True\",\"hovertemplate\":\"sigla_uf=%{x}\\u003cbr\\u003emedia_tx_ap_em=%{y}\\u003cextra\\u003e\\u003c\\u002fextra\\u003e\",\"legendgroup\":\"ES\",\"marker\":{\"color\":\"#19d3f3\",\"pattern\":{\"shape\":\"\"}},\"name\":\"ES\",\"offsetgroup\":\"ES\",\"orientation\":\"v\",\"showlegend\":true,\"textposition\":\"auto\",\"x\":[\"ES\"],\"xaxis\":\"x\",\"y\":[76.33333333333334],\"yaxis\":\"y\",\"type\":\"bar\"},{\"alignmentgroup\":\"True\",\"hovertemplate\":\"sigla_uf=%{x}\\u003cbr\\u003emedia_tx_ap_em=%{y}\\u003cextra\\u003e\\u003c\\u002fextra\\u003e\",\"legendgroup\":\"MA\",\"marker\":{\"color\":\"#FF6692\",\"pattern\":{\"shape\":\"\"}},\"name\":\"MA\",\"offsetgroup\":\"MA\",\"orientation\":\"v\",\"showlegend\":true,\"textposition\":\"auto\",\"x\":[\"MA\"],\"xaxis\":\"x\",\"y\":[76.71666666666667],\"yaxis\":\"y\",\"type\":\"bar\"},{\"alignmentgroup\":\"True\",\"hovertemplate\":\"sigla_uf=%{x}\\u003cbr\\u003emedia_tx_ap_em=%{y}\\u003cextra\\u003e\\u003c\\u002fextra\\u003e\",\"legendgroup\":\"GO\",\"marker\":{\"color\":\"#B6E880\",\"pattern\":{\"shape\":\"\"}},\"name\":\"GO\",\"offsetgroup\":\"GO\",\"orientation\":\"v\",\"showlegend\":true,\"textposition\":\"auto\",\"x\":[\"GO\"],\"xaxis\":\"x\",\"y\":[76.86666666666666],\"yaxis\":\"y\",\"type\":\"bar\"},{\"alignmentgroup\":\"True\",\"hovertemplate\":\"sigla_uf=%{x}\\u003cbr\\u003emedia_tx_ap_em=%{y}\\u003cextra\\u003e\\u003c\\u002fextra\\u003e\",\"legendgroup\":\"PE\",\"marker\":{\"color\":\"#FF97FF\",\"pattern\":{\"shape\":\"\"}},\"name\":\"PE\",\"offsetgroup\":\"PE\",\"orientation\":\"v\",\"showlegend\":true,\"textposition\":\"auto\",\"x\":[\"PE\"],\"xaxis\":\"x\",\"y\":[77.23333333333333],\"yaxis\":\"y\",\"type\":\"bar\"},{\"alignmentgroup\":\"True\",\"hovertemplate\":\"sigla_uf=%{x}\\u003cbr\\u003emedia_tx_ap_em=%{y}\\u003cextra\\u003e\\u003c\\u002fextra\\u003e\",\"legendgroup\":\"MG\",\"marker\":{\"color\":\"#FECB52\",\"pattern\":{\"shape\":\"\"}},\"name\":\"MG\",\"offsetgroup\":\"MG\",\"orientation\":\"v\",\"showlegend\":true,\"textposition\":\"auto\",\"x\":[\"MG\"],\"xaxis\":\"x\",\"y\":[77.60000000000001],\"yaxis\":\"y\",\"type\":\"bar\"},{\"alignmentgroup\":\"True\",\"hovertemplate\":\"sigla_uf=%{x}\\u003cbr\\u003emedia_tx_ap_em=%{y}\\u003cextra\\u003e\\u003c\\u002fextra\\u003e\",\"legendgroup\":\"AC\",\"marker\":{\"color\":\"#636efa\",\"pattern\":{\"shape\":\"\"}},\"name\":\"AC\",\"offsetgroup\":\"AC\",\"orientation\":\"v\",\"showlegend\":true,\"textposition\":\"auto\",\"x\":[\"AC\"],\"xaxis\":\"x\",\"y\":[78.24999999999999],\"yaxis\":\"y\",\"type\":\"bar\"},{\"alignmentgroup\":\"True\",\"hovertemplate\":\"sigla_uf=%{x}\\u003cbr\\u003emedia_tx_ap_em=%{y}\\u003cextra\\u003e\\u003c\\u002fextra\\u003e\",\"legendgroup\":\"RR\",\"marker\":{\"color\":\"#EF553B\",\"pattern\":{\"shape\":\"\"}},\"name\":\"RR\",\"offsetgroup\":\"RR\",\"orientation\":\"v\",\"showlegend\":true,\"textposition\":\"auto\",\"x\":[\"RR\"],\"xaxis\":\"x\",\"y\":[78.73333333333333],\"yaxis\":\"y\",\"type\":\"bar\"},{\"alignmentgroup\":\"True\",\"hovertemplate\":\"sigla_uf=%{x}\\u003cbr\\u003emedia_tx_ap_em=%{y}\\u003cextra\\u003e\\u003c\\u002fextra\\u003e\",\"legendgroup\":\"AM\",\"marker\":{\"color\":\"#00cc96\",\"pattern\":{\"shape\":\"\"}},\"name\":\"AM\",\"offsetgroup\":\"AM\",\"orientation\":\"v\",\"showlegend\":true,\"textposition\":\"auto\",\"x\":[\"AM\"],\"xaxis\":\"x\",\"y\":[79.53333333333335],\"yaxis\":\"y\",\"type\":\"bar\"},{\"alignmentgroup\":\"True\",\"hovertemplate\":\"sigla_uf=%{x}\\u003cbr\\u003emedia_tx_ap_em=%{y}\\u003cextra\\u003e\\u003c\\u002fextra\\u003e\",\"legendgroup\":\"CE\",\"marker\":{\"color\":\"#ab63fa\",\"pattern\":{\"shape\":\"\"}},\"name\":\"CE\",\"offsetgroup\":\"CE\",\"orientation\":\"v\",\"showlegend\":true,\"textposition\":\"auto\",\"x\":[\"CE\"],\"xaxis\":\"x\",\"y\":[80.41666666666667],\"yaxis\":\"y\",\"type\":\"bar\"},{\"alignmentgroup\":\"True\",\"hovertemplate\":\"sigla_uf=%{x}\\u003cbr\\u003emedia_tx_ap_em=%{y}\\u003cextra\\u003e\\u003c\\u002fextra\\u003e\",\"legendgroup\":\"PR\",\"marker\":{\"color\":\"#FFA15A\",\"pattern\":{\"shape\":\"\"}},\"name\":\"PR\",\"offsetgroup\":\"PR\",\"orientation\":\"v\",\"showlegend\":true,\"textposition\":\"auto\",\"x\":[\"PR\"],\"xaxis\":\"x\",\"y\":[80.41666666666667],\"yaxis\":\"y\",\"type\":\"bar\"},{\"alignmentgroup\":\"True\",\"hovertemplate\":\"sigla_uf=%{x}\\u003cbr\\u003emedia_tx_ap_em=%{y}\\u003cextra\\u003e\\u003c\\u002fextra\\u003e\",\"legendgroup\":\"TO\",\"marker\":{\"color\":\"#19d3f3\",\"pattern\":{\"shape\":\"\"}},\"name\":\"TO\",\"offsetgroup\":\"TO\",\"orientation\":\"v\",\"showlegend\":true,\"textposition\":\"auto\",\"x\":[\"TO\"],\"xaxis\":\"x\",\"y\":[80.76666666666667],\"yaxis\":\"y\",\"type\":\"bar\"},{\"alignmentgroup\":\"True\",\"hovertemplate\":\"sigla_uf=%{x}\\u003cbr\\u003emedia_tx_ap_em=%{y}\\u003cextra\\u003e\\u003c\\u002fextra\\u003e\",\"legendgroup\":\"SP\",\"marker\":{\"color\":\"#FF6692\",\"pattern\":{\"shape\":\"\"}},\"name\":\"SP\",\"offsetgroup\":\"SP\",\"orientation\":\"v\",\"showlegend\":true,\"textposition\":\"auto\",\"x\":[\"SP\"],\"xaxis\":\"x\",\"y\":[81.8],\"yaxis\":\"y\",\"type\":\"bar\"},{\"alignmentgroup\":\"True\",\"hovertemplate\":\"sigla_uf=%{x}\\u003cbr\\u003emedia_tx_ap_em=%{y}\\u003cextra\\u003e\\u003c\\u002fextra\\u003e\",\"legendgroup\":\"SC\",\"marker\":{\"color\":\"#B6E880\",\"pattern\":{\"shape\":\"\"}},\"name\":\"SC\",\"offsetgroup\":\"SC\",\"orientation\":\"v\",\"showlegend\":true,\"textposition\":\"auto\",\"x\":[\"SC\"],\"xaxis\":\"x\",\"y\":[83.55],\"yaxis\":\"y\",\"type\":\"bar\"}],                        {\"template\":{\"data\":{\"histogram2dcontour\":[{\"type\":\"histogram2dcontour\",\"colorbar\":{\"outlinewidth\":0,\"ticks\":\"\"},\"colorscale\":[[0.0,\"#0d0887\"],[0.1111111111111111,\"#46039f\"],[0.2222222222222222,\"#7201a8\"],[0.3333333333333333,\"#9c179e\"],[0.4444444444444444,\"#bd3786\"],[0.5555555555555556,\"#d8576b\"],[0.6666666666666666,\"#ed7953\"],[0.7777777777777778,\"#fb9f3a\"],[0.8888888888888888,\"#fdca26\"],[1.0,\"#f0f921\"]]}],\"choropleth\":[{\"type\":\"choropleth\",\"colorbar\":{\"outlinewidth\":0,\"ticks\":\"\"}}],\"histogram2d\":[{\"type\":\"histogram2d\",\"colorbar\":{\"outlinewidth\":0,\"ticks\":\"\"},\"colorscale\":[[0.0,\"#0d0887\"],[0.1111111111111111,\"#46039f\"],[0.2222222222222222,\"#7201a8\"],[0.3333333333333333,\"#9c179e\"],[0.4444444444444444,\"#bd3786\"],[0.5555555555555556,\"#d8576b\"],[0.6666666666666666,\"#ed7953\"],[0.7777777777777778,\"#fb9f3a\"],[0.8888888888888888,\"#fdca26\"],[1.0,\"#f0f921\"]]}],\"heatmap\":[{\"type\":\"heatmap\",\"colorbar\":{\"outlinewidth\":0,\"ticks\":\"\"},\"colorscale\":[[0.0,\"#0d0887\"],[0.1111111111111111,\"#46039f\"],[0.2222222222222222,\"#7201a8\"],[0.3333333333333333,\"#9c179e\"],[0.4444444444444444,\"#bd3786\"],[0.5555555555555556,\"#d8576b\"],[0.6666666666666666,\"#ed7953\"],[0.7777777777777778,\"#fb9f3a\"],[0.8888888888888888,\"#fdca26\"],[1.0,\"#f0f921\"]]}],\"heatmapgl\":[{\"type\":\"heatmapgl\",\"colorbar\":{\"outlinewidth\":0,\"ticks\":\"\"},\"colorscale\":[[0.0,\"#0d0887\"],[0.1111111111111111,\"#46039f\"],[0.2222222222222222,\"#7201a8\"],[0.3333333333333333,\"#9c179e\"],[0.4444444444444444,\"#bd3786\"],[0.5555555555555556,\"#d8576b\"],[0.6666666666666666,\"#ed7953\"],[0.7777777777777778,\"#fb9f3a\"],[0.8888888888888888,\"#fdca26\"],[1.0,\"#f0f921\"]]}],\"contourcarpet\":[{\"type\":\"contourcarpet\",\"colorbar\":{\"outlinewidth\":0,\"ticks\":\"\"}}],\"contour\":[{\"type\":\"contour\",\"colorbar\":{\"outlinewidth\":0,\"ticks\":\"\"},\"colorscale\":[[0.0,\"#0d0887\"],[0.1111111111111111,\"#46039f\"],[0.2222222222222222,\"#7201a8\"],[0.3333333333333333,\"#9c179e\"],[0.4444444444444444,\"#bd3786\"],[0.5555555555555556,\"#d8576b\"],[0.6666666666666666,\"#ed7953\"],[0.7777777777777778,\"#fb9f3a\"],[0.8888888888888888,\"#fdca26\"],[1.0,\"#f0f921\"]]}],\"surface\":[{\"type\":\"surface\",\"colorbar\":{\"outlinewidth\":0,\"ticks\":\"\"},\"colorscale\":[[0.0,\"#0d0887\"],[0.1111111111111111,\"#46039f\"],[0.2222222222222222,\"#7201a8\"],[0.3333333333333333,\"#9c179e\"],[0.4444444444444444,\"#bd3786\"],[0.5555555555555556,\"#d8576b\"],[0.6666666666666666,\"#ed7953\"],[0.7777777777777778,\"#fb9f3a\"],[0.8888888888888888,\"#fdca26\"],[1.0,\"#f0f921\"]]}],\"mesh3d\":[{\"type\":\"mesh3d\",\"colorbar\":{\"outlinewidth\":0,\"ticks\":\"\"}}],\"scatter\":[{\"fillpattern\":{\"fillmode\":\"overlay\",\"size\":10,\"solidity\":0.2},\"type\":\"scatter\"}],\"parcoords\":[{\"type\":\"parcoords\",\"line\":{\"colorbar\":{\"outlinewidth\":0,\"ticks\":\"\"}}}],\"scatterpolargl\":[{\"type\":\"scatterpolargl\",\"marker\":{\"colorbar\":{\"outlinewidth\":0,\"ticks\":\"\"}}}],\"bar\":[{\"error_x\":{\"color\":\"#2a3f5f\"},\"error_y\":{\"color\":\"#2a3f5f\"},\"marker\":{\"line\":{\"color\":\"#E5ECF6\",\"width\":0.5},\"pattern\":{\"fillmode\":\"overlay\",\"size\":10,\"solidity\":0.2}},\"type\":\"bar\"}],\"scattergeo\":[{\"type\":\"scattergeo\",\"marker\":{\"colorbar\":{\"outlinewidth\":0,\"ticks\":\"\"}}}],\"scatterpolar\":[{\"type\":\"scatterpolar\",\"marker\":{\"colorbar\":{\"outlinewidth\":0,\"ticks\":\"\"}}}],\"histogram\":[{\"marker\":{\"pattern\":{\"fillmode\":\"overlay\",\"size\":10,\"solidity\":0.2}},\"type\":\"histogram\"}],\"scattergl\":[{\"type\":\"scattergl\",\"marker\":{\"colorbar\":{\"outlinewidth\":0,\"ticks\":\"\"}}}],\"scatter3d\":[{\"type\":\"scatter3d\",\"line\":{\"colorbar\":{\"outlinewidth\":0,\"ticks\":\"\"}},\"marker\":{\"colorbar\":{\"outlinewidth\":0,\"ticks\":\"\"}}}],\"scattermapbox\":[{\"type\":\"scattermapbox\",\"marker\":{\"colorbar\":{\"outlinewidth\":0,\"ticks\":\"\"}}}],\"scatterternary\":[{\"type\":\"scatterternary\",\"marker\":{\"colorbar\":{\"outlinewidth\":0,\"ticks\":\"\"}}}],\"scattercarpet\":[{\"type\":\"scattercarpet\",\"marker\":{\"colorbar\":{\"outlinewidth\":0,\"ticks\":\"\"}}}],\"carpet\":[{\"aaxis\":{\"endlinecolor\":\"#2a3f5f\",\"gridcolor\":\"white\",\"linecolor\":\"white\",\"minorgridcolor\":\"white\",\"startlinecolor\":\"#2a3f5f\"},\"baxis\":{\"endlinecolor\":\"#2a3f5f\",\"gridcolor\":\"white\",\"linecolor\":\"white\",\"minorgridcolor\":\"white\",\"startlinecolor\":\"#2a3f5f\"},\"type\":\"carpet\"}],\"table\":[{\"cells\":{\"fill\":{\"color\":\"#EBF0F8\"},\"line\":{\"color\":\"white\"}},\"header\":{\"fill\":{\"color\":\"#C8D4E3\"},\"line\":{\"color\":\"white\"}},\"type\":\"table\"}],\"barpolar\":[{\"marker\":{\"line\":{\"color\":\"#E5ECF6\",\"width\":0.5},\"pattern\":{\"fillmode\":\"overlay\",\"size\":10,\"solidity\":0.2}},\"type\":\"barpolar\"}],\"pie\":[{\"automargin\":true,\"type\":\"pie\"}]},\"layout\":{\"autotypenumbers\":\"strict\",\"colorway\":[\"#636efa\",\"#EF553B\",\"#00cc96\",\"#ab63fa\",\"#FFA15A\",\"#19d3f3\",\"#FF6692\",\"#B6E880\",\"#FF97FF\",\"#FECB52\"],\"font\":{\"color\":\"#2a3f5f\"},\"hovermode\":\"closest\",\"hoverlabel\":{\"align\":\"left\"},\"paper_bgcolor\":\"white\",\"plot_bgcolor\":\"#E5ECF6\",\"polar\":{\"bgcolor\":\"#E5ECF6\",\"angularaxis\":{\"gridcolor\":\"white\",\"linecolor\":\"white\",\"ticks\":\"\"},\"radialaxis\":{\"gridcolor\":\"white\",\"linecolor\":\"white\",\"ticks\":\"\"}},\"ternary\":{\"bgcolor\":\"#E5ECF6\",\"aaxis\":{\"gridcolor\":\"white\",\"linecolor\":\"white\",\"ticks\":\"\"},\"baxis\":{\"gridcolor\":\"white\",\"linecolor\":\"white\",\"ticks\":\"\"},\"caxis\":{\"gridcolor\":\"white\",\"linecolor\":\"white\",\"ticks\":\"\"}},\"coloraxis\":{\"colorbar\":{\"outlinewidth\":0,\"ticks\":\"\"}},\"colorscale\":{\"sequential\":[[0.0,\"#0d0887\"],[0.1111111111111111,\"#46039f\"],[0.2222222222222222,\"#7201a8\"],[0.3333333333333333,\"#9c179e\"],[0.4444444444444444,\"#bd3786\"],[0.5555555555555556,\"#d8576b\"],[0.6666666666666666,\"#ed7953\"],[0.7777777777777778,\"#fb9f3a\"],[0.8888888888888888,\"#fdca26\"],[1.0,\"#f0f921\"]],\"sequentialminus\":[[0.0,\"#0d0887\"],[0.1111111111111111,\"#46039f\"],[0.2222222222222222,\"#7201a8\"],[0.3333333333333333,\"#9c179e\"],[0.4444444444444444,\"#bd3786\"],[0.5555555555555556,\"#d8576b\"],[0.6666666666666666,\"#ed7953\"],[0.7777777777777778,\"#fb9f3a\"],[0.8888888888888888,\"#fdca26\"],[1.0,\"#f0f921\"]],\"diverging\":[[0,\"#8e0152\"],[0.1,\"#c51b7d\"],[0.2,\"#de77ae\"],[0.3,\"#f1b6da\"],[0.4,\"#fde0ef\"],[0.5,\"#f7f7f7\"],[0.6,\"#e6f5d0\"],[0.7,\"#b8e186\"],[0.8,\"#7fbc41\"],[0.9,\"#4d9221\"],[1,\"#276419\"]]},\"xaxis\":{\"gridcolor\":\"white\",\"linecolor\":\"white\",\"ticks\":\"\",\"title\":{\"standoff\":15},\"zerolinecolor\":\"white\",\"automargin\":true,\"zerolinewidth\":2},\"yaxis\":{\"gridcolor\":\"white\",\"linecolor\":\"white\",\"ticks\":\"\",\"title\":{\"standoff\":15},\"zerolinecolor\":\"white\",\"automargin\":true,\"zerolinewidth\":2},\"scene\":{\"xaxis\":{\"backgroundcolor\":\"#E5ECF6\",\"gridcolor\":\"white\",\"linecolor\":\"white\",\"showbackground\":true,\"ticks\":\"\",\"zerolinecolor\":\"white\",\"gridwidth\":2},\"yaxis\":{\"backgroundcolor\":\"#E5ECF6\",\"gridcolor\":\"white\",\"linecolor\":\"white\",\"showbackground\":true,\"ticks\":\"\",\"zerolinecolor\":\"white\",\"gridwidth\":2},\"zaxis\":{\"backgroundcolor\":\"#E5ECF6\",\"gridcolor\":\"white\",\"linecolor\":\"white\",\"showbackground\":true,\"ticks\":\"\",\"zerolinecolor\":\"white\",\"gridwidth\":2}},\"shapedefaults\":{\"line\":{\"color\":\"#2a3f5f\"}},\"annotationdefaults\":{\"arrowcolor\":\"#2a3f5f\",\"arrowhead\":0,\"arrowwidth\":1},\"geo\":{\"bgcolor\":\"white\",\"landcolor\":\"#E5ECF6\",\"subunitcolor\":\"white\",\"showland\":true,\"showlakes\":true,\"lakecolor\":\"white\"},\"title\":{\"x\":0.05},\"mapbox\":{\"style\":\"light\"}}},\"xaxis\":{\"anchor\":\"y\",\"domain\":[0.0,1.0],\"title\":{\"text\":\"sigla_uf\"},\"categoryorder\":\"array\",\"categoryarray\":[\"PA\",\"RS\",\"RJ\",\"AP\",\"BA\",\"SE\",\"MT\",\"AL\",\"RN\",\"PI\",\"MS\",\"PB\",\"media\",\"DF\",\"RO\",\"ES\",\"MA\",\"GO\",\"PE\",\"MG\",\"AC\",\"RR\",\"AM\",\"CE\",\"PR\",\"TO\",\"SP\",\"SC\"]},\"yaxis\":{\"anchor\":\"x\",\"domain\":[0.0,1.0],\"title\":{\"text\":\"media_tx_ap_em\"}},\"legend\":{\"title\":{\"text\":\"sigla_uf\"},\"tracegroupgap\":0},\"margin\":{\"t\":60},\"barmode\":\"relative\"},                        {\"responsive\": true}                    ).then(function(){\n",
       "                            \n",
       "var gd = document.getElementById('b9eba672-bd31-4aed-a39b-cc776b3613fd');\n",
       "var x = new MutationObserver(function (mutations, observer) {{\n",
       "        var display = window.getComputedStyle(gd).display;\n",
       "        if (!display || display === 'none') {{\n",
       "            console.log([gd, 'removed!']);\n",
       "            Plotly.purge(gd);\n",
       "            observer.disconnect();\n",
       "        }}\n",
       "}});\n",
       "\n",
       "// Listen for the removal of the full notebook cells\n",
       "var notebookContainer = gd.closest('#notebook-container');\n",
       "if (notebookContainer) {{\n",
       "    x.observe(notebookContainer, {childList: true});\n",
       "}}\n",
       "\n",
       "// Listen for the clearing of the current output cell\n",
       "var outputEl = gd.closest('.output');\n",
       "if (outputEl) {{\n",
       "    x.observe(outputEl, {childList: true});\n",
       "}}\n",
       "\n",
       "                        })                };                });            </script>        </div>"
      ]
     },
     "metadata": {},
     "output_type": "display_data"
    }
   ],
   "source": [
    "#grafico que mostra a taxa de aprovação no ensino médio média anual do periodo (2007 - 2012)\n",
    "\n",
    "#como a média anual do periodo é a mesma em todos os anos, fiz uma filtragem na tabela para não deixar o grafico pontilhado\n",
    "ano = df_final.loc[df_final[\"ano\"] == 2012]\n",
    "\n",
    "#grafico gerado pela base df_final que esta ordenada pela media anual da taxa de aprovacão no ensino medio,\n",
    "# eixo y será o a aprovação, eixo x os estados\n",
    "graf_pib = px.bar(ano.sort_values(\"media_tx_ap_em\"),y='media_tx_ap_em' ,x ='sigla_uf',color = 'sigla_uf')\n",
    "graf_pib.show()"
   ]
  }
 ],
 "metadata": {
  "kernelspec": {
   "display_name": "Python 3 (ipykernel)",
   "language": "python",
   "name": "python3"
  },
  "language_info": {
   "codemirror_mode": {
    "name": "ipython",
    "version": 3
   },
   "file_extension": ".py",
   "mimetype": "text/x-python",
   "name": "python",
   "nbconvert_exporter": "python",
   "pygments_lexer": "ipython3",
   "version": "3.12.2"
  }
 },
 "nbformat": 4,
 "nbformat_minor": 5
}
